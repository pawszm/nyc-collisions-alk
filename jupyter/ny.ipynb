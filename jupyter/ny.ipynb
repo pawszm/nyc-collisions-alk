{
 "cells": [
  {
   "cell_type": "markdown",
   "id": "79b10cd2-b448-4d8c-bb81-61a565524bec",
   "metadata": {},
   "source": [
    "# Projekt zaliczeniowy, analizy danych o kolizjach w mieście Nowy Jork\n",
    "\n",
    "**Celem projektu jest**:\n",
    "- Wczytanie danych z pliku csv nypd-motor-vehicle-collisions.csv\n",
    "- Wyczyszczenie danych\n",
    "- transformacja danych\n",
    "- Analiza danych zgodnie z tematami przedstawionymi poniżej i przedstawienie wyników oraz wniosków."
   ]
  },
  {
   "cell_type": "markdown",
   "id": "b36781fd-e0ed-4983-b79c-18b9c0c56d51",
   "metadata": {},
   "source": [
    "## Tematy projektu\n",
    "\n",
    "### Wstęp odnośnie podziału administracyjnego miasta Nowy Jork.\n",
    "Nowy Jork dzieli się na pięć okręgów określanych mianem *boroughs*, do okręgów zaliczamy Manhattan, Bronx, Brooklyn, Queens, Staten Island.\\\n",
    "Dodatkowo okręgi dzielielą sie na mniejsze dzielą się na mniejsze obszry zwane sąsiedztwami *neighborhood*.\\\n",
    "Terminologia okręgów i sąsiedztw bedzie stosowana w dalszej częsci pracy do określania obszarów miasta Nowy Jork.\\\n",
    "Źródło: [Wikipedia](https://pl.wikipedia.org/wiki/Nowy_Jork)\n",
    "\n",
    "- Sprawdzenie danych, opisanie ich i przygotowanie do dalszych analiz.\n",
    "- Określenie najniebezpieczniejszych czynników wypadków w każdym z okręgów (boroughs) i sąsiedztw (neighborhood).\n",
    "- Ilość zgonów oraz rannych spowodowanych przez szybką jazdę w każdym z okręgów i sąsiedztw.\n",
    "- Określenie czterch najczęstrzych czynników, wypadkóœ z podziałem na okręgi, sąsiedztwa oraz ogółem dla całego miasta.\n",
    "- Określenie jakie pojazdy najczęściej uczestniczyły w wypadkach.\n",
    "- Statystyka ilości wypadków dla każdej z dzielnic.\n",
    "- Wnioski."
   ]
  },
  {
   "cell_type": "markdown",
   "id": "aef14fde-92ad-4031-a9e8-705b96e780a3",
   "metadata": {
    "jp-MarkdownHeadingCollapsed": true
   },
   "source": [
    "### Sprawdzenie danych, opisanie ich i przygotowanie do dalszych analiz.\n",
    "\n",
    "Ponieważ dane zawarte w pliku nypd-motor-vehicle-collisions.csv są mocno problematyczne ponieważ nie posiadają żadnych opisów co do zawartości kolumn i sposobu ich interpretacji, przyjmuję następujące założenia:\n",
    "- Pojazdy uczestniczące w kolizji znajdują się w kolumnach 'VEHICLE TYPE CODE 1', 'VEHICLE TYPE CODE 2','VEHICLE TYPE CODE 3', 'VEHICLE TYPE CODE 4', 'VEHICLE TYPE CODE 5', w konsekwencji w pojedynczej kolizji nie może uczesticzyć więcej niż 5 pojazdów.\n",
    "- Czynniki kolizji znajdują się w 5 kolumnach CONTRIBUTING FACTOR VEHICLE 1', 'CONTRIBUTING FACTOR VEHICLE 2', 'CONTRIBUTING FACTOR VEHICLE 3', 'CONTRIBUTING FACTOR VEHICLE 4', 'CONTRIBUTING FACTOR VEHICLE 5' i mogą dotyczyć maksymalnie 5 pojazdów z punktu powyżej i odpowiadją odpowiednio kolumnom 'VEHICLE TYPE CODE 1', 'VEHICLE TYPE CODE 2','VEHICLE TYPE CODE 3', 'VEHICLE TYPE CODE 4', 'VEHICLE TYPE CODE 5'.\n",
    "- Zakładam że każdy wiersz jest opisem pojedynczej kolizji w związku z czym pojedyncza kolizja nie znajduje się w wielu wierszach dataset.\n",
    "- Zkładam że kolumna *'NUMBER OF PERSONS INJURED'* jest sumą kolumn *'NUMBER OF PEDESTRIANS INJURED'*, *'NUMBER OF CYCLIST INJURED'*, *'NUMBER OF MOTORIST INJURED'*\n",
    "- Zkładam że kolumna *'NUMBER OF PERSONS KILLED'* jest sumą kolumn *'NUMBER OF PEDESTRIANS KILLED'*, *'NUMBER OF CYCLIST KILLED'*, *'NUMBER OF MOTORIST KILLED'*"
   ]
  },
  {
   "cell_type": "markdown",
   "id": "d30f13a1-a537-4c2d-8e40-7ca6ec7009cf",
   "metadata": {},
   "source": [
    "#### Wczytanie danych z pliku nypd-motor-vehicle-collisions.csv\n",
    "\n",
    "**Problemy:**\n",
    "- Dane w kolumny *'ZIP CODE'* składają się z cyfr, białych znaków i wartości NaN, pandas traktuje kolumnę jako składającą się z typu danych mmieszanych.\n",
    "- Dane w kolumnie *'ACCIDENT DATE'* są w postaci ciągu znaków.\n",
    "\n",
    "**Rozwiązanie:**\n",
    "- Wczytanie kolumny *'ZIP CODE'* jako typ danych string (str)\n",
    "- Wczytanie kolumny *'ACCIDENT DATE'* jako typ danych datetime64"
   ]
  },
  {
   "cell_type": "code",
   "execution_count": null,
   "id": "b9f259a7-5109-439c-ba45-d2e23d9fca5c",
   "metadata": {},
   "outputs": [],
   "source": [
    "import pandas as pd\n",
    "import numpy as np\n",
    "from  tqdm.notebook import tqdm\n",
    "from shapely import wkt\n",
    "import geopandas\n",
    "import geodatasets\n",
    "import matplotlib.pyplot as plt\n",
    "import os"
   ]
  },
  {
   "cell_type": "code",
   "execution_count": null,
   "id": "0bdd72dd-5800-4b91-8108-b74284eda2fe",
   "metadata": {},
   "outputs": [],
   "source": [
    "nyc_collisions = pd.read_csv(\"data/nypd-motor-vehicle-collisions.csv\",dtype={\"ZIP CODE\":'str'}, parse_dates=[\"ACCIDENT DATE\"])"
   ]
  },
  {
   "cell_type": "markdown",
   "id": "4c796fbd-fb6d-4709-a7cc-e8c2263f650a",
   "metadata": {
    "jp-MarkdownHeadingCollapsed": true
   },
   "source": [
    "#### Podstawowe informacje o wczytanym DataFrame\n",
    "Wczytany DataFrame nyc_collisions posiada 1 612 178 wierszy w 29 kolumnach.\n",
    "\n",
    "Informacje o kolumnach DataFrame nyc_collisions, które będą używanew dalszych analizach:\n",
    "* **ACCIDENT DATE**: Data wypadku, podczas wczytywania kolumna przekształcona na typ danych 'datetime64[ns]'.\n",
    "* **COLLISION_ID**: Identyfiktor kolizji, typ danych 'int'.\n",
    "* **LATITUDE**: szerokość geograficzna, typ danych 'float'.\n",
    "* **LONGITUDE**: długość geograficzna, typ danych 'float'.\n",
    "* **LOCATION**: lokalizacja geograficzna w postaci punktu, typ danych 'str'..\n",
    "* **CONTRIBUTING FACTOR VEHICLE**: Kolumny opisujące czynniki, które doprowadziły do kolizji, typ danych 'str'.\n",
    "* **VEHICLE TYPE CODE**: Kolumny opisujące typy pojazdów uczestniczących w kolizji.\n",
    "* **NUMBER OF PERSONS INJURED**: Liczba osób rannych w kolizji ogółem.\n",
    "* **NUMBER OF PERSONS KILLED**: Liczba osób zabitych w kolizjji ogółem.\n",
    "* **NUMBER OF PEDESTRIANS INJURED**: Liczba pieszych rannych w kolizji.\n",
    "* **NUMBER OF PEDESTRIANS KILLED**: Liczba pieszych zabitych w kolizji.\n",
    "* **NUMBER OF CYCLIST INJURED**: Liczba rannych rowerzystów.\n",
    "* **NUMBER OF CYCLIST KILLED**: Liczba zabitych rowerzystów.\n",
    "* **NUMBER OF MOTORIST INJURED**: Liczba rannych zmotoryzowanych.\n",
    "* **NUMBER OF MOTORIST KILLED**: Liczba zabitych zmotoryzowanych."
   ]
  },
  {
   "cell_type": "raw",
   "id": "202be6e6-be3b-4eee-bcc4-d0ea4ddc36fd",
   "metadata": {},
   "source": [
    "# Podstawowe informacje o DataFrame ny_colision\n",
    "nyc_collisions.shape"
   ]
  },
  {
   "cell_type": "raw",
   "id": "60111cd5-7f9f-4099-bd10-6a60eba9175b",
   "metadata": {},
   "source": [
    "# Nazwy kolumn DataFrame ny_colision\n",
    "nyc_collisions.columns"
   ]
  },
  {
   "cell_type": "raw",
   "id": "e5f672c3-6d9b-4edc-87f1-58bc4152a603",
   "metadata": {},
   "source": [
    "# Typy danych w poszczególnych kolumnach\n",
    "nyc_collisions.dtypes"
   ]
  },
  {
   "cell_type": "markdown",
   "id": "a8f03f8c-495e-44cf-8665-a90d25f72552",
   "metadata": {
    "jp-MarkdownHeadingCollapsed": true
   },
   "source": [
    "#### Czyszczenie i sprawdzenie danych w dataframe"
   ]
  },
  {
   "cell_type": "markdown",
   "id": "31d049d1-1aaa-4fe3-a813-8db41b72a3cf",
   "metadata": {},
   "source": [
    "##### Kolumna COLLISION_ID\n",
    "\n",
    "Identyfikator kolizji.\n",
    "Kolumna zawiera dane typu int64 i będzie używana do jednoznaczego identyfikowania wierszy dataframe nyc_collisions.\n",
    "Wszystkie wartości w tej kolumnie muszą być unikalne i nie mogą posiadać wartości \"pustych\" (NaN, None)\n",
    "\n",
    "**Problemy:**\n",
    "Identyfikatory kolizji powielają się.\n",
    "\n",
    "**Rozwiązanie:**\n",
    "Analiza danych w kolumnie wykazała że niektóre identyfikatory w dataframe powielają się. Powielone identyfikatory powtarzają się maksymalnie 2 razy. Wszystkie wartości w kolumnch dla powielonych wierszy są identyczne. Usuwam duplikaty metodą drop_duplicates, wskazując kolumnę *COLLISION_ID* do identyfikacji duplikatów."
   ]
  },
  {
   "cell_type": "raw",
   "id": "0f61476b-216b-4d1d-9634-ce2aaa361628",
   "metadata": {},
   "source": [
    "# typ danych\n",
    "nyc_collisions[\"COLLISION_ID\"].dtype"
   ]
  },
  {
   "cell_type": "raw",
   "id": "a04abd91-584d-495e-ac1b-a06c38ff89ed",
   "metadata": {},
   "source": [
    "# czy są komórki nie uzupełnione (NaN, None)\n",
    "nyc_collisions[\"COLLISION_ID\"].isna().sum()"
   ]
  },
  {
   "cell_type": "code",
   "execution_count": null,
   "id": "d8556dbe-bcd2-405d-beee-d4e92104743a",
   "metadata": {},
   "outputs": [],
   "source": [
    "# Ile wierszy w dataframe jest nie unikalnych\n",
    "non_uniq_values = (nyc_collisions[\"COLLISION_ID\"].value_counts() > 1).sum()\n",
    "# non_uniq_values"
   ]
  },
  {
   "cell_type": "raw",
   "id": "643bd2bf-acda-4a19-a994-1dd8b8d9eaf8",
   "metadata": {},
   "source": [
    "# Maksymalne i minimalne ilości wartości identyfikatorów (w jakich minimalnych i maksymalnych ilościach powielają się identyfikatory)\n",
    "nyc_collisions[\"COLLISION_ID\"].value_counts().agg([\"min\",\"max\"])"
   ]
  },
  {
   "cell_type": "raw",
   "id": "ab7e7c59-162d-4427-8da0-88d82b95b407",
   "metadata": {},
   "source": [
    "# \"COLLISION_ID\"\n",
    "# Funkcja grupuje DataFrame df po kolumnie col, wyszukuje grupy które zawierają więcej niż 1 wiersz i\n",
    "# sprawdza czy wartości w zgrupowanych kolumnach są różne.\n",
    "# Funkcja zwraca słownik gdzie klucz to wartość grupowanej kolumny, a wrtość to lista kolumn, które się różnią\n",
    "# W przypadku gdy funkcja zwróci pusty słownik, dataframe df albo nie posiada zduplikowanych wierszy albo wszystkie kolumny\n",
    "# w zduplikowanych wierszach posiadają identyczne wartości\n",
    "def no_unique_columns(df,col):\n",
    "    no_uniq = {} # {zduplikowana_wartość:[nazwa_kolumy_1_z_róznymi_wartościami,nazwa_kolumy_2_z_róznymi_wartościami,...}\n",
    "    for g in tqdm(df.groupby(col)):\n",
    "        if len(g[1]) > 1:\n",
    "            # Jeżeli są duplikaty badamy wartości w odpowiednich kolumnach\n",
    "            for c in g[1].columns:\n",
    "                if len(g[1][c].unique()) > 1:\n",
    "                    # wartość zduplikowana (g[0]), posiada rózne wartości w dopowiednich kolumnach. Dodajemy informacje do słownika\n",
    "                    if g[0] in no_uniq:\n",
    "                        no_uniq[g[0]].append(c)\n",
    "                    else:\n",
    "                        no_uniq[g[0]] = [c]\n",
    "    return no_uniq\n",
    "# test unikalności wartości. Chwilkę może potrwać ... (4 min.)\n",
    "nuq = no_unique_columns(nyc_collisions,\"COLLISION_ID\")\n",
    "nuq"
   ]
  },
  {
   "cell_type": "code",
   "execution_count": null,
   "id": "f6d6e9bf-701e-4821-a663-c0094108301a",
   "metadata": {},
   "outputs": [],
   "source": [
    "# Wszystkie wiersze z zdupliownymi wartościami COLLISION_ID mają również zduplikowane wartości w innych wszystkich kolumnach.\n",
    "# Czyli inaczej mówiąc wiersze co do wartości w poszcególnych kolumnach są identyczne.\n",
    "# Czyszczę DataFrame\n",
    "count_row_before_drop = len(nyc_collisions)\n",
    "nyc_collisions = nyc_collisions.drop_duplicates(\"COLLISION_ID\")\n",
    "count_row_after_drop = len(nyc_collisions)\n",
    "print(f\"Ilość wierszy przed czyszczeniem: {count_row_before_drop}\\nIlość wierszy po wyczyszczeniu: {count_row_after_drop}\\nIlość wierszy usuniętych: {count_row_before_drop-count_row_after_drop}\")\n",
    "print(f\"Wierszy z nieunikalnymi wartościami w kolumnie COLLISION_ID było {non_uniq_values}\")"
   ]
  },
  {
   "cell_type": "code",
   "execution_count": null,
   "id": "66f5964c-f2b2-4db4-af48-801d440ec581",
   "metadata": {},
   "outputs": [],
   "source": [
    "# czyszczenie nie używanych zmiennych\n",
    "del(non_uniq_values)\n",
    "del(count_row_before_drop)\n",
    "del(count_row_after_drop)"
   ]
  },
  {
   "cell_type": "markdown",
   "id": "1b6ccded-ed04-4fab-8573-288eb6ced65f",
   "metadata": {},
   "source": [
    "##### Kolumny \"LATITUDE\", \"LONGITUDE\", \"LOCATION\"\n",
    "\n",
    "Kolumny opisujące współrzędne geograficzne kolizji.\\\n",
    "Sprawdzam jak wypełnieone są zależne od siebie kolumny LATITUDE, LONGITUDE i LOCATION.\n",
    "Zamiana wartości NaN i None na 0.0\n",
    "\n",
    "Przypadki:\n",
    "* wszystkie trzy komórki w wierszu dla poszczególnych kolumn posiadają dane\n",
    "* wszystkie trzy komórki w wierszu dla poszczególnych kolumny są nieuzupełnione\n",
    "* część komórek w wierszu dla poszczególnych kolumn jest wypełniona a część nie"
   ]
  },
  {
   "cell_type": "raw",
   "id": "b3e74203-de35-44c8-b6f8-4897f02a1fce",
   "metadata": {},
   "source": [
    "# Wyświetlenie nieuzupełnionych kolumn \"LATITUDE\",\"LONGITUDE\",\"LOCATION\"\n",
    "# False: komórka w kolumnie uzupełniona, True: komórka w kolumnie nie uzupełniona\n",
    "ny_collisions[[\"LATITUDE\",\"LONGITUDE\",\"LOCATION\"]].isna()"
   ]
  },
  {
   "cell_type": "markdown",
   "id": "b88f7445-c2e5-4d84-b5a2-3cbe71e241fb",
   "metadata": {},
   "source": [
    "Wartość False komórki w odpowiadającej kolumnie oznacza że jest uzupełniona, True nie uzupełniona\n",
    "\n",
    "Sumowanie po osi X wartości boolen (False=0, True=1) w celu określenia statusu uzupełnienia kolumn.\n",
    "\n",
    "Znczenie sumy wartości logicznych trzech kolumn \"LATITUDE\",\"LONGITUDE\",\"LOCATION\" w poszczególnych wierszach:\n",
    "\n",
    "0 - wszystkie kolumny zostały wypełnione\\\n",
    "1 - jedna z trzech komórek wiersza nie została uzupełniona\\\n",
    "2 - dwie z trzech komórek wiersza nie zostały uzupełnione\\\n",
    "3 - wszystkie trzy komórki w wierszu nie zostały uzupełnione"
   ]
  },
  {
   "cell_type": "raw",
   "id": "94bc715b-6b6b-44ce-be68-fde10aed022d",
   "metadata": {},
   "source": [
    "nyc_collisions[[\"LATITUDE\",\"LONGITUDE\",\"LOCATION\"]].isna().sum(axis=1)"
   ]
  },
  {
   "cell_type": "raw",
   "id": "0cc4ca51-5e6e-42c4-ab87-da27626af0ba",
   "metadata": {},
   "source": [
    "# Sprawdzenie z jakiego typu \"brakami\" w danych o lokalizacji kolizji/wypadku mamy doczynienia\n",
    "(nyc_collisions[[\"LATITUDE\",\"LONGITUDE\",\"LOCATION\"]].isna().sum(axis=1)).unique()"
   ]
  },
  {
   "cell_type": "raw",
   "id": "087bd409-fb11-4d0a-b832-798bd6015aa5",
   "metadata": {},
   "source": [
    "# liczba wierszy bez współrzędnych geograficznych\n",
    "((nyc_collisions[[\"LATITUDE\",\"LONGITUDE\",\"LOCATION\"]].isna().sum(axis=1)) == 3).sum()"
   ]
  },
  {
   "cell_type": "markdown",
   "id": "02bc246a-75d7-4073-8281-e460e66edabb",
   "metadata": {},
   "source": [
    "W tym przypadku posiadamy tylko wartości 0 i 3 co oznacza że mamy wiersze w kolumnach \"LATITUDE\",\"LONGITUDE\",\"LOCATION\" wszystkie uzupełnione albo wszystkie nie uzupełnione. Brak przypadków mieszanych (jedna lub dwie kolumny są uzupełnione a reszta nie), co oszczędzi głębszej analizy, które komórki można uzupełnić na podstawie zawartości inych komórek (np. LATITUDE na podstawie uzupełnionej komórki LOCATION).\n",
    "\n",
    "Komórka LOCATION zapisana jest jako typ danych str i wygląda jak rekord danych python dictionary:\\\n",
    "`{'type': 'Point', 'coordinates': [-73.790184, 40.676052]}`\\\n",
    "gdzie klucz 'type' określa prawdopodobnie kształt (w tym przypadku punkt) i 'coordinates' współrzędne geograficzne, \n",
    "co daje możliwość weryfikacji spójności danych komórek w kolumnach LATITUDE i LONGITUDE na podstawie informacji zawartych w komórkach kolumny LOCATION.\n",
    "\n",
    "W celu wykonania takiej weryfikacji należy z komórki kolumny LOCATION \"wyciągnąć\" informacje o współrzędnych geograficznych.\n",
    "Aby to osiągnąć można potraktować zawartość wierszy kolumny LOCATION jako dane typu json, zamieniając znak ' na znak \", lub bezpośrednio zamienić funkcją eval() ciąg znaków na słownik."
   ]
  },
  {
   "cell_type": "raw",
   "id": "5c1b978e-3959-4ae8-8e90-529aa939d1f6",
   "metadata": {},
   "source": [
    "# Funkcja sprawdza czy współrzędne geograficzne w kolumnie LATITUDE i LONGITUDE są zgodne z\n",
    "# współrzędnymi geograficznymi w strukturze zawartej w kolumnie LOCATION\n",
    "# Przeznaczenie: dla DataFrame.apply()\n",
    "# wejście: wiersz danych dataframe z kolumnami LATITUDE,LONGITUDE,LOCATION\n",
    "# wyjście: zwraca True jeżeli współrzędne geograficzne w strukturze z kolumny LOCATION są niezgodene z danymi w kolumnach LATITUDE i LONGITUDE\n",
    "def check_coordinate(row):\n",
    "    try:\n",
    "        data = eval(row[\"LOCATION\"])\n",
    "        # Sprawdzam czy zmienna data jest typu słownik i czy słownik zawiera klucze type i coordinates\n",
    "        if isinstance(data,dict) and (data.keys() >= {\"type\", \"coordinates\"}):\n",
    "            if data[\"type\"].strip().upper() == 'POINT':\n",
    "                # Sprawdzanie czy klucz 'coordinates' zawiera listę z przynjmniej dwoma elementami nie ma sensu, zdziała wyjątek\n",
    "                loc_latitude = data[\"coordinates\"][1]\n",
    "                loc_longitude = data[\"coordinates\"][0]\n",
    "                return not ((loc_latitude-row[\"LATITUDE\"]==0) and (loc_longitude-row[\"LONGITUDE\"]==0))\n",
    "    except:\n",
    "        return True\n",
    "    return True\n",
    "# tworzę kopię z dataframe ny_collision, która jest wycinkiem z oryginalnego dataframe składającego się z \n",
    "# kolumn \"LATITUDE\",\"LONGITUDE\",\"LOCATION\" bez LOCATION = NaN.\n",
    "test = nyc_collisions[[\"LATITUDE\",\"LONGITUDE\",\"LOCATION\"]].loc[~nyc_collisions[\"LOCATION\"].isna()]\n",
    "# Testowanie zgodności wartości LONGITUDE, LATITUDE i LOCATION.coordinates.\n",
    "test[\"check\"] = test.apply(check_coordinate,axis=1)\n",
    "# Jeżeli są nizgodności to wiersz w kolumnie check ma wartość True\n",
    "test.loc[test[\"check\"]]\n",
    "# Usuwam test aby nie zajmować pamięci\n",
    "del(test)"
   ]
  },
  {
   "cell_type": "code",
   "execution_count": null,
   "id": "d292824a-4ca0-43a0-a643-fcd8604c34f6",
   "metadata": {},
   "outputs": [],
   "source": [
    "nyc_collisions.loc[:,['LATITUDE', 'LONGITUDE']] = nyc_collisions[['LATITUDE', 'LONGITUDE']].fillna(0.0)"
   ]
  },
  {
   "cell_type": "markdown",
   "id": "165e8809-16c3-4804-ace9-1a9c1044ba70",
   "metadata": {},
   "source": [
    "##### Kolumny 'CONTRIBUTING FACTOR VEHICLE 1','CONTRIBUTING FACTOR VEHICLE 2','CONTRIBUTING FACTOR VEHICLE 3','CONTRIBUTING FACTOR VEHICLE 4','CONTRIBUTING FACTOR VEHICLE 5'\n",
    "\n",
    "Kolumny opisujące czynnik, który doprowadził do kolizji. Typ danych str. Prawdopodobnie odnosi się do stosownej koumny *\"VEHICLE TYPE CODE `<NR>`\"* pojazdu uczestniczącego w kolizji.\\\n",
    "Sprawdzenie czy wartościach czynników kolizji nie literówek, powielających jeden i ten sam czynnik kolizji.\n",
    "Wyczyszczenie z danych typ NaN\n",
    "\n",
    "**Problem:**\\\n",
    "Analiza czynników kolizji może być utrudniona z powodu rozproszenia danych po pięciu kolumnach.\n",
    "\n",
    "**Rozwiązanie:**\\\n",
    "Utworzenie dodtakowej kolumny *'CONTRIBUTING_FACTORS'*, która połączy wartości (str) w jeden ciąg zanków rozdzielony znakiem ';' z 5 kolumn *CONTRIBUTING FACTOR.*"
   ]
  },
  {
   "cell_type": "raw",
   "id": "8de3440b-c14d-4e91-bb93-bd79351e332b",
   "metadata": {},
   "source": [
    "# Wyświetlenie danych\n",
    "nyc_collisions[['CONTRIBUTING FACTOR VEHICLE 1','CONTRIBUTING FACTOR VEHICLE 2','CONTRIBUTING FACTOR VEHICLE 3','CONTRIBUTING FACTOR VEHICLE 4','CONTRIBUTING FACTOR VEHICLE 5']].head(10)"
   ]
  },
  {
   "cell_type": "code",
   "execution_count": null,
   "id": "4ba6b2c4-52cf-4858-a267-b0fa60154062",
   "metadata": {},
   "outputs": [],
   "source": [
    "# Wyczyszczenie danych typu NaN przez zastąpienie ich ciągiem pustym ''\n",
    "# Transformacja danych: przekształcenie tekstu w poszczególnych komórkach kolumn na duże litery w celu ułatwienia póżniejszych analiz.\n",
    "cols = ['CONTRIBUTING FACTOR VEHICLE 1','CONTRIBUTING FACTOR VEHICLE 2','CONTRIBUTING FACTOR VEHICLE 3','CONTRIBUTING FACTOR VEHICLE 4','CONTRIBUTING FACTOR VEHICLE 5']\n",
    "nyc_collisions.loc[:,cols] = nyc_collisions[cols].fillna('')\n",
    "nyc_collisions.loc[:,cols] = nyc_collisions[cols].apply(lambda v: v.str.strip().str.upper())"
   ]
  },
  {
   "cell_type": "raw",
   "id": "27e434cc-d84c-427a-8922-965fce0a0e31",
   "metadata": {},
   "source": [
    "# Wyświetlam wszystkie czynniki kolizji/wypadków\n",
    "test = pd.Series('',index=nyc_collisions[['CONTRIBUTING FACTOR VEHICLE 1','CONTRIBUTING FACTOR VEHICLE 2','CONTRIBUTING FACTOR VEHICLE 3','CONTRIBUTING FACTOR VEHICLE 4','CONTRIBUTING FACTOR VEHICLE 5']].stack().unique())\n",
    "test.sort_index(inplace=True)\n",
    "test[[\"ILLNESS\",\"ILLNES\"]] = \"<--\"\n",
    "print(';' in test)\n",
    "print(test)\n",
    "# Z danych poniżej czynnik ILLNESS (choroba), jest podany w dwóch formach ILLNESS i ILLNES\n",
    "del(test)"
   ]
  },
  {
   "cell_type": "raw",
   "id": "ace63bc6-a64c-41c7-a09b-5b8ca5323658",
   "metadata": {},
   "source": [
    "# Wyświetlam dane w kolumnach CONTRIBUTING FACTOR VEHICLE dataframe z wartością ILLNES\n",
    "cols = ['CONTRIBUTING FACTOR VEHICLE 1','CONTRIBUTING FACTOR VEHICLE 2','CONTRIBUTING FACTOR VEHICLE 3','CONTRIBUTING FACTOR VEHICLE 4','CONTRIBUTING FACTOR VEHICLE 5']\n",
    "cond = (nyc_collisions[\"CONTRIBUTING FACTOR VEHICLE 1\"] == 'ILLNES') | (nyc_collisions[\"CONTRIBUTING FACTOR VEHICLE 2\"] == 'ILLNES') | (nyc_collisions[\"CONTRIBUTING FACTOR VEHICLE 3\"] == 'ILLNES') | (nyc_collisions[\"CONTRIBUTING FACTOR VEHICLE 4\"] == 'ILLNES') | (nyc_collisions[\"CONTRIBUTING FACTOR VEHICLE 5\"] == 'ILLNES')\n",
    "nyc_collisions.loc[cond][cols]\n",
    "# Usuwam niepotrzebne zmienne\n",
    "del(cols)\n",
    "del(cond)"
   ]
  },
  {
   "cell_type": "code",
   "execution_count": null,
   "id": "6d5b3b6e-e3e1-44d1-9549-ba02418af1db",
   "metadata": {},
   "outputs": [],
   "source": [
    "# Poprawiam wartości ILLNES na ILLNESS\n",
    "for c in cols:\n",
    "    nyc_collisions.loc[nyc_collisions[c] == 'ILLNES',c] = 'ILLNESS'"
   ]
  },
  {
   "cell_type": "code",
   "execution_count": null,
   "id": "3f302240-fee9-4130-8efe-42dd51deedef",
   "metadata": {},
   "outputs": [],
   "source": [
    "# Połączenie wartości z 5 kolumn rozdzielonych znakiem ';'\n",
    "nyc_collisions[\"CONTRIBUTING_FACTORS\"] = nyc_collisions['CONTRIBUTING FACTOR VEHICLE 1'] + \";\" + nyc_collisions['CONTRIBUTING FACTOR VEHICLE 2'] + \";\" + nyc_collisions['CONTRIBUTING FACTOR VEHICLE 3'] + \";\" + nyc_collisions['CONTRIBUTING FACTOR VEHICLE 4'] + \";\" + nyc_collisions['CONTRIBUTING FACTOR VEHICLE 5']"
   ]
  },
  {
   "cell_type": "raw",
   "id": "5e2ebdec-a6c2-488e-b762-e6d773cb68d6",
   "metadata": {},
   "source": [
    "nyc_collisions[[\"CONTRIBUTING_FACTORS\",'CONTRIBUTING FACTOR VEHICLE 1','CONTRIBUTING FACTOR VEHICLE 2','CONTRIBUTING FACTOR VEHICLE 3','CONTRIBUTING FACTOR VEHICLE 4','CONTRIBUTING FACTOR VEHICLE 5']]"
   ]
  },
  {
   "attachments": {},
   "cell_type": "markdown",
   "id": "2f6537b8-d98e-4efa-92c9-7d144674c4e7",
   "metadata": {},
   "source": [
    "##### Kolumny 'VEHICLE TYPE CODE 1', 'VEHICLE TYPE CODE 2', 'VEHICLE TYPE CODE 3', 'VEHICLE TYPE CODE 4', 'VEHICLE TYPE CODE 5'\n",
    "\n",
    "Kolumny opisujące typ pojazdu, który brał udział w kolizji. Prawdopodobnie odnosi się do stosownej koumny \"CONTRIBUTING FACTOR VEHICLE `<NR>`\" czynnika który doprowadził do kolizji.\n",
    "Wyczyszczenie z danych typ NaN. \n",
    "\n",
    "**Problem:**\n",
    "1) Wartości w tych kolumach zawierają bardzo dużo (629) nie ustrukturyzowanych wartości określających typy pojazdów. Część z tych danych trudno określić jako typ pojazdu np. A, 52? T, (CEME, BLUE itd. Duża część danych może określeć ten sam typ pojazdu np. BICYC, BICYCLE, BIKE, BK \n",
    "2) Typy pojazdów znajdują się 5 kolumnach.\n",
    "\n",
    "**Rozwiązanie:**\n",
    "1) Brak rozwiązania. Nie można określić jakie wartości są prawidłowe jakie nie. Typy pojazdów nie będą zmieniane. Zajęcie bardzo pracochłonne i obarczone błędami. Na wartościach z tych kolumn nie można polegać i można je traktować tylko poglądowo.\n",
    "2) Utworzenie dodatkowej kolumny *'VEHICLE_TYPES'*, której zawartością będą połączone wartości tekstowe 5 kolumn, rozdzielone znakiem ';'"
   ]
  },
  {
   "cell_type": "raw",
   "id": "fb270207-93e8-4cfa-8a7f-e22940eff59a",
   "metadata": {},
   "source": [
    "# Wyświetlenie danych\n",
    "nyc_collisions[['VEHICLE TYPE CODE 1','VEHICLE TYPE CODE 2','VEHICLE TYPE CODE 3','VEHICLE TYPE CODE 4','VEHICLE TYPE CODE 5']]"
   ]
  },
  {
   "cell_type": "code",
   "execution_count": null,
   "id": "f6a320e2-8f71-4b9a-ae6f-e2e6c2b4446f",
   "metadata": {},
   "outputs": [],
   "source": [
    "# Wyczyszczenie danych typu NaN przez zastąpienie ich ciągiem pustym ''\n",
    "# Transformacja danych, polegające na zamianie wszystkich liter w komórkach kolumn VEHICLE TYPE na duże litery w celu ułatwienia późniejszych analiz.\n",
    "nyc_collisions.loc[:,['VEHICLE TYPE CODE 1','VEHICLE TYPE CODE 2','VEHICLE TYPE CODE 3','VEHICLE TYPE CODE 4','VEHICLE TYPE CODE 5']] = nyc_collisions[['VEHICLE TYPE CODE 1','VEHICLE TYPE CODE 2','VEHICLE TYPE CODE 3','VEHICLE TYPE CODE 4','VEHICLE TYPE CODE 5']].fillna('')\n",
    "nyc_collisions.loc[:,['VEHICLE TYPE CODE 1','VEHICLE TYPE CODE 2','VEHICLE TYPE CODE 3','VEHICLE TYPE CODE 4','VEHICLE TYPE CODE 5']] = nyc_collisions[['VEHICLE TYPE CODE 1','VEHICLE TYPE CODE 2','VEHICLE TYPE CODE 3','VEHICLE TYPE CODE 4','VEHICLE TYPE CODE 5']].apply(lambda v: v.str.strip().str.upper())"
   ]
  },
  {
   "cell_type": "raw",
   "id": "0f50a21b-8484-476d-97fe-20506a24ea3e",
   "metadata": {},
   "source": [
    "# pd.set_option(\"display.max_rows\",None)\n",
    "# Jakie unikalne wartości zawiera 5 kolumn typu \"VEHICLE TYPE CODE\"\n",
    "vtc = pd.Series('',index=nyc_collisions[['VEHICLE TYPE CODE 1','VEHICLE TYPE CODE 2','VEHICLE TYPE CODE 3','VEHICLE TYPE CODE 4','VEHICLE TYPE CODE 5']].stack().unique())\n",
    "vtc.sort_index(inplace=True)\n",
    "vtc[[\"BICYC\",\"BICYCLE\",\"BIKE\",\"CO\",\"COM\",\"COM T\",\"COM.\"]] = '<--'\n",
    "print(';' in vtc)\n",
    "print(vtc)\n",
    "del(vtc)\n",
    "# 628 wpisów, wartości nie ujednolicone, przykład \"BICYC\",\"BICYCLE\",\"BIKE\".\n",
    "# Analizy oparte na wartościach zawartych w kolumnach \"VEHICLE TYPE CODE\" będą obarczone błędami"
   ]
  },
  {
   "cell_type": "code",
   "execution_count": null,
   "id": "d41e2ca2-035d-4785-b753-5ff15e42c462",
   "metadata": {},
   "outputs": [],
   "source": [
    "nyc_collisions['VEHICLE_TYPES'] = nyc_collisions['VEHICLE TYPE CODE 1'] + \";\" + nyc_collisions['VEHICLE TYPE CODE 2'] + \";\" + nyc_collisions['VEHICLE TYPE CODE 3'] + \";\" + nyc_collisions['VEHICLE TYPE CODE 4'] + \";\" + nyc_collisions['VEHICLE TYPE CODE 5']"
   ]
  },
  {
   "cell_type": "raw",
   "id": "41c652b8-234a-4fad-896e-c862ce09695c",
   "metadata": {},
   "source": [
    "nyc_collisions[['VEHICLE_TYPES','VEHICLE TYPE CODE 1','VEHICLE TYPE CODE 2','VEHICLE TYPE CODE 3','VEHICLE TYPE CODE 4','VEHICLE TYPE CODE 5']]"
   ]
  },
  {
   "cell_type": "markdown",
   "id": "d13a77c6-bcb3-40fb-bb61-5f5556a3a23b",
   "metadata": {},
   "source": [
    "##### Kolumny 'NUMBER OF PERSONS INJURED','NUMBER OF PERSONS KILLED', 'NUMBER OF PEDESTRIANS INJURED','NUMBER OF PEDESTRIANS KILLED', 'NUMBER OF CYCLIST INJURED','NUMBER OF CYCLIST KILLED', 'NUMBER OF MOTORIST INJURED','NUMBER OF MOTORIST KILLED'.\n",
    "\n",
    "Opis kolumn:\n",
    "- \"NUMBER OF PERSONS INJURED\": Suma liczby osób rannych w kolizji (pieszych, rowerzystów, zmotoryzowanych).\n",
    "- \"NUMBER OF PERSONS KILLED\": Suma liczby osób, kóre zgineły w wypadku/kolizji (pieszych, rowerzystów, zmotoryzowanych).\n",
    "- \"NUMBER OF PEDESTRIANS INJURED\": liczba rannych pieszych.\n",
    "- \"NUMBER OF PEDESTRIANS KILLED\": liczba zabitych pieszych.\n",
    "- \"NUMBER OF CYCLIST INJURED\": liczba rannych rowerzystów.\n",
    "- \"NUMBER OF CYCLIST KILLED\": liczba zabitych rowerzystów.\n",
    "- \"NUMBER OF MOTORIST INJURED\": liczba rannych zmotoryzowanych.\n",
    "- \"NUMBER OF MOTORIST KILLED\": liczba zabitych zmotoryzowanych.\n",
    "\n",
    "**Problemy:**\n",
    "1) Kolumny posiadają wartości puste (NaN, None)\n",
    "2) Niektóre kolumny posiadają typ wartości zminno przecinkowy, a inne całkowity\n",
    "3) W niektórych przypadkach kolumna *'NUMBER OF PERSONS INJURED'* posiada wartość, która nie jest sumą wartości kolumn *'NUMBER OF PEDESTRIANS INJURED'*, *'NUMBER OF CYCLIST INJURED'*, *'NUMBER OF MOTORIST INJURED'*\n",
    "4) W niektórych przypadkach kolumna *'NUMBER OF PERSONS KILLED'* posiada wartość, która nie jest sumą wartości kolumn *'NUMBER OF PEDESTRIANS KILLED'*, *'NUMBER OF CYCLIST KILLED'*, *'NUMBER OF MOTORIST KILLED'*\n",
    "\n",
    "**Rozwiązanie:**\n",
    "1) Wyczyszczenie kolumn z wartości pustych (NaN, None) poprzez zmianę tych wartości na 0\n",
    "2) Zamiana wszystkich wartości zmienno przecinkowych całkowite.\n",
    "3)  Uzupełnienie kolumny *\"NUMBER OF PERSONS INJURED\"* na podstawie wartości w kolumnach *'NUMBER OF PEDESTRIANS INJURED'*, *'NUMBER OF CYCLIST INJURED'*, *'NUMBER OF MOTORIST INJURED'*. Ponieważ niezgodności sumy osób rannych z kolumn *\"NUMBER OF PEDESTRIANS INJURED\"*, *\"NUMBER OF CYCLIST INJURED\"*, *\"NUMBER OF MOTORIST INJURED\"* w kolumnie *\"NUMBER OF PERSONS INJURED\"* jes dwukierunkowa co do wartości (tzn. suma jest większa i mniejsza), zakładam gorszą sytuację i kolumnę *\"NUMBER OF PEDESTRIANS INJURED\"*, przeliczam do wartości największej.\n",
    "4)  Jak w punkcie 3) tylko dotyczy to kolumn *'NUMBER OF KILLED'*"
   ]
  },
  {
   "cell_type": "raw",
   "id": "70fa5b70-1e58-49ac-af25-3346e7f25f74",
   "metadata": {},
   "source": [
    "# Sprawdzam czy dane w kolumnach \"NUMBER OF PERSONS INJURED\" i \"NUMBER OF PERSONS KILLED\" są wartościami całkowitymi\n",
    "display(nyc_collisions[\"NUMBER OF PERSONS INJURED\"].apply(float.is_integer).all())\n",
    "display(nyc_collisions[\"NUMBER OF PERSONS KILLED\"].apply(float.is_integer).all())\n",
    "# nie"
   ]
  },
  {
   "cell_type": "raw",
   "id": "f5e844a0-13da-4db7-939a-7807700499c0",
   "metadata": {},
   "source": [
    "# Wyświetlenie danych\n",
    "nyc_collisions.loc[~nyc_collisions[\"NUMBER OF PERSONS INJURED\"].apply(float.is_integer)][['NUMBER OF PERSONS INJURED','NUMBER OF PERSONS KILLED','NUMBER OF PEDESTRIANS INJURED','NUMBER OF PEDESTRIANS KILLED','NUMBER OF CYCLIST INJURED','NUMBER OF CYCLIST KILLED','NUMBER OF MOTORIST INJURED','NUMBER OF MOTORIST KILLED']]"
   ]
  },
  {
   "cell_type": "raw",
   "id": "b5e6a26a-78e0-4708-a3b5-d010d2e009c4",
   "metadata": {},
   "source": [
    "# Wyświetlenie danych\n",
    "nyc_collisions.loc[~nyc_collisions[\"NUMBER OF PERSONS KILLED\"].apply(float.is_integer)][['NUMBER OF PERSONS INJURED','NUMBER OF PERSONS KILLED','NUMBER OF PEDESTRIANS INJURED','NUMBER OF PEDESTRIANS KILLED','NUMBER OF CYCLIST INJURED','NUMBER OF CYCLIST KILLED','NUMBER OF MOTORIST INJURED','NUMBER OF MOTORIST KILLED']]"
   ]
  },
  {
   "cell_type": "code",
   "execution_count": null,
   "id": "a2e28adc-28d3-48cd-b1cb-22d990ae3b4e",
   "metadata": {},
   "outputs": [],
   "source": [
    "# Transformacja danych, pozbycie się ewewntualnych wartości NaN, poprzez zamianę NaN na wartośc 0\n",
    "nyc_collisions.loc[:,['NUMBER OF PERSONS INJURED','NUMBER OF PERSONS KILLED','NUMBER OF PEDESTRIANS INJURED','NUMBER OF PEDESTRIANS KILLED','NUMBER OF CYCLIST INJURED','NUMBER OF CYCLIST KILLED','NUMBER OF MOTORIST INJURED','NUMBER OF MOTORIST KILLED']] = nyc_collisions[['NUMBER OF PERSONS INJURED','NUMBER OF PERSONS KILLED','NUMBER OF PEDESTRIANS INJURED','NUMBER OF PEDESTRIANS KILLED','NUMBER OF CYCLIST INJURED','NUMBER OF CYCLIST KILLED','NUMBER OF MOTORIST INJURED','NUMBER OF MOTORIST KILLED']].fillna(0)"
   ]
  },
  {
   "cell_type": "raw",
   "id": "6eaabff8-26a9-4a50-b355-3ff83a1f0f91",
   "metadata": {},
   "source": [
    "# Sprawdzam czy dane w kolumnach \"NUMBER OF PERSONS INJURED\" i \"NUMBER OF PERSONS KILLED\" są wartościami całkowitymi\n",
    "display(nyc_collisions[\"NUMBER OF PERSONS INJURED\"].apply(float.is_integer).all())\n",
    "display(nyc_collisions[\"NUMBER OF PERSONS KILLED\"].apply(float.is_integer).all())\n",
    "# Tak"
   ]
  },
  {
   "cell_type": "raw",
   "id": "7abec32b-cbd5-4435-888e-d5ab65899055",
   "metadata": {},
   "source": [
    "# Wyświetlenie danych\n",
    "nyc_collisions[['NUMBER OF PERSONS INJURED','NUMBER OF PERSONS KILLED','NUMBER OF PEDESTRIANS INJURED','NUMBER OF PEDESTRIANS KILLED','NUMBER OF CYCLIST INJURED','NUMBER OF CYCLIST KILLED','NUMBER OF MOTORIST INJURED','NUMBER OF MOTORIST KILLED']]"
   ]
  },
  {
   "cell_type": "code",
   "execution_count": null,
   "id": "8130ee9a-7871-4262-b99b-7b7bf493df45",
   "metadata": {},
   "outputs": [],
   "source": [
    "# Zmiana typu float64 kolumn 'NUMBER OF PERSONS INJURED' i 'NUMBER OF PERSONS KILLED' na typ int64.\n",
    "nyc_collisions = nyc_collisions.astype({\"NUMBER OF PERSONS INJURED\": 'int64', \"NUMBER OF PERSONS KILLED\": 'int64'})\n",
    "# print(\"NUMBER OF PERSONS INJURED: \", nyc_collisions[\"NUMBER OF PERSONS INJURED\"].dtype)\n",
    "# print(\"NUMBER OF PERSONS KILLED: \", nyc_collisions[\"NUMBER OF PERSONS KILLED\"].dtype)"
   ]
  },
  {
   "cell_type": "raw",
   "id": "38e75119-c130-4434-891a-9872e96746bd",
   "metadata": {},
   "source": [
    "# Wyświetlenie danych\n",
    "nyc_collisions[['NUMBER OF PERSONS INJURED','NUMBER OF PERSONS KILLED','NUMBER OF PEDESTRIANS INJURED','NUMBER OF PEDESTRIANS KILLED','NUMBER OF CYCLIST INJURED','NUMBER OF CYCLIST KILLED','NUMBER OF MOTORIST INJURED','NUMBER OF MOTORIST KILLED']]"
   ]
  },
  {
   "cell_type": "code",
   "execution_count": null,
   "id": "2615432f-41cd-4be8-902e-262d5763b2ab",
   "metadata": {},
   "outputs": [],
   "source": [
    "# Sprawdzenie czy wartości w kolumnie 'NUMBER OF PERSONS INJURED' są sumą wartości z kolumn 'NUMBER OF PEDESTRIANS INJURED', 'NUMBER OF CYCLIST INJURED', 'NUMBER OF MOTORIST INJURED'.\n",
    "maps = nyc_collisions[['NUMBER OF PEDESTRIANS INJURED','NUMBER OF CYCLIST INJURED','NUMBER OF MOTORIST INJURED']].sum(axis=1) != nyc_collisions[\"NUMBER OF PERSONS INJURED\"]\n",
    "# (maps).sum()"
   ]
  },
  {
   "cell_type": "raw",
   "id": "9f9bf8f3-1ef0-4da2-9112-597b9c9d343a",
   "metadata": {},
   "source": [
    "# Mamy wiersze z niezgodną liczbą osób rannych.\n",
    "nyc_collisions.loc[maps][['NUMBER OF PERSONS INJURED','NUMBER OF PEDESTRIANS INJURED','NUMBER OF CYCLIST INJURED','NUMBER OF MOTORIST INJURED']]"
   ]
  },
  {
   "cell_type": "code",
   "execution_count": null,
   "id": "fd75b82a-904d-4444-b91f-ee399ae6c77b",
   "metadata": {},
   "outputs": [],
   "source": [
    "# Uzupełnienie kolumny \"NUMBER OF PERSONS INJURED\" na podstawie wartości w kolumnach 'NUMBER OF PEDESTRIANS INJURED','NUMBER OF CYCLIST INJURED','NUMBER OF MOTORIST INJURED'\n",
    "# Ponieważ niezgodności sumy osób rannych z kolumn \"NUMBER OF PEDESTRIANS INJURED\", \"NUMBER OF CYCLIST INJURED\", \"NUMBER OF MOTORIST INJURED\"\n",
    "# w kolumnie \"NUMBER OF PERSONS INJURED\" jes dwukierunkowa co do wartości (tzn. suma jest większa i mniejsza), zakładam gorszą sytuację i \n",
    "# kolumnę \"NUMBER OF PEDESTRIANS INJURED\", przeliczam do wartości największej.\n",
    "nyc_collisions.loc[:,\"INJURED\"] = nyc_collisions[['NUMBER OF PEDESTRIANS INJURED','NUMBER OF CYCLIST INJURED','NUMBER OF MOTORIST INJURED']].sum(axis=1)\n",
    "nyc_collisions.loc[:,'NUMBER OF PERSONS INJURED'] = nyc_collisions[['NUMBER OF PERSONS INJURED','INJURED']].max(axis=1)\n",
    "nyc_collisions = nyc_collisions.drop(\"INJURED\",axis=1)"
   ]
  },
  {
   "cell_type": "code",
   "execution_count": null,
   "id": "e74cf225-1dc0-46fd-a826-63349e00b7c3",
   "metadata": {},
   "outputs": [],
   "source": [
    "# Sprawdzenie czy wartości w kolumnie 'NUMBER OF PERSONS KILLED' są sumą wartości z kolumn 'NUMBER OF PEDESTRIANS KILLED', 'NUMBER OF CYCLIST KILLED', 'NUMBER OF MOTORIST KILLED'.\n",
    "maps = nyc_collisions[['NUMBER OF PEDESTRIANS KILLED','NUMBER OF CYCLIST KILLED','NUMBER OF MOTORIST KILLED']].sum(axis=1) != nyc_collisions[\"NUMBER OF PERSONS KILLED\"]\n",
    "# (maps).sum()"
   ]
  },
  {
   "cell_type": "raw",
   "id": "cf826880-c6ed-465c-96fc-3c14724cf174",
   "metadata": {},
   "source": [
    "# Mamy kilka wierszy z niezgodną liczbą osób zabitych.\n",
    "nyc_collisions.loc[maps][['NUMBER OF PERSONS KILLED','NUMBER OF PEDESTRIANS KILLED','NUMBER OF CYCLIST KILLED','NUMBER OF MOTORIST KILLED']]"
   ]
  },
  {
   "cell_type": "code",
   "execution_count": null,
   "id": "7e3a07cb-b0ab-49ad-a720-75b8e6ff9990",
   "metadata": {},
   "outputs": [],
   "source": [
    "# Uzupełnienie kolumny \"NUMBER OF PERSONS KILLED\" na podstawie wartości w kolumnach 'NUMBER OF PEDESTRIANS KILLED','NUMBER OF CYCLIST KILLED','NUMBER OF MOTORIST KILLED'\n",
    "# Ponieważ niezgodności sumy osób zabitych z kolumn \"NUMBER OF PEDESTRIANS KILLED\", \"NUMBER OF CYCLIST KILLED\", \"NUMBER OF MOTORIST KILLED\"\n",
    "# w kolumnie \"NUMBER OF PERSONS KILLED\" jes dwukierunkowa co do wartości (tzn. suma jest większa i mniejsza), zakładam gorszą sytuację i \n",
    "# kolumnę \"NUMBER OF PEDESTRIANS KILLED\", przeliczam do wartości największej.\n",
    "nyc_collisions.loc[:,\"KILLED\"] = nyc_collisions[['NUMBER OF PEDESTRIANS KILLED','NUMBER OF CYCLIST KILLED','NUMBER OF MOTORIST KILLED']].sum(axis=1)\n",
    "nyc_collisions.loc[:,'NUMBER OF PERSONS KILLED'] = nyc_collisions[['NUMBER OF PERSONS KILLED','KILLED']].max(axis=1)\n",
    "nyc_collisions = nyc_collisions.drop(\"KILLED\",axis=1)"
   ]
  },
  {
   "cell_type": "markdown",
   "id": "5d308901-65d4-4c02-89dd-8f211c54aa9c",
   "metadata": {},
   "source": [
    "##### Kolumna BOROUGH\n",
    "\n",
    "Kolumna wskazuje okręg miasta Nowy Jork w którym doszło do kolizji/wypadku.\n",
    "\n",
    "**Problemy:**\n",
    "1) Kolumna posiada wartości puste (NaN, NULL) oraz puste ciągi znaków ''.\n",
    "2) Problem z wartościami tekstowymi typu wielkość znaków i białe znaki na początku i końcu tekstu.\n",
    "3) Nie uzupełnione nazwy okręgów, (130419 rekordów nie uzupełnionych na 1217957, czyli 10,71% wszystkich danych).\n",
    "\n",
    "**Rozwiązanie:**\n",
    "1) Przekształcenie wszystkich wartości pustych typu Nan, None na pusty ciąg znaków ''.\n",
    "2) Przekształcenie nazw okręgów na pisane tylko duzymi literami i usunięcie wiądących i końcowych białych znaków.\n",
    "3) Uzupełnienie nazw okręgów na podstawie lokalizacji geograficznej."
   ]
  },
  {
   "cell_type": "raw",
   "id": "a8bb42f2-c80f-41b4-ab6c-5c55ff9df426",
   "metadata": {},
   "source": [
    "# Sprawdzam czy kolumna zawiera wartości NaN\n",
    "nyc_collisions[\"BOROUGH\"].isna().sum()\n",
    "# Kolumna zawiera wartości NaN"
   ]
  },
  {
   "cell_type": "code",
   "execution_count": null,
   "id": "03bf5db4-415e-4bb4-bf8d-2b66b3eefc7d",
   "metadata": {},
   "outputs": [],
   "source": [
    "# Wyczyszczenie danych typu NaN przez zastąpienie ich ciągiem pustym ''\n",
    "# Transformacja danych przez zmianę tekstu na duże litery w celu ułatwienia późniejszych analiz i porównywanie tekstu\n",
    "nyc_collisions.loc[:,['BOROUGH']] = nyc_collisions[\"BOROUGH\"].fillna('')\n",
    "nyc_collisions.loc[:,'BOROUGH'] = nyc_collisions.loc[:,'BOROUGH'].str.strip().str.upper()\n",
    "# nyc_collisions.loc[:,['BOROUGH']] = nyc_collisions['BOROUGH'].apply(lambda v: v.strip().upper())"
   ]
  },
  {
   "cell_type": "raw",
   "id": "d5955c2f-8afa-47bc-994d-bff3ea535d82",
   "metadata": {},
   "source": [
    "# Wyświetlenie danych\n",
    "nyc_collisions[\"BOROUGH\"].head(10)"
   ]
  },
  {
   "cell_type": "raw",
   "id": "a402a307-06ee-46ac-a5ab-85b1dedd0df9",
   "metadata": {},
   "source": [
    "# Liczba wartości w kolumnie \"BOROUGH\" zawierających pusty ciąg znaków '' i posiadających uzupełnione współrzędne geograficzne kolizji\n",
    "# Do tematu powrócę po przygotowaniu danych geodezyjnych GIS.\n",
    "# ((nyc_collisions[\"BOROUGH\"] == '') & ~nyc_collisions[\"LOCATION\"].isna()).sum()\n",
    "display((nyc_collisions[\"BOROUGH\"] == '').sum(),len(nyc_collisions),(nyc_collisions[\"BOROUGH\"] == '').sum()*100/len(nyc_collisions))"
   ]
  },
  {
   "cell_type": "markdown",
   "id": "f75d74a3-6296-4c9c-8c71-eb97746f2030",
   "metadata": {},
   "source": [
    "##### Kolumny 'ON STREET NAME','CROSS STREET NAME','OFF STREET NAME'\n",
    "\n",
    "Kolumny nie będą używane w dalszych analizach."
   ]
  },
  {
   "cell_type": "raw",
   "id": "6826d241-2673-4c39-bf75-1623e3a76f33",
   "metadata": {},
   "source": [
    "# Wyświetltnie danych\n",
    "nyc_collisions[['ON STREET NAME','CROSS STREET NAME','OFF STREET NAME']]"
   ]
  },
  {
   "cell_type": "markdown",
   "id": "7c1d03be-3254-45e7-90f2-19b29eecb9fc",
   "metadata": {
    "jp-MarkdownHeadingCollapsed": true
   },
   "source": [
    "#### Przygotowanie danych GIS\n",
    "\n",
    "Wczytanie poligonu geogograficznego miasta Nowy Jork z dokładnością do sąsiedztw.\n",
    "Korzystam z wiedzy z serwisu https://www.kaggle.com/code/geowiz34/maps-of-nyc-airbnbs-with-python.\n",
    "Dane geograficzne miasta Nowy Jork zostały pobrane z strony https://data.cityofnewyork.us/City-Government/Neighborhood-Tabulation-Areas/cpf4-rkhq i wyeksportowane do pliku nynta.csv\n",
    "\n",
    "Plik nynta.zip został dołączony do repozytorum na github. Po sklonowaniu repozytorium plik należy rozpakować. Plik znajduje się w folderze jupyter/data.\n",
    "\n",
    "*Zostaną utworzone dodatkowe zbiory danych zawierające:*\n",
    "- neighborhood: informacje GIS o sąsiedztwach maista Nowy Jork i ich przynależności do okręgów.\n",
    "- boroughs: informacje GIS o okręgach miasta Nowy Jork.\n",
    "- gis_nyc_collisions: Informacje GIS o kolizjach w mieście Nowy Jork. Gotowy plik"
   ]
  },
  {
   "cell_type": "markdown",
   "id": "432317b5-ae44-4d87-8b9f-8a3cde2d2465",
   "metadata": {},
   "source": [
    "##### Utworzenie GeoDataFrame neighborhood z poligonami sąsiedztw miasta Nowy Jork\n",
    "\n",
    "Przekonwertowanie neighborhood z typu pandas DataFrame na geopandas GeoDataFrame.\n",
    "Przekonwertowanie danych geograficznych zawartych w DataFrame neighborhood (typu pandas) w kolumnie *the_geom na typ danych odpowiedni dla geopandas, przez utworzenie kolumny *geom* z współrzędnymi geograficznymi obszarów miasta Nowy Jork w formacie [Well-known text](https://en.wikipedia.org/wiki/Well-known_text_representation_of_geometry). Typ danych kolumny geom będzię używany w dalszych analizach. Sposób konwertowania kolumny the_geom na well-know text został opisany w serwisie https://www.kaggle.com/code/geowiz34/maps-of-nyc-airbnbs-with-python."
   ]
  },
  {
   "cell_type": "code",
   "execution_count": null,
   "id": "d1ea65d9-4b41-42a9-90c9-2cba6308d51d",
   "metadata": {},
   "outputs": [],
   "source": [
    "# Pobieram współrzędne geograficzne granic pligonów miasta Nowy Jork z dokładnością do sąsiedztw\n",
    "# W folderze data znajduje się plik nynta.zip, który należy rozpakować.\n",
    "neighborhood = pd.read_csv('data/nynta.csv')\n",
    "# neighborhood.head(3)"
   ]
  },
  {
   "cell_type": "raw",
   "id": "405262c9-8bb2-4fe9-9c96-84439d7e23de",
   "metadata": {},
   "source": [
    "# Sprawdzam czy kolumna NTACode w dataframe nbhood jest unikalna i czy można tej wartości z tej kolumny użyc jako klucz główny\n",
    "non_uniq_neighborhood = (neighborhood[\"NTACode\"].value_counts() > 1).sum()\n",
    "non_uniq_neighborhood\n",
    "# Wszystkie wartoci w kolumnie NTACode są unikalne"
   ]
  },
  {
   "cell_type": "code",
   "execution_count": null,
   "id": "1824f921-b015-4793-b9f1-04d333798079",
   "metadata": {},
   "outputs": [],
   "source": [
    "neighborhood.rename(columns={'NTAName':'neighbourhood'}, inplace=True)\n",
    "neighborhood['geom'] = neighborhood['the_geom'].apply(wkt.loads)\n",
    "neighborhood = geopandas.GeoDataFrame(neighborhood, geometry='geom')\n",
    "neighborhood[\"BoroName\"] = neighborhood[\"BoroName\"].str.strip().str.upper()\n",
    "# neighborhood.head(3)"
   ]
  },
  {
   "cell_type": "markdown",
   "id": "50e6af28-61f1-4896-9873-07eb21c49c90",
   "metadata": {},
   "source": [
    "##### Utworzenie GeoDataFrame boroughs z poligonami okręgów miasta Nowy Jork\n",
    "\n",
    "Źródło: https://stackoverflow.com/questions/38899190/geopandas-label-polygons"
   ]
  },
  {
   "cell_type": "code",
   "execution_count": null,
   "id": "d423dfdb-af8d-4359-9859-7481c51bf5ba",
   "metadata": {},
   "outputs": [],
   "source": [
    "# Okręgi NYC\n",
    "# https://stackoverflow.com/questions/38899190/geopandas-label-polygons\n",
    "boroughs = geopandas.read_file(geodatasets.get_path(\"nybb\"))\n",
    "boroughs[\"coords\"] = boroughs['geometry'].apply(lambda x: x.representative_point().coords[:])\n",
    "boroughs[\"coords\"] = [coords[0] for coords in boroughs[\"coords\"]]\n",
    "boroughs[\"BoroName\"] = boroughs[\"BoroName\"].str.strip().str.upper()\n",
    "boro_dict = boroughs[[\"BoroName\",\"BoroCode\"]].set_index(\"BoroName\",drop=True).to_dict()[\"BoroCode\"]\n",
    "# boro_dict_code = boroughs[[\"BoroName\",\"BoroCode\"]].set_index(\"BoroCode\",drop=True).to_dict()[\"BoroName\"]"
   ]
  },
  {
   "cell_type": "raw",
   "id": "64f84d43-7ad0-442d-9bc9-6282c00be7f4",
   "metadata": {},
   "source": [
    "test = neighborhood.merge(boroughs,on=\"BoroCode\")\n",
    "test.loc[test[\"BoroName_x\"] != test[\"BoroName_y\"]]"
   ]
  },
  {
   "cell_type": "markdown",
   "id": "dfd0ec3c-c7bf-4b4c-9831-f3157b2ad94f",
   "metadata": {},
   "source": [
    "##### Utworzenie GeoDataFrame gis_nyc_collisions z informacjami o lokalizacji geograficznej kolizji\n",
    "\n",
    "**Problem:**\\\n",
    "GeoDataFrame został utworzony na podstawie dataframe nyc_collisions, który zawiera lokalizacje, które nie należą do obszaru miast Mowy Jork.\n",
    "\n",
    "**Rozwiązanie:**\\\n",
    "Obszar miast Nowy Jork, znajduje się miej więcej pomiędzy długością geograficzną -73.67W a 74.3W, szerokością geograficzną 40.48N a 40.92N\n",
    "W GeoDataFrame gis_nyc_collisions teorzę kolumnę \"LocationNYC\" z wartościami typu Boolen, która wszystkie współrzędne geograficzne z przedziału w/w obszaru oznacza jako True (znajdują się w Nowym Jorku lub w pobliżu) i False oznaczające współrzędne, które są błędne lub znajdują się poza obszarem wyznaczonym przez w/w obszar.\n",
    "Kolumnę \"LocationNYC\", tworzę tylko na potrzeby wygodnego określenia, które punkty będą odrysowane na mapie"
   ]
  },
  {
   "cell_type": "code",
   "execution_count": null,
   "id": "43162c7b-294a-4959-a05b-83c24142dcff",
   "metadata": {},
   "outputs": [],
   "source": [
    "# Utworzenie DataFrame zawierajającego współrzędne geograficzne kolizji i identyfikatora kolizji\n",
    "# geo_collisions będzię używany do nanoszenia punktów kolizji na mapę miasta Nowy Jork\n",
    "gis_nyc_collisions = nyc_collisions[[\"LONGITUDE\",\"LATITUDE\",\"COLLISION_ID\",\"BOROUGH\"]].loc[~nyc_collisions[\"LOCATION\"].isna()].reset_index(drop=True)\n",
    "# gis_nyc_collisions.head(3)"
   ]
  },
  {
   "cell_type": "code",
   "execution_count": null,
   "id": "3e4b7441-b377-4c7f-9c29-6dab1ab87b87",
   "metadata": {},
   "outputs": [],
   "source": [
    "# Utworzenie kolumny point_collision zawierającego współrzędne geograficzne kolizji i przekonwertowanie z typu pandas DataFrame do geopandas GeoDataFrame\n",
    "gis_nyc_collisions[\"point_collision\"] = geopandas.GeoDataFrame(geopandas.points_from_xy(gis_nyc_collisions.LONGITUDE,gis_nyc_collisions.LATITUDE),columns=[\"point_collision\"])\n",
    "# Kolumna point_collision zawiera obiekty (punkty), które będą odrysowane na mapie miasta Nowy Jork\n",
    "gis_nyc_collisions = geopandas.GeoDataFrame(gis_nyc_collisions, geometry='point_collision')\n",
    "# gis_nyc_collisions.head(3)"
   ]
  },
  {
   "cell_type": "code",
   "execution_count": null,
   "id": "7ceaf9da-1c55-4eba-86ed-5e414d9c5852",
   "metadata": {},
   "outputs": [],
   "source": [
    "# Określnie lokalizacj gegoraficznych leżących w obszarze miasta Nowy Jork\n",
    "gis_nyc_collisions[\"LocationNYC\"] = False\n",
    "gis_nyc_collisions[\"LocationNYC\"] =  ((gis_nyc_collisions.LONGITUDE < -73.67) & (gis_nyc_collisions.LONGITUDE > -74.3) & (gis_nyc_collisions.LATITUDE > 40.48) & (gis_nyc_collisions.LATITUDE < 40.92))"
   ]
  },
  {
   "cell_type": "raw",
   "id": "e4c1e75f-c1c1-4c75-8232-4cd5b4aadbef",
   "metadata": {},
   "source": [
    "# Przykład punktów współrzędnych geograficznych, których nie narysuję na mapie miasta Nowy Jork\n",
    "gis_nyc_collisions.loc[~gis_nyc_collisions[\"LocationNYC\"]].head(3)"
   ]
  },
  {
   "cell_type": "code",
   "execution_count": null,
   "id": "d4a7e25a-029b-4ae9-b1c0-79fcd3ddb44e",
   "metadata": {},
   "outputs": [],
   "source": [
    "def get_ntacode(point):\n",
    "    data = neighborhood[\"NTACode\"].loc[neighborhood[\"geom\"].contains(point)].values\n",
    "    if len(data):\n",
    "        return data[0]\n",
    "    return None\n",
    "\n",
    "if os.path.isfile(\"data/geo.json\"):\n",
    "    # Wczytanie danych z pliku. Trwa parę minut ...\n",
    "    print(\"z pliku ...\")\n",
    "    gis_nyc_collisions = geopandas.read_file(\"data/geo.json\")\n",
    "else:\n",
    "    print(\"Tworzę ...\")\n",
    "    gis_nyc_collisions[\"NTACode\"] = gis_nyc_collisions['point_collision'].apply(lambda p: get_ntacode(p))\n",
    "    gis_nyc_collisions.to_file(\"data/geo.json\",driver=\"GeoJSON\",index=False)"
   ]
  },
  {
   "cell_type": "code",
   "execution_count": null,
   "id": "e8c5ec64-0699-43ec-81e6-ac04d19644b3",
   "metadata": {},
   "outputs": [],
   "source": [
    "gis_nyc_collisions = gis_nyc_collisions.merge(neighborhood[[\"NTACode\",\"BoroName\",\"BoroCode\"]],on=\"NTACode\",how=\"left\")\n",
    "gis_nyc_collisions.loc[:,\"BoroCode\"] = gis_nyc_collisions.loc[:,\"BoroCode\"].fillna(0)\n",
    "gis_nyc_collisions = gis_nyc_collisions.astype({\"BoroCode\": 'int'})"
   ]
  },
  {
   "cell_type": "code",
   "execution_count": null,
   "id": "a0a0141d-7e37-454d-b4f5-22ca3e76be23",
   "metadata": {},
   "outputs": [],
   "source": [
    "# Przypisanie brakujących okregów na podstawie lokalizacji\n",
    "maps = (gis_nyc_collisions[\"BOROUGH\"] == \"\") & (~gis_nyc_collisions[\"BoroName\"].isna())\n",
    "gis_nyc_collisions.loc[maps,\"BOROUGH\"] = gis_nyc_collisions.loc[maps,\"BoroName\"]\n",
    "gis_nyc_collisions = gis_nyc_collisions.drop(columns=[\"BoroName\"])\n",
    "# gis_nyc_collisions"
   ]
  },
  {
   "cell_type": "code",
   "execution_count": null,
   "id": "d6925ce8-17e9-49c8-bc4e-2e2a7addc323",
   "metadata": {},
   "outputs": [],
   "source": [
    "# Lokalizacje które posiadają nazwę dzielnicy a nie posiadają BoroCode\n",
    "maps = gis_nyc_collisions[\"BOROUGH\"].loc[(gis_nyc_collisions[\"BoroCode\"] == 0) & (gis_nyc_collisions[\"BOROUGH\"] != \"\")].map(boro_dict)\n",
    "gis_nyc_collisions.loc[maps.index,\"BoroCode\"]=maps"
   ]
  },
  {
   "cell_type": "raw",
   "id": "900899f8-7e81-4208-a829-14c4ae09a910",
   "metadata": {},
   "source": [
    "# lokalizacje, których nie udało się przyporządkować do żadnego obszaru geograficznego miasta Nowy Jork\n",
    "gis_nyc_collisions.loc[(gis_nyc_collisions[\"BoroCode\"]==0) & gis_nyc_collisions[\"LocationNYC\"]]"
   ]
  },
  {
   "cell_type": "code",
   "execution_count": null,
   "id": "ec618a36-e9dd-4009-af97-f7780d40f99a",
   "metadata": {},
   "outputs": [],
   "source": [
    "# Zmiana nazwy kolumny żeby nie kolidowała z nyc_collisions[\"BOROUGH\"]\n",
    "gis_nyc_collisions = gis_nyc_collisions.rename(columns={\"BOROUGH\":'BoroName'})"
   ]
  },
  {
   "cell_type": "markdown",
   "id": "a4e5e4aa-ac1a-4847-af1d-882ca491d2d2",
   "metadata": {},
   "source": [
    "##### Uzupełnienie nazw okręgów w dataframe nyc_collisions na podstawie lokalizacji geograficznej."
   ]
  },
  {
   "cell_type": "code",
   "execution_count": null,
   "id": "aa60a8e0-c274-445b-acd6-d2609d0ec0d5",
   "metadata": {},
   "outputs": [],
   "source": [
    "# Uzupełnienie kolumny BOROUGH w DataFrame ny_collisions na podstawie kolumny BoroName z geo_collisions czyli po lolkalizacji geograficznej\n",
    "nyc_collisions = nyc_collisions.merge(gis_nyc_collisions[[\"COLLISION_ID\",\"BoroName\",\"BoroCode\"]], on=\"COLLISION_ID\", how=\"left\")"
   ]
  },
  {
   "cell_type": "raw",
   "id": "64e9e9be-ec18-4060-9869-c4f68947a108",
   "metadata": {},
   "source": [
    "# Wiersze w DataFrame ny_collisions, które można uzupełnić na podstawie lokalizacji geograficznej\n",
    "nyc_collisions.loc[(nyc_collisions[\"BOROUGH\"] == '') & (nyc_collisions[\"BoroName\"].str.len() > 0)][[\"COLLISION_ID\",\"BOROUGH\",\"BoroName\"]]"
   ]
  },
  {
   "cell_type": "code",
   "execution_count": null,
   "id": "69bd0bef-c675-4c34-b589-cb2c0099821f",
   "metadata": {},
   "outputs": [],
   "source": [
    "# Uzupełnienie kolumny BOROUGH w dataframe nyc_collisions na podstawie lokalizacji geofraficznej\n",
    "nyc_collisions.loc[(nyc_collisions[\"BOROUGH\"] == '') & (nyc_collisions[\"BoroName\"].str.len() > 0),\"BOROUGH\"] = nyc_collisions.loc[(nyc_collisions[\"BOROUGH\"] == '') & (nyc_collisions[\"BoroName\"].str.len() > 0),\"BoroName\"]"
   ]
  },
  {
   "cell_type": "code",
   "execution_count": null,
   "id": "bb47a090-ec32-43f9-8a59-153911c6bc15",
   "metadata": {},
   "outputs": [],
   "source": [
    "# Usunięcie zbędnej kolumny\n",
    "nyc_collisions = nyc_collisions.drop(columns=[\"BoroName\"])"
   ]
  },
  {
   "cell_type": "code",
   "execution_count": null,
   "id": "2fa4c943-6320-476f-9145-a28de425728f",
   "metadata": {},
   "outputs": [],
   "source": [
    "# Wyczyszczeni watości NaN z BoroCode\n",
    "# a = len(nyc_collisions)\n",
    "# nyc_collisions.loc[nyc_collisions[\"BoroCode\"].isna()][[\"BOROUGH\",\"BoroCode\"]]\n",
    "nyc_collisions.loc[:,\"BoroCode\"] = nyc_collisions[\"BoroCode\"].fillna(0.0)\n",
    "nyc_collisions = nyc_collisions.astype({\"BoroCode\": 'int'})\n",
    "# display(a,len(nyc_collisions))"
   ]
  },
  {
   "cell_type": "markdown",
   "id": "f7c9a674-4944-4a36-8847-19f53d393499",
   "metadata": {},
   "source": [
    "### Analiza danych\n",
    "\n",
    "Analiza danych o kolizjach w mieście Nowy Jork została podzielona na dwie częsci:\n",
    "- Analiza danych w oparciu o wszystkie dostępne dane, bez uwzględnienia lokalizacji geograficznej.\n",
    "- Analiza danych oparta na lokalizacji geogeaficznej, uwzględnia dane które udało się przyporządkować po lokalizacji geograficznej do miasta Nowy Jork."
   ]
  },
  {
   "cell_type": "markdown",
   "id": "00a3defa-a167-498f-84ef-5e0a38ebbca1",
   "metadata": {},
   "source": [
    "#### Analiza danych w oparciu o wszystkie dostępne dane, bez uwzględnienia lokalizacji geograficznej."
   ]
  },
  {
   "cell_type": "markdown",
   "id": "547c6863-81bb-4b99-9796-88c1351e857d",
   "metadata": {},
   "source": [
    "Zakres dat objęty analizą wynosi:"
   ]
  },
  {
   "cell_type": "code",
   "execution_count": null,
   "id": "5505d7e7-0785-4a13-9327-e0fd6acc68ac",
   "metadata": {},
   "outputs": [],
   "source": [
    "# okres czasu\n",
    "nyc_collisions[\"ACCIDENT DATE\"].agg(['min','max'])"
   ]
  },
  {
   "cell_type": "markdown",
   "id": "ca2b34fc-979c-4aff-9d8c-f16fd9e9069e",
   "metadata": {},
   "source": [
    "#### ilość kolizji w podziale na okręgi NYC oraz całkowia (TOTAL) za cały dostępny okres czasu."
   ]
  },
  {
   "cell_type": "code",
   "execution_count": null,
   "id": "fab878d1-439d-4330-a72e-fdeac8081cff",
   "metadata": {},
   "outputs": [],
   "source": [
    "# ilość kolizji w podziale na okręgi NYC oraz całkowia (TOTAL)\n",
    "collision_by_borough = nyc_collisions.groupby(\"BOROUGH\")[\"COLLISION_ID\"].count()\n",
    "collision_by_borough.name = \"COUNT\"\n",
    "collision_by_borough = collision_by_borough.rename({'':'UNKNOW'})\n",
    "collision_by_borough[\"TOTAL\"] = collision_by_borough.sum()\n",
    "proc = 100*collision_by_borough[\"UNKNOW\"]/collision_by_borough[\"TOTAL\"]\n",
    "collision_by_borough.sort_values()"
   ]
  },
  {
   "cell_type": "markdown",
   "id": "6cd2b04c-f785-41cf-9609-0200fe2fb3e1",
   "metadata": {},
   "source": [
    "**Ilość kolizji w podziale na okręgi NYC**"
   ]
  },
  {
   "cell_type": "code",
   "execution_count": null,
   "id": "2c54478e-7c6e-43b6-a342-57410212410f",
   "metadata": {},
   "outputs": [],
   "source": [
    "# Ilość kolizji w podziale na okręgi NYC\n",
    "fig, ax = plt.subplots(figsize=(15,8))\n",
    "p = ax.bar(collision_by_borough.index.to_list()[:-1],collision_by_borough[:-1])\n",
    "ax.bar_label(p, padding=6);\n",
    "ax.set_ylabel(\"Liczba kolizji\")\n",
    "ax.set_xlabel(\"Okręg NYC\")\n",
    "ax.set_title(\"Liczba kolizji w podziale na okręgi NYC\");\n",
    "# ax.ticklabel_format(style='plain',axis='y')\n",
    "# ax.set_ylim(0, 1_100_000);"
   ]
  },
  {
   "cell_type": "code",
   "execution_count": null,
   "id": "018140b2-b633-40ee-92cd-d70b95189f05",
   "metadata": {},
   "outputs": [],
   "source": [
    "print(f\"Dane o kolizjach które nie udało sie przyporządkować do żadnego okręgu znajdują się w grupie UNKOWN. Stanowią one {proc:.2f}% wszystkich danych.\")"
   ]
  },
  {
   "cell_type": "markdown",
   "id": "ec4cbe8c-fbbb-419f-8339-436f5ce7b7c0",
   "metadata": {},
   "source": [
    "#### ilość kolizji w pełnych latach w podziale na okręgi miasta Nowy Jork.\n",
    "\n",
    "Pod uwagę biorę tylko pełne lata zawarte w danych o kolizjach. Nie uwzględniono roku 2012 i 2019 z powodu braku pełnych danych w tych latach."
   ]
  },
  {
   "cell_type": "code",
   "execution_count": null,
   "id": "4ccb0784-1c2d-422a-915f-ae51ac2cfa2b",
   "metadata": {},
   "outputs": [],
   "source": [
    "collisions_boro_by_year = nyc_collisions.loc[(nyc_collisions[\"ACCIDENT DATE\"].dt.year > 2012) & (nyc_collisions[\"ACCIDENT DATE\"].dt.year < 2019)].groupby([nyc_collisions[\"ACCIDENT DATE\"].dt.year,\"BOROUGH\"])[\"COLLISION_ID\"].count().to_frame().unstack()\n",
    "collisions_boro_by_year = collisions_boro_by_year.rename(columns={'':'UNKNOWN'})\n",
    "collisions_boro_by_year = collisions_boro_by_year.rename(columns={'COLLISION_ID':'NUMBER OF COLLISIONS PER YEAR'},level=0)\n",
    "collisions_boro_by_year[('NUMBER OF COLLISIONS PER YEAR',\"TOTAL\")] = collisions_boro_by_year.sum(axis=1)\n",
    "collisions_boro_by_year"
   ]
  },
  {
   "cell_type": "markdown",
   "id": "80ef560f-9660-4e24-b8e1-5f0da45f9c78",
   "metadata": {},
   "source": [
    "**Liczba kolizji w okręgach NYC w podziale na pełne lata**\\\n",
    "Kolumna UNKNOWN wskazuje na kolizje, które nie zostały przyporządkowane do żadnych okręgów (problematyczny zbiór danych)."
   ]
  },
  {
   "cell_type": "code",
   "execution_count": null,
   "id": "1b554ec0-514f-4973-9f63-a45bff8f2fa6",
   "metadata": {},
   "outputs": [],
   "source": [
    "# Wykres ilości kolizji w podziale na okręgi w poszczególnych latach\n",
    "fig,ax = plt.subplots(figsize=(15,10))\n",
    "for col in collisions_boro_by_year:\n",
    "    ax.plot(collisions_boro_by_year.index,collisions_boro_by_year[col],label=col[1])\n",
    "ax.legend(loc='center left')\n",
    "ax.set_title(\"Liczba kolizji w poszczególnych latach dla okręgów NYC oraz ogółem\")\n",
    "ax.set_ylabel(\"Liczba kolizji\")\n",
    "ax.set_xlabel(\"Rok\")\n",
    "plt.grid()\n",
    "plt.show()"
   ]
  },
  {
   "cell_type": "markdown",
   "id": "9203c695-9948-4a33-b1ae-d761922bbc47",
   "metadata": {},
   "source": [
    "**Wnioski:**\\\n",
    "Posiadamy pewną część problematycznych danych, których nie można przyporządkować do żadnego z okręgów miasta Nowy Jork (grupa UNKNOW). Na wykresie widać, że ilość kolizji z grupy UNKNOW, znacznie przekracza liczbę kolizji okręgu STATEN ISLAND, więc analiza jest obarczona błędem, ktorego nie da się wyeliminować z względu na problematyczne dane.\n",
    "Z danych które są dostępne wynika że okręg *STATEN ISLAND* posiada najmniejszą liczbę kolizji. *STATEN ISLAND* posiada najmniejszą populację mieszkańców.\\\n",
    "Największą liczbę kolizji wykazał się okręg *BROOKLYN*, jeden z najludnieszych okręgów miasta.\\\n",
    "Wykres liczby kolizji w podziale na lata, wykazuje tendencje do wzrostu liczby kolizji."
   ]
  },
  {
   "cell_type": "markdown",
   "id": "bb7ebd69-18e5-4051-86a6-cf3a4ff933c9",
   "metadata": {},
   "source": [
    "#### Określenie najniebezpieczniejszych czynników wypadków w każdej z dzielnic NYC"
   ]
  },
  {
   "cell_type": "raw",
   "id": "0a9838d7-ba56-4d2a-98f3-3f01a39485d2",
   "metadata": {},
   "source": [
    "# Czynniki kolizji dostepne w kolumnach \"CONTRIBUTING FACTOR VEHICLE\" dataframe ny_collisions\n",
    "contributing_factors = pd.Series('',index=nyc_collisions[['CONTRIBUTING FACTOR VEHICLE 1','CONTRIBUTING FACTOR VEHICLE 2','CONTRIBUTING FACTOR VEHICLE 3','CONTRIBUTING FACTOR VEHICLE 4','CONTRIBUTING FACTOR VEHICLE 5']].stack().unique())\n",
    "contributing_factors"
   ]
  },
  {
   "cell_type": "code",
   "execution_count": null,
   "id": "7269ddaa-a754-44a0-a876-78416071d68f",
   "metadata": {},
   "outputs": [],
   "source": [
    "# Funkcja zliczająca wartości z kolumn col, dataframe df pogrupowanym po kolumnie gr.\n",
    "# Zwraca ilość czynników w poszczególnych grupach w postaci dataframe, gdzie wiersze to czynniki a kolumny to grupy.\n",
    "# Funkcja zostanie użyta do określenia czynników wypadków w każdej z dzielnic NYC i typów pojazdów uczestniczących w kolizji\n",
    "def count_value_by_group(df,gr,col):\n",
    "    ret = None\n",
    "    for val in df.groupby(gr)[col]:\n",
    "        factors =  pd.Series(0,index=df[col].stack().unique())\n",
    "        for c in val[1]:\n",
    "            f = val[1][c].value_counts()\n",
    "            factors = factors.add(f,fill_value=0)\n",
    "        factors.name = val[0] if len(val[0]) > 0 else 'UNKNOWN'\n",
    "        if ret is None:\n",
    "            ret = pd.DataFrame(factors)\n",
    "        else:\n",
    "            ret = pd.concat([ret,factors],axis=1)\n",
    "    ret[\"TOTAL\"] = ret.sum(axis=1)\n",
    "    ret = ret.drop('',axis='index')\n",
    "    return ret"
   ]
  },
  {
   "cell_type": "code",
   "execution_count": null,
   "id": "be43236f-ec4d-4542-8bfb-d6ba2e1270e3",
   "metadata": {},
   "outputs": [],
   "source": [
    "# Określenie czynników kolizji z kolumn 'CONTRIBUTING FACTOR VEHICLE' dla każdej dzielnicy NYC (kolumna BOROUGH)\n",
    "contributing_factor = count_value_by_group(nyc_collisions,\"BOROUGH\",['CONTRIBUTING FACTOR VEHICLE 1','CONTRIBUTING FACTOR VEHICLE 2','CONTRIBUTING FACTOR VEHICLE 3','CONTRIBUTING FACTOR VEHICLE 4', 'CONTRIBUTING FACTOR VEHICLE 5'])\n",
    "contributing_factor.sort_values(ascending=False,by=\"TOTAL\")\n",
    "# najczęstrze czynniki kolizji dla wszystkich dzielnic NYC"
   ]
  },
  {
   "cell_type": "markdown",
   "id": "e7d1c495-08bf-44b4-9118-5ff257506e58",
   "metadata": {},
   "source": [
    "**Czynniki odpowiedzialne za kolizję posortowane od najczęsciej występujących.**\\\n",
    "Kolumna *UNKNOWN* dotyczy kolizji które nie zostały przyporządkowane przez twórców danych do żadnego okręgu NYC."
   ]
  },
  {
   "cell_type": "code",
   "execution_count": null,
   "id": "1bc69e9e-97f9-4a4e-924c-e9535afef675",
   "metadata": {},
   "outputs": [],
   "source": [
    "# Pięć najczęstrzych czynników wypadków w podziale na okręgi NYC z pominięciem czynnika UNSPECIFIED\n",
    "# Czynnik UNSPECIFIED (NIEOKREŚLONY), jest najczęściej występującym czynnikiem kolizji/wypadku.\n",
    "rows = [\"DRIVER INATTENTION/DISTRACTION\",\"FAILURE TO YIELD RIGHT-OF-WAY\",\"FOLLOWING TOO CLOSELY\",\"OTHER VEHICULAR\",\"BACKING UNSAFELY\"]\n",
    "cols = [\"BRONX\",\"BROOKLYN\",\"MANHATTAN\",\"QUEENS\",\"STATEN ISLAND\"]\n",
    "contributing_factor_segment = contributing_factor.loc[rows,cols]\n",
    "display(contributing_factor_segment)"
   ]
  },
  {
   "cell_type": "markdown",
   "id": "750b08fe-f1a1-40c2-a791-24a8e026a349",
   "metadata": {},
   "source": [
    "**Pięć najczęstrzych przyczyn wypadków w okręgach NYC**\\\n",
    "Jest to wycinek danych w którym pominięto czynnik wypadku *UNSPECIFIED* oraz pominięto dane nie przyporządkowane do żadnego z okręgów NYC"
   ]
  },
  {
   "cell_type": "code",
   "execution_count": null,
   "id": "3324eaef-5628-4eae-bb07-e66340405bef",
   "metadata": {},
   "outputs": [],
   "source": [
    "# Wykres pięciu najczęstrzych czynników wypadków w podziale na okręgi NYC\n",
    "cf_name = contributing_factor_segment.index.to_list()\n",
    "x = np.arange(len(cf_name))\n",
    "width = 1/(len(cf_name)+1)\n",
    "multiplier = 0\n",
    "fig, ax = plt.subplots(layout='constrained', figsize=(15,8))\n",
    "for boro in contributing_factor_segment.columns:\n",
    "    offset = width * multiplier\n",
    "    rects = ax.bar(x + offset, contributing_factor_segment[boro], width, label=boro)\n",
    "    ax.bar_label(rects, padding=6);\n",
    "    multiplier += 1\n",
    "ax.set_ylabel(\"Liczba przypadków\")\n",
    "ax.set_xlabel(\"Czynnik kolizji\")\n",
    "ax.set_title(\"Pięć najczęstrzych czynników kolizji w okręgach NYC\")\n",
    "# ax.set_xticks(x + 2*width, cf_name, rotation=90)\n",
    "ax.set_xticks(x + 2*width, cf_name)\n",
    "ax.legend(loc='upper right', ncols=1)\n",
    "ax.set_ylim(0, 90000);"
   ]
  },
  {
   "cell_type": "markdown",
   "id": "8b211a53-d455-452a-905f-4c47549688db",
   "metadata": {},
   "source": [
    "**Wnioski:**\\\n",
    "Najczęstrzą przyczyną kolizji/wypadków w NYC dla wszystkich okręgów jest UNSPECIFIED (nieokreślona). Pomijając tę przyczynę kolizji (UNSPECIFIED), druga w kolejności jak widać z wykresu jest DRIVER INATTENTION/DISTRACTION (Nieuwaga / Rozproszenie kierowcy) dla wszystkich okręgów NYC."
   ]
  },
  {
   "cell_type": "code",
   "execution_count": null,
   "id": "d610be18-e0e5-4ce9-9e9b-184bd63bb1ed",
   "metadata": {},
   "outputs": [],
   "source": [
    "# Trzy najważniejsze czynniki kolizji/wypadków w poszczególnych okręgach NYC wraz z częstością ich występowania\n",
    "# bez czynnika UNSPECIFIED\n",
    "pie_data = {}\n",
    "for c in [\"BRONX\",\"BROOKLYN\",\"MANHATTAN\",\"QUEENS\",\"STATEN ISLAND\",\"TOTAL\"]:\n",
    "    slc = contributing_factor.loc[contributing_factor.index != \"UNSPECIFIED\"].sort_values(ascending=False,by=c)[c].head(3)\n",
    "    pie_data[c]=slc.to_dict()\n",
    "    pie_data[c][\"OTHERS\"] = contributing_factor.loc[contributing_factor.index != \"UNSPECIFIED\"][c].sum()\n",
    "    display(slc.to_frame())\n",
    "# pie_data"
   ]
  },
  {
   "cell_type": "markdown",
   "id": "d562c1cc-3abb-4def-b275-b8701ee17d7b",
   "metadata": {},
   "source": [
    "**Wnioski:**\\\n",
    "Z powyższych danych tabelarycznych wynika że najczęstrzymi trzema czynnikami kolizji/wypadków (z pominięciem czynnika UNSPECIFIED) w okręgach NYC są:\n",
    "- DRIVER INATTENTION/DISTRACTION (nieuwaga/rozproszenie kierowcy), OTHER VEHICULAR (inny pojazd), FOLLOWING TOO CLOSELY (zbyt bliska jazda za innym pojazdem) w okręgu Bronx\n",
    "- DRIVER INATTENTION/DISTRACTION (nieuwaga/rozproszenie kierowcy), FAILURE TO YIELD RIGHT-OF-WAY (nieudzielenie pierszeństwa przejazdu), FOLLOWING TOO CLOSELY (zbyt bliska jazda za innym pojazdem) w okręgach Brooklyn, Queens i Staten Island\n",
    "- DRIVER INATTENTION/DISTRACTION (nieuwaga/rozproszenie kierowcy), OTHER VEHICULAR (inny pojazd), FAILURE TO YIELD RIGHT-OF-WAY (nieudzielenie pierszeństwa przejazdu) w okręgu Manhattan\n",
    "\n",
    "Ogólnie najczęstrzymi określonymi przyczynami kolizji/wypadku w kolejności od najczęstrzej są:\n",
    "- DRIVER INATTENTION/DISTRACTION (nieuwaga/rozproszenie kierowcy)\n",
    "- FAILURE TO YIELD RIGHT-OF-WAY (nieudzielenie pierszeństwa przejazdu)\n",
    "- FOLLOWING TOO CLOSELY (zbyt bliska jazda za innym pojazdem)"
   ]
  },
  {
   "cell_type": "code",
   "execution_count": null,
   "id": "67c7454d-3ca0-4cfb-a34b-24b4364caa36",
   "metadata": {},
   "outputs": [],
   "source": [
    "# Wykres trzech najczęstrzych przyczyn wypadków/kolizji w NYC w stosunku do wszystkich innych razem wziętych\n",
    "fig = plt.figure(figsize=(20,20))\n",
    "ax = []\n",
    "for i,boro in enumerate(pie_data):\n",
    "    ax.append(fig.add_subplot(3,2,i+1))\n",
    "    ax[i].pie(pie_data[boro].values(),labels=pie_data[boro].keys(),autopct='%1.1f%%',explode=(0,0,0,0.1),shadow=True)\n",
    "    ax[i].set_title(boro)\n",
    "fig.suptitle(\"Trzy najczęstrze przyczyny kolizji/wypadków w podziale na okręgi NYC oraz ogółem (TOTAL)\");"
   ]
  },
  {
   "cell_type": "markdown",
   "id": "4bbe9cac-c453-416e-a6c9-b3005823e3b7",
   "metadata": {},
   "source": [
    "#### Ilość zgonów oraz rannych spowodowanych zbyt szybką jazdą w poszczególnych okręgach NYC oraz ogółem.\n",
    "\n",
    "Kolizje/wypadki będą reprezentowane przez czynnik o nazwie \"UNSAFE SPEED\"."
   ]
  },
  {
   "cell_type": "code",
   "execution_count": null,
   "id": "07dd52ff-a500-4bdd-9829-e41ff1252990",
   "metadata": {},
   "outputs": [],
   "source": [
    "# Liczba zabitych i rannych spowodowanych czynnikiem \"UNSAFE SPEED\" (Niebezpieczna prędkość)\n",
    "killed = nyc_collisions.loc[nyc_collisions[\"CONTRIBUTING_FACTORS\"].str.count(\"UNSAFE SPEED\") > 0].groupby(\"BOROUGH\")[\"NUMBER OF PERSONS KILLED\"].sum()\n",
    "injured = nyc_collisions.loc[nyc_collisions[\"CONTRIBUTING_FACTORS\"].str.count(\"UNSAFE SPEED\") > 0].groupby(\"BOROUGH\")[\"NUMBER OF PERSONS INJURED\"].sum()\n",
    "killed_injured_speed = pd.concat([killed,injured],axis=1).T\n",
    "killed_injured_speed.index.name = 'UNSAFE SPEED'\n",
    "killed_injured_speed[\"TOTAL\"] = killed_injured_speed.sum(axis=1)\n",
    "killed_injured_speed"
   ]
  },
  {
   "cell_type": "markdown",
   "id": "e80d72e9-83f4-47ba-84f7-ec37d776bcb4",
   "metadata": {},
   "source": [
    "**Liczba zabitych i rannych w których jednym z czynników wypadku była zbyt szybka jazda.**\\\n",
    "Kolumna *UNKNOWN* reprezentuje dane które nie udało się przydzielić do żadnych z okręgów (problematyczne dane).\n",
    "\n",
    "**Wniosek:**\\\n",
    "Najniebezpieczniejszymi okręgami pod względem zbyt szybkiej jazdy są okręgi Queens i Brooklin. Liczba zabitych i rannych z powodu zbyt szybkiej jazdy była w tych okręgach największa."
   ]
  },
  {
   "cell_type": "code",
   "execution_count": null,
   "id": "4ae11ec0-9a67-43a1-92ce-69941ae426ae",
   "metadata": {},
   "outputs": [],
   "source": [
    "# Okręgami zabici\n",
    "boro = killed_injured_speed.columns.to_list()[:-1]\n",
    "fig = plt.figure(figsize=(20,12))\n",
    "ax1 = fig.add_subplot(2,2,1)\n",
    "# ax1.bar(boro,kj.loc[\"KILLED\"][1:],color=\"red\")\n",
    "p = ax1.bar(boro,killed_injured_speed.loc[\"NUMBER OF PERSONS KILLED\"][:-1],color=\"red\")\n",
    "ax1.bar_label(p,padding=4)\n",
    "ax1.set_ylabel(\"Liczba zgonów\")\n",
    "ax1.set_xlabel(\"Okręgi NYC\")\n",
    "ax1.set_ylim(0, 55);\n",
    "# Okręgami ranni\n",
    "ax2 = fig.add_subplot(2,2,2)\n",
    "# ax2.bar(boro,kj.loc[\"INJURED\"][1:],color=\"orange\")\n",
    "p = ax2.bar(boro,killed_injured_speed.loc[\"NUMBER OF PERSONS INJURED\"][:-1],color=\"orange\")\n",
    "ax2.bar_label(p,padding=4)\n",
    "ax2.set_ylim(0, 2500);\n",
    "ax2.set_ylabel(\"Liczba rannych\")\n",
    "ax2.set_xlabel(\"Okręgi NYC\")\n",
    "# Ogółem zabici\n",
    "boro = killed_injured_speed.columns.to_list()\n",
    "ax3 = fig.add_subplot(2,2,3)\n",
    "p = ax3.bar(boro,killed_injured_speed.loc[\"NUMBER OF PERSONS KILLED\"],color=\"red\")\n",
    "ax3.bar_label(p,padding=4)\n",
    "ax3.set_ylabel(\"Liczba zgonów\")\n",
    "ax3.set_xlabel(\"Okręgi NYC oraz ogółem\")\n",
    "ax3.set_ylim(0, 130);\n",
    "# Ogółem ranni\n",
    "ax4 = fig.add_subplot(2,2,4)\n",
    "p = ax4.bar(boro,killed_injured_speed.loc[\"NUMBER OF PERSONS INJURED\"],color=\"orange\")\n",
    "ax4.bar_label(p,padding=4)\n",
    "ax4.set_ylabel(\"Liczba rannych\")\n",
    "ax4.set_xlabel(\"Okręgi NYC oraz ogółem\")\n",
    "ax4.set_ylim(0, 8500)\n",
    "fig.suptitle(\"Ilość zgonów oraz rannych spowodowanych zbyt szybką jazdą w poszczególnych okręgach NYC oraz ogółem\");"
   ]
  },
  {
   "cell_type": "code",
   "execution_count": null,
   "id": "6ca0493c-134e-46e9-9c0b-0520413aad96",
   "metadata": {},
   "outputs": [],
   "source": [
    "# Liczba osób rannych w poszczególnych okręgach w podziale na lata\n",
    "injured_boro_by_year = nyc_collisions.loc[(nyc_collisions[\"ACCIDENT DATE\"].dt.year > 2012) & (nyc_collisions[\"ACCIDENT DATE\"].dt.year < 2019)].groupby([nyc_collisions[\"ACCIDENT DATE\"].dt.year,\"BOROUGH\"])[\"NUMBER OF PERSONS INJURED\"].sum().to_frame().unstack()\n",
    "injured_boro_by_year = injured_boro_by_year.rename(columns={'':'UNKNOWN'})\n",
    "injured_boro_by_year[('NUMBER OF PERSONS INJURED',\"TOTAL\")] = injured_boro_by_year.sum(axis=1)\n",
    "injured_boro_by_year"
   ]
  },
  {
   "cell_type": "markdown",
   "id": "fdadf78e-a11a-44ed-a5cc-8530e5cf3bac",
   "metadata": {},
   "source": [
    "**Liczba rannych w pełnych latach w podziale na okręgi**\\\n",
    "Dane obejmują pełne lata od 2013 do 2018 wszystkich wypadków/kolizji. Kolumna *UNKNOWN* to dane, których nie można było przyporządkować do żadnego okręgu NYC."
   ]
  },
  {
   "cell_type": "code",
   "execution_count": null,
   "id": "35af9f64-9c04-4ed5-92fc-f1cf746ad816",
   "metadata": {},
   "outputs": [],
   "source": [
    "# Wykres liczby rannych w podziale na lata i okręgi NYC\n",
    "fig,ax = plt.subplots(figsize=(15,10))\n",
    "for col in injured_boro_by_year:\n",
    "    ax.plot(injured_boro_by_year.index,injured_boro_by_year[col],label=col[1])\n",
    "ax.legend()\n",
    "ax.set_title(\"Liczba rannych w poszczególnych latach dla okręgów NYC oraz ogółem\")\n",
    "ax.set_ylabel(\"Liczba rannych\")\n",
    "ax.set_xlabel(\"Rok\")\n",
    "plt.grid()\n",
    "plt.show()"
   ]
  },
  {
   "cell_type": "code",
   "execution_count": null,
   "id": "c5885dfa-84d5-4d61-95e7-aaffb4c1a0c5",
   "metadata": {},
   "outputs": [],
   "source": [
    "# Liczba osób zabitych w poszczególnych okręgach w podziale na lata\n",
    "killed_boro_by_year = nyc_collisions.loc[(nyc_collisions[\"ACCIDENT DATE\"].dt.year > 2012) & (nyc_collisions[\"ACCIDENT DATE\"].dt.year < 2019)].groupby([nyc_collisions[\"ACCIDENT DATE\"].dt.year,\"BOROUGH\"])[\"NUMBER OF PERSONS KILLED\"].sum().to_frame().unstack()\n",
    "killed_boro_by_year = killed_boro_by_year.rename(columns={'':'UNKNOWN'})\n",
    "killed_boro_by_year[('NUMBER OF PERSONS KILLED',\"TOTAL\")] = killed_boro_by_year.sum(axis=1)\n",
    "killed_boro_by_year"
   ]
  },
  {
   "cell_type": "markdown",
   "id": "b3d2e73c-a900-45b1-a83c-bb936d388127",
   "metadata": {},
   "source": [
    "**Liczba zabitych w pełnych latach w podziale na okręgi**\\\n",
    "Dane obejmują pełne lata od 2013 do 2018 wszystkich wypadków/kolizji. Kolumna *UNKNOWN* to dane, których nie można było przyporządkować do żadnego okręgu NYC."
   ]
  },
  {
   "cell_type": "code",
   "execution_count": null,
   "id": "ccaf1540-f4b0-4f5f-b807-c213883c9b84",
   "metadata": {},
   "outputs": [],
   "source": [
    "# Liczba zabitych w podziale na lata i okręgi NYC\n",
    "fig,ax = plt.subplots(figsize=(15,10))\n",
    "for col in killed_boro_by_year:\n",
    "    ax.plot(killed_boro_by_year.index,killed_boro_by_year[col],label=col[1])\n",
    "ax.legend()\n",
    "ax.set_title(\"Liczba zabitych w poszczególnych latach dla okręgów NYC oraz ogółem\")\n",
    "ax.set_ylabel(\"Liczba zabitych\")\n",
    "ax.set_xlabel(\"Rok\")\n",
    "plt.grid()\n",
    "plt.show()"
   ]
  },
  {
   "cell_type": "markdown",
   "id": "18add80f-88d7-48d9-a795-6839c2bd233d",
   "metadata": {},
   "source": [
    "**Wnioski:**\\\n",
    "Okręgiem przodującym zarówno w liczbie osób zabitych jak i rannych w wyniku zbyt szybkiej jazdy jest okręg Queens drugie miejsce zajmuje Brooklyn.\n",
    "Całościowo bez względu na czynnik wypadku/kolizji w liczbie rannych przoduje okręg Brooklyn, natomiast w liczbie zabitych okręg Queens. Ogólnie liczba zabitych w wypadkach ma tendencję spadkową."
   ]
  },
  {
   "cell_type": "markdown",
   "id": "57963a0d-a72d-4d23-983c-9a3ddfd68501",
   "metadata": {},
   "source": [
    "#### Określenie jakie pojazdy najczęściej uczestniczyły w wypadkach"
   ]
  },
  {
   "cell_type": "code",
   "execution_count": null,
   "id": "9a1371ae-751c-4da6-8b72-10b0d639a536",
   "metadata": {},
   "outputs": [],
   "source": [
    "cols = ['VEHICLE TYPE CODE 1','VEHICLE TYPE CODE 2','VEHICLE TYPE CODE 3','VEHICLE TYPE CODE 4', 'VEHICLE TYPE CODE 5']\n",
    "vehicles = count_value_by_group(nyc_collisions,\"BOROUGH\",cols)\n",
    "vehicles.sort_index(inplace=True)\n",
    "# vehicles.sort_values(ascending=False,by=\"TOTAL\")\n",
    "# vehicles.sort_values(ascending=False,by=\"TOTAL\")"
   ]
  },
  {
   "cell_type": "code",
   "execution_count": null,
   "id": "ef461649-c0b6-436b-8fe2-a633b9516612",
   "metadata": {},
   "outputs": [],
   "source": [
    "# Wykres dla pięciu typów pojazdów uczestniczących w kolizji\n",
    "rows = [\"PASSENGER VEHICLE\",\"SPORT UTILITY / STATION WAGON\",\"SEDAN\",\"STATION WAGON/SPORT UTILITY VEHICLE\",\"TAXI\"]\n",
    "cols = [\"UNKNOWN\",\"BRONX\",\"BROOKLYN\",\"MANHATTAN\",\"QUEENS\",\"STATEN ISLAND\",\"TOTAL\"]\n",
    "vehicles_top_5 = vehicles.loc[rows,cols]\n",
    "vehicles_top_5"
   ]
  },
  {
   "cell_type": "markdown",
   "id": "4960f02b-c2ac-468c-8da5-b2aa9c52764f",
   "metadata": {},
   "source": [
    "**Częstość wypadków/kolizji po typach pojazdów w poszczególnych okręgach NYC**\\\n",
    "Kolumna *UNKNOWN* to dane których nie można było przyporządkować do żadnego okręgu NYC."
   ]
  },
  {
   "cell_type": "code",
   "execution_count": null,
   "id": "39328234-32b1-4b5c-a1ed-7a6ae13c065b",
   "metadata": {},
   "outputs": [],
   "source": [
    "# Pięć najczęstrzych typów pojazdów uczestniczących w kolizjach w okręgach NYC\n",
    "vhc = vehicles_top_5.index.to_list()\n",
    "x = np.arange(len(vhc))\n",
    "width = 1/7\n",
    "multiplier = 0\n",
    "fig, ax = plt.subplots(layout='constrained', figsize=(15,8))\n",
    "for boro in vehicles_top_5.columns[:-1]:\n",
    "    offset = width * multiplier\n",
    "    rects = ax.bar(x + offset, vehicles_top_5[boro], width, label=boro)\n",
    "    ax.bar_label(rects, padding=6);\n",
    "    multiplier += 1\n",
    "ax.set_ylabel(\"Liczba typów pojazdów uczestniczących w kolizjach\")\n",
    "ax.set_xlabel(\"Typ pojazdu\")\n",
    "ax.set_title(\"Pięć najczęstrzych typów pojazdów uczestniczących w kolizjach w okręgach NYC\")\n",
    "ax.set_xticks(x + 2.5*width, vhc)\n",
    "ax.legend(loc='upper right', ncols=1)\n",
    "ax.set_ylim(0, 300000);"
   ]
  },
  {
   "cell_type": "code",
   "execution_count": null,
   "id": "93104c6a-1308-408f-932b-6720592b5933",
   "metadata": {},
   "outputs": [],
   "source": [
    "# Całkowita liczba przypadków kolizji po 5 naczęściej występujących typach pojazdów\n",
    "fig, ax = plt.subplots(figsize=(15,8))\n",
    "p = ax.bar(vehicles_top_5.index.to_list(),vehicles_top_5[\"TOTAL\"])\n",
    "ax.bar_label(p, padding=6)\n",
    "ax.set_ylabel(\"Liczba typów pojazdów uczestniczących w kolizjach\")\n",
    "ax.set_xlabel(\"Typ pojazdu\")\n",
    "ax.set_title(\"Typy pojazdów uczestniczących w kolizjach ogółem w NYC\");\n",
    "ax.ticklabel_format(style='plain',axis='y')\n",
    "ax.set_ylim(0, 1_100_000);"
   ]
  },
  {
   "cell_type": "markdown",
   "id": "b83ae11b-625d-40a1-92dd-2d4839cadb51",
   "metadata": {},
   "source": [
    "**Wnioski:**\\\n",
    "Najczęstrzym typem samochodu uczystniczącym w kolizjach/wypadkach jest samochód osobowy.\\\n",
    "Niestety brak słownika z typami smaochodów uniemożliwia rzetelną analizę, przykładem jest typ pojazdu *SPORT UTILITY / STATION WAGON* i *STATION WAGON/SPORT UTILITY VEHICLE* który prawdopodobnie dotyczy tego samego typu pojazdu."
   ]
  },
  {
   "cell_type": "markdown",
   "id": "95aed0ac-c3d5-4a1f-92f3-effff93feca0",
   "metadata": {},
   "source": [
    "#### Analiza danych oparta na lokalizacji geogeaficznej.\n",
    "\n",
    "Analiza danych w oparciu o lokalizacje geograficzne, opiera się na wycinku danych, które udało się przyporządkować do obszarów lub sąsiedztw."
   ]
  },
  {
   "cell_type": "code",
   "execution_count": null,
   "id": "fc5da503-1816-4f31-8566-27f4915f46be",
   "metadata": {},
   "outputs": [],
   "source": [
    "# Kolizje które posiadają prawidłową lokalizację w NYC\n",
    "# Cały zakres dat\n",
    "fig,ax = plt.subplots(1,1, figsize=(15,15))\n",
    "ax.set_title(\"wszystkie punkty kolizji za cały okres czasu analizowanych danych.\")\n",
    "base = neighborhood.plot(color=\"orange\",alpha=0.5,edgecolor='black',ax=ax)\n",
    "gis_nyc_collisions.loc[gis_nyc_collisions[\"LocationNYC\"]].plot(ax=base, color=\"red\", markersize=0.1);"
   ]
  },
  {
   "cell_type": "markdown",
   "id": "5a0527d3-8f82-4d35-a711-893eb9b9a8ae",
   "metadata": {},
   "source": [
    "Z wykresu powyżej widać, że kolizje wydarzają się praktycznie w każdym miejscu miasta Nowy Jork gdzie znajdują się ulice. Duże zagęszczenie  punktów kolizji np. w okręgu Manhattan, a dużo mniesze w okręgu Staten Island, co pokrywa z zaludniem tych okręgów (dużo mniejsze na Staten Island niż na Manhattan)."
   ]
  },
  {
   "cell_type": "markdown",
   "id": "8cf0e883-33fc-4a8d-b010-56efcb7fbc8f",
   "metadata": {},
   "source": [
    "#### Obszary okręgów NYC, gdzie kolizje występowały najczęściej"
   ]
  },
  {
   "cell_type": "code",
   "execution_count": null,
   "id": "bf832a22-6c24-456b-999d-7449714e7684",
   "metadata": {},
   "outputs": [],
   "source": [
    "# 10 pierwszych obszarów miasta Nowy Jork w którym kolizje występują najczęściej\n",
    "# Uwzględniam tylko kolizje z przypisaną lokalizacją geograficzną do dowolnego obszaru miasta Nowy Jork\n",
    "# za cały okres czasu.\n",
    "# geo_collisions.loc[~geo_collisions[\"NTACode\"].isna()].groupby(\"NTACode\")[\"COLLISION_ID\"].count().sort_values(ascending=False).head(10)\n",
    "nta_collisions = gis_nyc_collisions.loc[~gis_nyc_collisions[\"NTACode\"].isna()].groupby(\"NTACode\")[\"COLLISION_ID\"].count().sort_values(ascending=False)\n",
    "nta_collisions.name = \"Count\"\n",
    "# nta_collisions.head(10)\n",
    "neighborhood[[\"NTACode\",\"BoroCode\",\"BoroName\",\"neighbourhood\"]].merge(nta_collisions,on=\"NTACode\").sort_values(\"Count\", ascending=False).head(10)"
   ]
  },
  {
   "cell_type": "markdown",
   "id": "c4a2ba88-b65e-496a-ad7e-8bede53bfaa1",
   "metadata": {},
   "source": [
    "**Dziesięć sąsiedztw w których doszło do największej liczby wypadków/kolizji.**\\\n",
    "Kolumna *BoroName* określa nazwę okręgu, *neighbourhood* nazwę sąsiedztwa w okręgu, a *Count* liczbę kolizji w sąsiedztwie.\\\n",
    "Przodują trzy okręgi Manhattan, Brooklyn i Queens"
   ]
  },
  {
   "cell_type": "code",
   "execution_count": null,
   "id": "98a631ed-7d80-4c49-93b5-56edb1cd8c31",
   "metadata": {},
   "outputs": [],
   "source": [
    "# Gdzie na mapie miasta Nowy Jork znajduje się Midtown-Midtown South w dzielnicy Manhattan z największą liczbą kolizji\n",
    "# za cały okres czasowy danych. 25962 kolizji\n",
    "fig, ax = plt.subplots(1,1,figsize=(15,15))\n",
    "ax.set_title(\"Manhattan Midtown-Midtown South (25962 kolizji)\")\n",
    "nyc = neighborhood.plot(color=\"orange\",alpha=0.5,edgecolor='yellow',label=\"New York\",ax=ax)\n",
    "manhattan = neighborhood.loc[neighborhood[\"BoroCode\"] == 1].plot(color=\"yellow\",alpha=0.5,edgecolor='black',label=\"Manhattan\",ax=nyc)\n",
    "mn17 = neighborhood.loc[neighborhood[\"NTACode\"] == \"MN17\"].plot(color=\"red\",alpha=0.5,edgecolor='black',label=\"Midtown-Midtown South\",ax=manhattan);\n",
    "# plt.savefig(\"manhattan.png\")"
   ]
  },
  {
   "cell_type": "code",
   "execution_count": null,
   "id": "ee1c6964-57a7-41fc-b280-8299e5955b3d",
   "metadata": {},
   "outputs": [],
   "source": [
    "# Kolizje za cały okres czasu w  Midtown-Midtown South w dzielnicy Manhattan w szczegółach\n",
    "fig,ax = plt.subplots(1,1, figsize=(15,15))\n",
    "ax.set_title(\"Manhattan Midtown-Midtown South (25962 kolizji) szczegółowo\")\n",
    "mn17 = neighborhood.loc[neighborhood[\"NTACode\"]=='MN17'].plot(color=\"orange\",alpha=0.5,edgecolor='black',ax=ax)\n",
    "gis_nyc_collisions.loc[gis_nyc_collisions[\"NTACode\"]=='MN17'].plot(ax=mn17, color=\"red\", markersize=0.1);"
   ]
  },
  {
   "cell_type": "markdown",
   "id": "ab389511-1b7b-4a4f-9f1c-3ad463359b8c",
   "metadata": {},
   "source": [
    "Kolizje układają się w zarys ulic. Ulica biegnąca w poprzek obszaru Midtown-Midtown South (północ-południe) to brodway."
   ]
  },
  {
   "cell_type": "markdown",
   "id": "c85cbbf7-c557-46ab-98cb-0e77cfd166d6",
   "metadata": {},
   "source": [
    "#### Liczba kolizji w podziale na obszary i okręgi NYC.\n",
    "\n",
    "W analize uwwzględniono tylko kolizje przyporządkowane po lokalizacji geograficznej do dowolnego obszaru miasta Nowy Jork."
   ]
  },
  {
   "cell_type": "code",
   "execution_count": null,
   "id": "4d0dab71-c5e2-47e4-9dc6-705b16a0f9bc",
   "metadata": {},
   "outputs": [],
   "source": [
    "# Liczba kolizji w podziale na obszary miasta NYC, cały dostępny zakres dat\n",
    "fig,ax = plt.subplots(1,1, figsize=(15,15))\n",
    "neighborhood.merge(nta_collisions,on=\"NTACode\").plot(column=\"Count\", legend=True, legend_kwds={\"label\": \"Całkowita liczba kolizji w NYC\", \"orientation\": \"horizontal\"}, ax=ax)\n",
    "ax.set_title(\"Liczba kolizji/wypadków w podziale na sąsiedztwa.\");"
   ]
  },
  {
   "cell_type": "markdown",
   "id": "dbcd351b-0b65-4e62-a4a0-8b51e8bfced0",
   "metadata": {},
   "source": [
    "#### Liczba kolizji w podziale na okręgi NYC\n",
    "\n",
    "Najwięcej kolizji wydarzyło się w okręgu Brooklyn."
   ]
  },
  {
   "cell_type": "code",
   "execution_count": null,
   "id": "383c7b77-7585-42e4-9033-420b1b6fa60b",
   "metadata": {},
   "outputs": [],
   "source": [
    "# Liczba kolizji w podziale na obszary NYC\n",
    "boro_collisions = nyc_collisions.loc[nyc_collisions[\"BoroCode\"] > 0].groupby(\"BoroCode\")[\"COLLISION_ID\"].count().sort_values(ascending=False)\n",
    "boro_collisions.name = \"Count\"\n",
    "boro_collisions.to_frame().merge(boroughs[[\"BoroName\",\"BoroCode\"]],on=\"BoroCode\")[[\"BoroName\",\"Count\"]]"
   ]
  },
  {
   "cell_type": "markdown",
   "id": "5332c526-0128-47ad-ad77-430939a4ee47",
   "metadata": {},
   "source": [
    "**Liczba kolizji w podziale na okręgi miasta Nowy Jork**"
   ]
  },
  {
   "cell_type": "code",
   "execution_count": null,
   "id": "63c23640-aad2-4d98-8e10-bdb8376ecc60",
   "metadata": {},
   "outputs": [],
   "source": [
    "fig, ax = plt.subplots(1,1,figsize=(12,12))\n",
    "boroughs.merge(boro_collisions,on=\"BoroCode\").plot(column=\"Count\", legend=True, cmap=\"OrRd\", legend_kwds={\"label\": \"Liczba kolizji w podziale na okręgi / dzielnice NYC\", \"orientation\": \"vertical\", \"location\": \"left\", \"shrink\": 0.7}, ax=ax)\n",
    "boroughs.merge(boro_collisions,on=\"BoroCode\").apply(lambda x: ax.annotate(text=x.BoroName+\"\\n\"+str(x.Count), color='black', xy=x.geometry.centroid.coords[0],ha='center'), axis=1)\n",
    "plt.axis(\"off\");"
   ]
  },
  {
   "cell_type": "code",
   "execution_count": null,
   "id": "cc596021-7648-41e0-898e-930bf392d381",
   "metadata": {},
   "outputs": [],
   "source": [
    "del(boro_collisions)"
   ]
  },
  {
   "cell_type": "markdown",
   "id": "2d4c06e1-11bb-4ece-a9c9-2417decba425",
   "metadata": {},
   "source": [
    "#### Liczba rannych w kolizjach w podziale na obszary i okręgi NYC."
   ]
  },
  {
   "cell_type": "code",
   "execution_count": null,
   "id": "775c4efb-f88c-4b22-a788-94cdda9c52d1",
   "metadata": {},
   "outputs": [],
   "source": [
    "# Lokalizacje geograficzne kolizji w których były osoby ranne\n",
    "persons_injured = gis_nyc_collisions.loc[gis_nyc_collisions[\"LocationNYC\"]].merge(nyc_collisions[[\"NUMBER OF PERSONS INJURED\",\"COLLISION_ID\"]].loc[nyc_collisions[\"NUMBER OF PERSONS INJURED\"] > 0],on=\"COLLISION_ID\")\n",
    "fig,ax = plt.subplots(1,1, figsize=(15,15))\n",
    "base = neighborhood.plot(color=\"orange\",alpha=0.5,edgecolor='black',ax=ax)\n",
    "persons_injured.plot(ax=base, color=\"red\", markersize=0.1)\n",
    "ax.set_title(\"Lokalizacje kolizji z osobami rannymi.\");"
   ]
  },
  {
   "cell_type": "code",
   "execution_count": null,
   "id": "9cbb120d-4228-4384-8d62-c49571d74544",
   "metadata": {},
   "outputs": [],
   "source": [
    "# Liczba rannych w podziale na obszary NYC\n",
    "nta_injured = persons_injured.loc[~persons_injured[\"NTACode\"].isna()].groupby(\"NTACode\")[\"COLLISION_ID\"].count().sort_values(ascending=False)\n",
    "nta_injured.name = \"Count\"\n",
    "fig,ax = plt.subplots(1,1, figsize=(15,15))\n",
    "neighborhood.merge(nta_injured,on=\"NTACode\").plot(column=\"Count\", legend=True, legend_kwds={\"label\": \"Liczba rannych w podziale na obszary NYC\", \"orientation\": \"horizontal\"}, ax=ax);"
   ]
  },
  {
   "cell_type": "code",
   "execution_count": null,
   "id": "8258af91-569a-44f4-ab53-df707962cc5c",
   "metadata": {},
   "outputs": [],
   "source": [
    "# 10 obszarów NYC w których liczba rannych w kolizjach była największa\n",
    "neighborhood[[\"NTACode\",\"BoroCode\",\"BoroName\",\"neighbourhood\"]].merge(nta_injured,on=\"NTACode\").sort_values(\"Count\", ascending=False).head(10)"
   ]
  },
  {
   "cell_type": "markdown",
   "id": "3e5f4367-39b6-42a1-881f-2631e1c3f856",
   "metadata": {},
   "source": [
    "**Dziesięć sąsiedztw i okręgów w których liczba rannych w kolizjach była największa.**"
   ]
  },
  {
   "cell_type": "code",
   "execution_count": null,
   "id": "9758361b-974f-4c09-ba5e-c1d407b76d8f",
   "metadata": {},
   "outputs": [],
   "source": [
    "# Gdzie na mapie miasta Nowy Jork znajduje się East New York w dzielnicy Brooklyn z największą liczbą rannych\n",
    "fig, ax = plt.subplots(1,1,figsize=(15,15))\n",
    "ax.set_title(\"Brooklyn - East New York\")\n",
    "nyc = neighborhood.plot(color=\"orange\",alpha=0.5,edgecolor='yellow',label=\"New York\",ax=ax)\n",
    "brooklyn = neighborhood.loc[neighborhood[\"BoroCode\"] == 3].plot(color=\"yellow\",alpha=0.5,edgecolor='black',label=\"Brooklyn\",ax=nyc)\n",
    "bk82 = neighborhood.loc[neighborhood[\"NTACode\"] == \"BK82\"].plot(color=\"red\",alpha=0.5,edgecolor='black',label=\"East New York\",ax=brooklyn);"
   ]
  },
  {
   "cell_type": "code",
   "execution_count": null,
   "id": "b858aa6e-3588-4d61-84e8-fc9f968c7363",
   "metadata": {},
   "outputs": [],
   "source": [
    "# Lokalizacja kolizji z rannymi w obszarze East New York\n",
    "fig,ax = plt.subplots(1,1, figsize=(15,15))\n",
    "ax.set_title(\"Brooklyn : East New York lokalizacje kolizji z rannymi\")\n",
    "bk82 = neighborhood.loc[neighborhood[\"NTACode\"]=='BK82'].plot(color=\"orange\",alpha=0.5,edgecolor='black',ax=ax)\n",
    "persons_injured.loc[persons_injured[\"NTACode\"]=='BK82'].plot(ax=bk82, color=\"red\", markersize=0.1);"
   ]
  },
  {
   "cell_type": "code",
   "execution_count": null,
   "id": "97570619-b721-4a25-9436-91712bb92cd4",
   "metadata": {},
   "outputs": [],
   "source": [
    "del(nta_injured)\n",
    "del(persons_injured)\n",
    "del(bk82)\n",
    "del(brooklyn)\n",
    "del(nyc)"
   ]
  },
  {
   "cell_type": "markdown",
   "id": "bd5aeed2-cc50-4871-a609-497be0d67937",
   "metadata": {},
   "source": [
    "#### Liczba rannych w kolizjach w podziale na okręgi NYC."
   ]
  },
  {
   "cell_type": "code",
   "execution_count": null,
   "id": "6adc495a-f1f4-4f07-9dd7-ac754b355ab5",
   "metadata": {},
   "outputs": [],
   "source": [
    "# Liczba rannych w kolizjach w podziale na okręgi NYC.\n",
    "boro_injured = nyc_collisions.loc[(nyc_collisions[\"BoroCode\"] > 0) & (nyc_collisions[\"NUMBER OF PERSONS INJURED\"] > 0)].groupby(\"BoroCode\")[\"COLLISION_ID\"].count().sort_values(ascending=False)\n",
    "boro_injured.name = \"Count\"\n",
    "boro_injured.to_frame().merge(boroughs[[\"BoroName\",\"BoroCode\"]],on=\"BoroCode\")[[\"BoroName\",\"Count\"]]\n",
    "# BoroName\n",
    "# Bronx            2\n",
    "# Brooklyn         3\n",
    "# Manhattan        1\n",
    "# Queens           4\n",
    "# Staten Island    5"
   ]
  },
  {
   "cell_type": "markdown",
   "id": "af6bd02b-fcc2-47d3-a27b-6ce99c7803c2",
   "metadata": {},
   "source": [
    "**Liczba rannych w podziale na okręgi NYC**"
   ]
  },
  {
   "cell_type": "code",
   "execution_count": null,
   "id": "c6635652-c099-46a2-aaa0-4b34795d3b83",
   "metadata": {},
   "outputs": [],
   "source": [
    "fig, ax = plt.subplots(1,1,figsize=(12,12))\n",
    "boroughs.merge(boro_injured,on=\"BoroCode\").plot(column=\"Count\", legend=True, cmap=\"OrRd\", legend_kwds={\"label\": \"Liczba rannych w kolizjach w podziale na okręgi NYC\", \"orientation\": \"vertical\", \"location\": \"left\", \"shrink\": 0.7}, ax=ax)\n",
    "boroughs.merge(boro_injured,on=\"BoroCode\").apply(lambda x: ax.annotate(text=x.BoroName+\"\\n\"+str(x.Count), color='black', xy=x.geometry.centroid.coords[0],ha='center'), axis=1)\n",
    "plt.axis(\"off\");"
   ]
  },
  {
   "cell_type": "markdown",
   "id": "331014da-57e8-44ba-bb88-d49db2e81f61",
   "metadata": {},
   "source": [
    "#### Liczba zabitych w kolizjach w podziale na obszary i okręgi NYC."
   ]
  },
  {
   "cell_type": "code",
   "execution_count": null,
   "id": "f42da019-dfce-4603-9b9e-443c8dc9a9e3",
   "metadata": {},
   "outputs": [],
   "source": [
    "# Osoby zabite w podziale na obszary NYC\n",
    "persons_killed = gis_nyc_collisions.loc[gis_nyc_collisions[\"LocationNYC\"]].merge(nyc_collisions[[\"NUMBER OF PERSONS KILLED\",\"COLLISION_ID\"]].loc[nyc_collisions[\"NUMBER OF PERSONS KILLED\"] > 0],on=\"COLLISION_ID\")\n",
    "fig,ax = plt.subplots(1,1, figsize=(15,15))\n",
    "base = neighborhood.plot(color=\"orange\",alpha=0.5,edgecolor='black',ax=ax)\n",
    "persons_killed.plot(ax=base, color=\"red\", markersize=3)\n",
    "ax.set_title(\"Lokalizacje kolizji z osobami zabitymi.\");"
   ]
  },
  {
   "cell_type": "code",
   "execution_count": null,
   "id": "51c07e56-042c-4469-b0d6-36cfdc35f85b",
   "metadata": {},
   "outputs": [],
   "source": [
    "# Liczba zabitych w podziale na obszary NYC\n",
    "nta_killed = persons_killed.loc[~persons_killed[\"NTACode\"].isna()].groupby(\"NTACode\")[\"COLLISION_ID\"].count().sort_values(ascending=False)\n",
    "nta_killed.name = \"Count\"\n",
    "fig,ax = plt.subplots(1,1, figsize=(15,15))\n",
    "neighborhood.merge(nta_killed,on=\"NTACode\").plot(column=\"Count\", legend=True, legend_kwds={\"label\": \"Liczba zabitych w podziale na obszary NYC\", \"orientation\": \"horizontal\"}, ax=ax);"
   ]
  },
  {
   "cell_type": "code",
   "execution_count": null,
   "id": "0010e8ec-6fd2-400d-a9c9-f8a13cf99161",
   "metadata": {},
   "outputs": [],
   "source": [
    "# 10 obszarów NYC w których liczba zabitych w kolizjach była największa\n",
    "neighborhood[[\"NTACode\",\"BoroCode\",\"BoroName\",\"neighbourhood\"]].merge(nta_killed,on=\"NTACode\").sort_values(\"Count\", ascending=False).head(10)"
   ]
  },
  {
   "cell_type": "markdown",
   "id": "ecf28fa9-f1c5-4a41-b4bc-d6b8ef34b650",
   "metadata": {},
   "source": [
    "**Dziesięć sąsiedztw i obszarów w których liczba zabitych w kolizjach była największa.**"
   ]
  },
  {
   "cell_type": "code",
   "execution_count": null,
   "id": "e70bc660-4b92-40f9-8f32-4cd14ed35f3e",
   "metadata": {},
   "outputs": [],
   "source": [
    "# Gdzie na mapie miasta Nowy Jork znajduje się park-cemetery-etc-Queens w dzielnicy Queens z największą liczbą zabitych\n",
    "fig, ax = plt.subplots(1,1,figsize=(15,15))\n",
    "ax.set_title(\"Queens - park-cemetery-etc-Queens\")\n",
    "nyc = neighborhood.plot(color=\"orange\",alpha=0.5,edgecolor='yellow',label=\"New York\",ax=ax)\n",
    "queens = neighborhood.loc[neighborhood[\"BoroCode\"] == 4].plot(color=\"yellow\",alpha=0.5,edgecolor='black',label=\"Queens\",ax=nyc)\n",
    "qn99 = neighborhood.loc[neighborhood[\"NTACode\"] == \"QN99\"].plot(color=\"red\",alpha=0.5,edgecolor='black',label=\"park-cemetery-etc-Queens\",ax=queens);"
   ]
  },
  {
   "cell_type": "code",
   "execution_count": null,
   "id": "6ca61aa2-b219-4e67-b0aa-4704d910d6f2",
   "metadata": {},
   "outputs": [],
   "source": [
    "# Lokalizacja kolizji z zabitymi w obszarze park-cemetery-etc-Queens\n",
    "fig,ax = plt.subplots(1,1, figsize=(15,15))\n",
    "ax.set_title(\"Queens : park-cemetery-etc-Queens lokalizacje kolizji z zabitymi\")\n",
    "qn99 = neighborhood.loc[neighborhood[\"NTACode\"]=='QN99'].plot(color=\"orange\",alpha=0.5,edgecolor='black',ax=ax)\n",
    "persons_killed.loc[persons_killed[\"NTACode\"]=='QN99'].plot(ax=qn99, color=\"red\", markersize=3);"
   ]
  },
  {
   "cell_type": "code",
   "execution_count": null,
   "id": "c2e6b102-2980-462e-b859-c486813f5efb",
   "metadata": {},
   "outputs": [],
   "source": [
    "del(nta_killed)\n",
    "del(nyc)\n",
    "del(queens)\n",
    "del(qn99)"
   ]
  },
  {
   "cell_type": "code",
   "execution_count": null,
   "id": "2728a23e-88ea-4015-9223-0fd7462bc6df",
   "metadata": {},
   "outputs": [],
   "source": [
    "# Liczba zabitych w kolizjach w podziale na okręgi NYC.\n",
    "boro_killed = nyc_collisions.loc[(nyc_collisions[\"BoroCode\"] > 0) & (nyc_collisions[\"NUMBER OF PERSONS KILLED\"] > 0)].groupby(\"BoroCode\")[\"COLLISION_ID\"].count().sort_values(ascending=False)\n",
    "boro_killed.name = \"Count\"\n",
    "boro_killed.to_frame().merge(boroughs[[\"BoroName\",\"BoroCode\"]],on=\"BoroCode\")[[\"BoroName\",\"Count\"]]"
   ]
  },
  {
   "cell_type": "markdown",
   "id": "4decad56-dd69-4647-9b1c-27a99c942541",
   "metadata": {},
   "source": [
    "**Liczba zabitych w podziale na okręgi NYC**"
   ]
  },
  {
   "cell_type": "code",
   "execution_count": null,
   "id": "2d5a3059-672f-4e6d-8d30-12fc4426c108",
   "metadata": {},
   "outputs": [],
   "source": [
    "fig, ax = plt.subplots(1,1,figsize=(12,12))\n",
    "boroughs.merge(boro_killed,on=\"BoroCode\").plot(column=\"Count\", legend=True, cmap=\"OrRd\", legend_kwds={\"label\": \"Liczba osób zabitych w kolizjach w podziale na okręgi NYC\", \"orientation\": \"vertical\", \"location\": \"left\", \"shrink\": 0.7}, ax=ax)\n",
    "boroughs.merge(boro_killed,on=\"BoroCode\").apply(lambda x: ax.annotate(text=x.BoroName+\"\\n\"+str(x.Count), color='black', xy=x.geometry.centroid.coords[0],ha='center'), axis=1)\n",
    "plt.axis(\"off\");"
   ]
  },
  {
   "cell_type": "markdown",
   "id": "ac911090-59a6-454d-91b9-beae088f4351",
   "metadata": {},
   "source": [
    "Największa liczba zabitych w kolizach to okręg Queens"
   ]
  },
  {
   "cell_type": "code",
   "execution_count": null,
   "id": "afa0596f-6ced-438e-a4f2-b847af68deb8",
   "metadata": {},
   "outputs": [],
   "source": [
    "del(persons_killed)\n",
    "del(boro_killed)"
   ]
  },
  {
   "cell_type": "markdown",
   "id": "b65828c3-4fa2-4b06-8365-4e4015729ce6",
   "metadata": {},
   "source": [
    "### Wnioski:\n",
    "\n",
    "Dane zawarte w pliku csv nypd-motor-vehicle-collisions.csv są bardzo problematyczne.\n",
    "- Przede wszystkim brak metadanych opisujących zawartość każdej z kolumn.\n",
    "- Prawie 11% danych zawartych w nypd-motor-vehicle-collisions.csv nie posiada prawidłowego przypisania do jakiej kolwiek lokalizacji. W związku z powyższym trudno określić jak te dane były by rozłożone po okręgach NYC.\n",
    "- Brak ujednoliconych słowników opisujących przyczyny kolizji i typy pojazdów uczestniczących w kolizjach, co wiąże sie z dużym nakładem pracy w czyszczeniu danych. Niestety w wielu przypadkach poprawa tkich danych jest prawie niemożliwa (np. w przypadku typów pojazdów uczestniczących w kolizach). Wiele nazw może opisywać ten sam typ pojazdu lub czynnik kolizji. Analizy oparte na nie ustrukturyzowanych danych obarczone są błędami.\n",
    "- Powielone identyfikatory kolizji.\n",
    "\n",
    "Analiza danych zawartych w nypd-motor-vehicle-collisions.csv wykazała że:\n",
    "- Dwoma zbilożonym do siebie okręgami pod względem liczby kolizji są Brooklyn i Queens, najmniejszą liczbą kolizji zanotowano w okręgu Staten Island.\n",
    "- Najczęstrzymi przyczynami kolizji są DRIVER INATTENTION/DISTRACTION (nieuwaga/rozproszenie kierowcy), FAILURE TO YIELD RIGHT-OF-WAY (nieudzielenie pierszeństwa przejazdu), FOLLOWING TOO CLOSELY (zbyt bliska jazda za innym pojazdem)\n",
    "- Okręgiem przodującym zarówno w liczbie osób zabitych jak i rannych w wyniku zbyt szybkiej jazdy jest okręg Queens drugie miejsce zajmuje Brooklyn.\n",
    "- Całościowo bez względu na czynnik wypadku/kolizji w liczbie rannych przoduje okręg Brooklyn, natomiast w liczbie zabitych okręg Queens. Ogólnie liczba zabitych w wypadkach ma tendencję spadkową, natomiast rannych wzrastającą.\n",
    "- Najczęstrzym typem pojazdu uczystniczącym w kolizjach/wypadkach jest samochód osobowy.\n",
    "Niestety brak słownika z typami smaochodów uniemożliwia rzetelną analizę, przykładem jest typ pojazdu SPORT UTILITY / STATION WAGON i STATION WAGON/SPORT UTILITY VEHICLE który prawdopodobnie dotyczy tego samego typu pojazdu (problematyczne dane)."
   ]
  },
  {
   "cell_type": "code",
   "execution_count": null,
   "id": "2e4f2d9b-17cd-4251-bf6a-b0c89564ef14",
   "metadata": {},
   "outputs": [],
   "source": []
  }
 ],
 "metadata": {
  "kernelspec": {
   "display_name": "Python 3 (ipykernel)",
   "language": "python",
   "name": "python3"
  },
  "language_info": {
   "codemirror_mode": {
    "name": "ipython",
    "version": 3
   },
   "file_extension": ".py",
   "mimetype": "text/x-python",
   "name": "python",
   "nbconvert_exporter": "python",
   "pygments_lexer": "ipython3",
   "version": "3.9.2"
  }
 },
 "nbformat": 4,
 "nbformat_minor": 5
}
