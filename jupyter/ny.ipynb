{
 "cells": [
  {
   "cell_type": "code",
   "execution_count": null,
   "id": "b1f8e9c1-2136-4f9d-b79b-d26f0166edea",
   "metadata": {},
   "outputs": [],
   "source": [
    "import pandas as pd\n",
    "from  tqdm.notebook import tqdm"
   ]
  },
  {
   "cell_type": "markdown",
   "id": "11c85885-16c6-44d3-aa64-4e33a2550449",
   "metadata": {},
   "source": [
    "# Eksploracja danych nypd-motor-vehicle-collisions.csv\n",
    "\n",
    "## Wczytanie danch\n",
    "Wczytanie danych o wypadkach i kolizjach w mieście Nowy Jork z pliku csv.\n",
    "Plik posiada nagłówek z nazwami kolumn a jako separatora użyto znaku ','"
   ]
  },
  {
   "cell_type": "code",
   "execution_count": null,
   "id": "5b9f9e61-3899-499a-a8c2-dcb606aedda0",
   "metadata": {},
   "outputs": [],
   "source": [
    "# Wczytuję dana z pliku csv\n",
    "ny_collisions = pd.read_csv(\"data/nypd-motor-vehicle-collisions.csv\")"
   ]
  },
  {
   "cell_type": "code",
   "execution_count": null,
   "id": "bd93715b-f69f-42e1-931e-2c1ecf6da28b",
   "metadata": {},
   "outputs": [],
   "source": [
    "ny_collisions.head(3)"
   ]
  },
  {
   "cell_type": "code",
   "execution_count": null,
   "id": "c2c5470f-ef4c-4cf8-9571-317ad87d15be",
   "metadata": {},
   "outputs": [],
   "source": [
    "# Z powodu komunikatu Columns (3) have mixed types. Specify dtype option on import or set low_memory=False.\n",
    "# przyglądam się kolumnie (3) \"ZIP CODE\"\n",
    "ny_collisions[\"ZIP CODE\"]"
   ]
  },
  {
   "cell_type": "markdown",
   "id": "ca105f94-28e8-4d3f-b295-658741242b44",
   "metadata": {},
   "source": [
    "Pandas potraktował wartości kolumny ZIP CODE jako liczby. Bezpośrednio w pliku CSV jest to głównie 5 cyfr, ponadto kolumna posiada wartości puste lub wypełnione białymi znakami.\n",
    "Traktuję kolumnę **ZIP CODE** jako ciąg znaków (typ str) a kolumnę **ACCIDENT DATE** jako dane typu datetime i wczytuję dane ponownie."
   ]
  },
  {
   "cell_type": "code",
   "execution_count": null,
   "id": "4915bd3e-5dda-4036-a764-4b695f7cdadb",
   "metadata": {},
   "outputs": [],
   "source": [
    "# kolumna ZIP CODE jako str, a ACCIDENT DATE jako datetime\n",
    "ny_collisions = pd.read_csv(\"data/nypd-motor-vehicle-collisions.csv\",dtype={\"ZIP CODE\":'str'}, parse_dates=[\"ACCIDENT DATE\"])\n",
    "ny_collisions.head(3)"
   ]
  },
  {
   "cell_type": "markdown",
   "id": "ranking-hindu",
   "metadata": {},
   "source": [
    "## Podstawowe informacje o wczytanym DataFrame\n",
    "Wczytany DataFrame ny_collisions posiada 1 612 178 wierszy w 29 kolumnach.\n",
    "\n",
    "Dane o kolumnach DataFrame ny_collisions:\n",
    "* **ACCIDENT DATE**: Data wypadku, podczas wczytywania kolumna przekształcona na typ danych 'datetime64[ns]'\n",
    "* **ZIP CODE**: Kod pocztowy, typ danych ciąg znaków 'str'"
   ]
  },
  {
   "cell_type": "code",
   "execution_count": null,
   "id": "conscious-sixth",
   "metadata": {},
   "outputs": [],
   "source": [
    "# Podstawowe informacje o DataFrame ny_colision\n",
    "# 1612178 wierszy i 29 kolumn\n",
    "ny_collisions.shape"
   ]
  },
  {
   "cell_type": "code",
   "execution_count": null,
   "id": "19bd0def-1b42-4c59-b29d-dc8a560ab36a",
   "metadata": {},
   "outputs": [],
   "source": [
    "ny_collisions.describe"
   ]
  },
  {
   "cell_type": "code",
   "execution_count": null,
   "id": "c59d473a-63f7-4e74-b6f8-65ceb2f5c606",
   "metadata": {},
   "outputs": [],
   "source": [
    "ny_collisions.info"
   ]
  },
  {
   "cell_type": "code",
   "execution_count": null,
   "id": "367a4e3a-ba8a-4bdc-b8f7-0085dec95dd3",
   "metadata": {},
   "outputs": [],
   "source": [
    "# Nazwy kolumn DataFrame ny_colision\n",
    "ny_collisions.columns"
   ]
  },
  {
   "cell_type": "code",
   "execution_count": null,
   "id": "a6f88e26-7eda-4e6e-a79e-959ab70fdba4",
   "metadata": {},
   "outputs": [],
   "source": [
    "# Typy danych kolumn\n",
    "print(\"ACCIDENT DATE: \",ny_collisions[\"ACCIDENT DATE\"].dtype)\n",
    "print(\"ZIP CODE: \",ny_collisions[\"ZIP CODE\"].dtype)\n",
    "print(\"COLLISION_ID: \",ny_collisions[\"COLLISION_ID\"].dtype)"
   ]
  },
  {
   "cell_type": "markdown",
   "id": "70545210-d297-4b78-9297-a83ab0c31653",
   "metadata": {},
   "source": [
    "## Exploracja danych w poszczególnych kolumnach\n",
    "### Kolumna COLLISION_ID\n",
    "Sprawdzam czy kolumnę COLLISION_ID można użyć jako klucza głównego DataFrame, jednoznacznie wskazującego wiersz"
   ]
  },
  {
   "cell_type": "code",
   "execution_count": null,
   "id": "ba25c4b1-93a5-4a13-b2a4-b2440bea61de",
   "metadata": {},
   "outputs": [],
   "source": [
    "# typ danych\n",
    "ny_collisions[\"COLLISION_ID\"].dtype"
   ]
  },
  {
   "cell_type": "code",
   "execution_count": null,
   "id": "d946efd7-691e-4927-afb7-cc72338e0a8e",
   "metadata": {},
   "outputs": [],
   "source": [
    "# czy są komórki nie uzupełnione\n",
    "ny_collisions[\"COLLISION_ID\"].isna().sum()"
   ]
  },
  {
   "cell_type": "code",
   "execution_count": null,
   "id": "a67610bb-ab0d-4697-aa2b-97401323ee92",
   "metadata": {},
   "outputs": [],
   "source": [
    "# Czy wartości w kolumnie są unikalne ?\n",
    "cnt_no_uniq = (ny_collisions[\"COLLISION_ID\"].value_counts() > 1).sum()\n",
    "cnt_no_uniq\n",
    "# Niestety nie, jest jak poniżej pewna liczba zduplikowanych wartości w kolumnie COLLISION_ID"
   ]
  },
  {
   "cell_type": "code",
   "execution_count": null,
   "id": "04b2948f-1f89-4111-89cd-6c1691eeab74",
   "metadata": {},
   "outputs": [],
   "source": [
    "# rozpiętość ilości nie unikalnych wartości w kolumnie COLLISION_ID\n",
    "ny_collisions[\"COLLISION_ID\"].value_counts().agg([\"min\",\"max\"])\n",
    "# Kolumna posiada maksymalnie dwie powielone wartości w COLLISION_ID."
   ]
  },
  {
   "cell_type": "markdown",
   "id": "65835163-6c97-4ebc-891b-db0b57bb606c",
   "metadata": {},
   "source": [
    "Wyświetlam wiersze DataFrame z powielonymi wartościami w kolumnie COLLISION_ID"
   ]
  },
  {
   "cell_type": "code",
   "execution_count": null,
   "id": "254d44f6-3d1c-4f75-acc7-e08518c7fd7b",
   "metadata": {},
   "outputs": [],
   "source": [
    "coll_id_s = ny_collisions[\"COLLISION_ID\"].value_counts() > 1\n",
    "coll_id_s[coll_id_s].index\n",
    "# dataframe ny_collisions z powielonymi wartościami w kolumnie COLLISION_ID"
   ]
  },
  {
   "cell_type": "code",
   "execution_count": null,
   "id": "71251f1e-20f0-4b24-bb1b-94096fe48e3f",
   "metadata": {},
   "outputs": [],
   "source": [
    "# Wyświetlam jeden z wierzy aby przyjżeć się kolumnom \n",
    "ny_collisions.loc[ny_collisions[\"COLLISION_ID\"] == 3126615]"
   ]
  },
  {
   "cell_type": "markdown",
   "id": "434cf025-43fd-4a54-b0d6-54892c3cee4a",
   "metadata": {},
   "source": [
    "Z 2 wierszy wyświetlonych powyżej wygląda że kolumny prawdopodobnie mają te same wartości w wszystkich dwóch wierszach i będzie można wyczyścić dane w DataFrame Korzystając z funkcji drop_duplicates(). Najpierw trochę zabawy z funkcją sprawdzającą czy kolumny w dataframe z zduplikowanymi wartościami COLLISION_ID, posiadją te same wartości."
   ]
  },
  {
   "cell_type": "code",
   "execution_count": null,
   "id": "325bfc1d-d7a1-4330-8719-30c9a2ab0c2f",
   "metadata": {},
   "outputs": [],
   "source": [
    "# \"COLLISION_ID\"\n",
    "# Funkcja grupuje DataFrame df po kolumnie col, wyszukuje grupy które zawierają więcej niż 1 wiersz i\n",
    "# sprawdza czy wartości w zgrupowanych kolumnach są różne.\n",
    "# Funkcja zwraca słownik gdzie klucz to wartość grupowanej kolumny, a wrtość to lista kolumn, które się różnią\n",
    "# W przypadku gdy funkcja zwróci pusty słownik, dataframe df albo nie posiada zduplikowanych wierszy albo wszystkie kolumny\n",
    "# w zduplikowanych wierszach posiadają identyczne wartości\n",
    "def no_unique_columns(df,col):\n",
    "    no_uniq = {} # {zduplikowana_wartość:[nazwa_kolumy_1_z_róznymi_wartościami,nazwa_kolumy_2_z_róznymi_wartościami,...}\n",
    "    for g in tqdm(df.groupby(col)):\n",
    "        if len(g[1]) > 1:\n",
    "            # Jeżeli są duplikaty badamy wartości w odpowiednich kolumnach\n",
    "            for c in g[1].columns:\n",
    "                if len(g[1][c].unique()) > 1:\n",
    "                    # wartość zduplikowana (g[0]), posiada rózne wartości w dopowiednich kolumnach. Dodajemy informacje do słownika\n",
    "                    if g[0] in no_uniq:\n",
    "                        no_uniq[g[0]].append(c)\n",
    "                    else:\n",
    "                        no_uniq[g[0]] = [c]\n",
    "    return no_uniq"
   ]
  },
  {
   "cell_type": "code",
   "execution_count": null,
   "id": "f2c9b49f-b824-4b9b-bae4-7ca14588bdf2",
   "metadata": {},
   "outputs": [],
   "source": [
    "# test unikalności wartości. Chwilkę może potrwać ... (4 min.)\n",
    "nuq = no_unique_columns(ny_collisions,\"COLLISION_ID\")\n",
    "nuq"
   ]
  },
  {
   "cell_type": "code",
   "execution_count": null,
   "id": "f839ba6d-c01d-4c76-a7e5-549d41240222",
   "metadata": {},
   "outputs": [],
   "source": [
    "# Wszystkie wiersze z zdupliownymi wartościami COLLISION_ID mają również zduplikowane wartości w wszystkich kolumnach.\n",
    "# Czyszczę DataFrame\n",
    "cnt_before = len(ny_collisions)\n",
    "ny_collisions = ny_collisions.drop_duplicates(\"COLLISION_ID\")\n",
    "cnt_after = len(ny_collisions)\n",
    "print(f\"Ilość wierszy przed czyszczeniem: {cnt_before}\\nIlość wierszy po wyczyszczeniu: {cnt_after}\\nIlość wierszy usuniętych: {cnt_before-cnt_after}\")\n",
    "print(f\"Wierszy z nieunikalnymi wartościami w kolumnie COLLISION_ID było {cnt_no_uniq}\")"
   ]
  },
  {
   "cell_type": "code",
   "execution_count": null,
   "id": "7e6370fb-da63-43c0-8b8b-9dad4b199c9e",
   "metadata": {},
   "outputs": [],
   "source": [
    "# Liczba zduplikowanych wartości w kolumnie COLLISION_ID\n",
    "(ny_collisions[\"COLLISION_ID\"].value_counts() > 1).sum()\n",
    "# Kolumny można użyć jako klucza głównego, jednoznacznie identyfikującego wiersze DataFrame"
   ]
  },
  {
   "cell_type": "markdown",
   "id": "69be4405-d3f1-4d78-a873-b909bed68169",
   "metadata": {},
   "source": [
    "### Kolumna \"ZIP CODE\"\n",
    "\n",
    "[Kod pocztowy USA](https://en.wikipedia.org/wiki/ZIP_Code) w podstawowej formie składa się z 5 cyfr, ale może posiadać więcej niż 5 znaków.\n",
    "Ponadto kod pocztowy stanu NY rozpoczyna się od znaku '1'."
   ]
  },
  {
   "cell_type": "code",
   "execution_count": null,
   "id": "82cb9c8e-202f-4c4a-a333-07e7aace0621",
   "metadata": {},
   "outputs": [],
   "source": [
    "# Wyczyszczenie kolumny z początkowych i końcowych białych znków\n",
    "ny_collisions.loc[:,\"ZIP CODE\"] = ny_collisions[\"ZIP CODE\"].str.strip()"
   ]
  },
  {
   "cell_type": "markdown",
   "id": "e5549fba-f830-4075-ae81-63f8ca948c39",
   "metadata": {},
   "source": [
    "Liczba wierszy w których kolumna \"ZIP CODE\" posiada wartość nieuzupełnioną wynosi:"
   ]
  },
  {
   "cell_type": "code",
   "execution_count": null,
   "id": "480902f9-4f8f-4435-a815-dee2166707b3",
   "metadata": {},
   "outputs": [],
   "source": [
    "# liczba wierszy z kolumną ZIP CODE równym NaN lub pystym ciągiem znanków ''\n",
    "# Jeżeli kolumna ZIP CODE w pliku csv jest w postaci ,, to ma wartość NaN, jeżeli ,\\s+, (,jedna lub więcej znaków białych,) ma wartość ''\n",
    "count_zip_code_nan = len(ny_collisions.loc[ny_collisions[\"ZIP CODE\"].isna() | (ny_collisions[\"ZIP CODE\"] == '')])\n",
    "count_zip_code_nan"
   ]
  },
  {
   "cell_type": "markdown",
   "id": "f424e1e0-5ee4-45eb-9c46-bb47f7bd98a1",
   "metadata": {},
   "source": [
    "Zgodnie z informacją o kodach pocztowych w USA, kdoy NYC powinny rozpoczynać się od znaku cyfry jeden ('1').\n",
    "Liczba kodów pocztowych w kolumnie \"ZIP CODE\" w formacie podstawowym (5 znaków) i rozpoczynająca się od znaku cyfry '1' wynosi:"
   ]
  },
  {
   "cell_type": "code",
   "execution_count": null,
   "id": "6f847974-4656-461f-8fc3-de3cc7f429ae",
   "metadata": {},
   "outputs": [],
   "source": [
    "# Liczba wierszy w której kolumna ZIP CODE składa się z 5 cyfr, przyczym pierwsza rozpoczyna się od znaku '1'\n",
    "count_zip_code_basic = ny_collisions[\"ZIP CODE\"].str.count(\"1\\d{4}\").sum()\n",
    "count_zip_code_basic"
   ]
  },
  {
   "cell_type": "markdown",
   "id": "f77e8301-2190-46ec-8c59-31b9e1c55f83",
   "metadata": {},
   "source": [
    "Suma ilości wierszy w której kolumna ZIP CODE ma wartość NaN i poprawny ZIP CODE stanu NY rozpoczynający się od\n",
    "znaku '1', składjący się z 5 cyfr, powinna być równa ilości wierszy DataFrame ny_collision"
   ]
  },
  {
   "cell_type": "code",
   "execution_count": null,
   "id": "dae1d989-754d-4a33-990f-cdcb4b2556ce",
   "metadata": {},
   "outputs": [],
   "source": [
    "len(ny_collisions) - count_zip_code_nan - count_zip_code_basic"
   ]
  },
  {
   "cell_type": "markdown",
   "id": "218d9e40-988e-404e-84f2-a1b1e323089d",
   "metadata": {},
   "source": [
    "Operacje poniżej normalizują kolumnę ZIP CODE, tylko i wyłącznie do typu str, dla późniejszych analiz. Pozbywam się wartości NaN przez zamianę jej na pusty ciąg znaków ''."
   ]
  },
  {
   "cell_type": "code",
   "execution_count": null,
   "id": "231b53bb-7361-4f92-84be-9d9d874f35b4",
   "metadata": {},
   "outputs": [],
   "source": [
    "ny_collisions.loc[ny_collisions[\"ZIP CODE\"].isna(),\"ZIP CODE\"] = ''"
   ]
  },
  {
   "cell_type": "code",
   "execution_count": null,
   "id": "4acd2e8d-43e9-4172-a759-3ddd002a480b",
   "metadata": {},
   "outputs": [],
   "source": [
    "len(ny_collisions[\"COLLISION_ID\"].loc[ny_collisions[\"ZIP CODE\"]==''])"
   ]
  },
  {
   "cell_type": "code",
   "execution_count": null,
   "id": "fb52cff5-2563-4c55-a041-be38e415714f",
   "metadata": {},
   "outputs": [],
   "source": []
  }
 ],
 "metadata": {
  "kernelspec": {
   "display_name": "Python 3 (ipykernel)",
   "language": "python",
   "name": "python3"
  },
  "language_info": {
   "codemirror_mode": {
    "name": "ipython",
    "version": 3
   },
   "file_extension": ".py",
   "mimetype": "text/x-python",
   "name": "python",
   "nbconvert_exporter": "python",
   "pygments_lexer": "ipython3",
   "version": "3.9.2"
  }
 },
 "nbformat": 4,
 "nbformat_minor": 5
}
