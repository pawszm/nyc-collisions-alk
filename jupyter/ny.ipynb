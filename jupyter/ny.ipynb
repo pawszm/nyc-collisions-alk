{
 "cells": [
  {
   "cell_type": "code",
   "execution_count": 3,
   "id": "b1f8e9c1-2136-4f9d-b79b-d26f0166edea",
   "metadata": {},
   "outputs": [],
   "source": [
    "import pandas as pd\n",
    "from  tqdm.notebook import tqdm"
   ]
  },
  {
   "cell_type": "markdown",
   "id": "11c85885-16c6-44d3-aa64-4e33a2550449",
   "metadata": {},
   "source": [
    "# Eksploracja danych nypd-motor-vehicle-collisions.csv\n",
    "\n",
    "## Wczytanie danch\n",
    "Wczytanie danych o wypadkach i kolizjach w mieście Nowy Jork z pliku csv.\n",
    "Plik posiada nagłówek z nazwami kolumn a jako separatora użyto znaku ','"
   ]
  },
  {
   "cell_type": "code",
   "execution_count": null,
   "id": "5b9f9e61-3899-499a-a8c2-dcb606aedda0",
   "metadata": {},
   "outputs": [],
   "source": [
    "# Wczytuję dana z pliku csv\n",
    "ny_collisions = pd.read_csv(\"data/nypd-motor-vehicle-collisions.csv\")"
   ]
  },
  {
   "cell_type": "code",
   "execution_count": null,
   "id": "bd93715b-f69f-42e1-931e-2c1ecf6da28b",
   "metadata": {},
   "outputs": [],
   "source": [
    "ny_collisions.head(3)"
   ]
  },
  {
   "cell_type": "code",
   "execution_count": null,
   "id": "c2c5470f-ef4c-4cf8-9571-317ad87d15be",
   "metadata": {},
   "outputs": [],
   "source": [
    "# Z powodu komunikatu Columns (3) have mixed types. Specify dtype option on import or set low_memory=False.\n",
    "# przyglądam się kolumnie (3) \"ZIP CODE\"\n",
    "ny_collisions[\"ZIP CODE\"]"
   ]
  },
  {
   "cell_type": "markdown",
   "id": "ca105f94-28e8-4d3f-b295-658741242b44",
   "metadata": {},
   "source": [
    "Pandas potraktował wartości kolumny ZIP CODE jako liczby. Bezpośrednio w pliku CSV jest to głównie 5 cyfr, ponadto kolumna posiada wartości puste lub wypełnione białymi znakami.\n",
    "Traktuję kolumnę **ZIP CODE** jako ciąg znaków (typ str) a kolumnę **ACCIDENT DATE** jako dane typu datetime i wczytuję dane ponownie."
   ]
  },
  {
   "cell_type": "code",
   "execution_count": 4,
   "id": "4915bd3e-5dda-4036-a764-4b695f7cdadb",
   "metadata": {},
   "outputs": [
    {
     "data": {
      "text/html": [
       "<div>\n",
       "<style scoped>\n",
       "    .dataframe tbody tr th:only-of-type {\n",
       "        vertical-align: middle;\n",
       "    }\n",
       "\n",
       "    .dataframe tbody tr th {\n",
       "        vertical-align: top;\n",
       "    }\n",
       "\n",
       "    .dataframe thead th {\n",
       "        text-align: right;\n",
       "    }\n",
       "</style>\n",
       "<table border=\"1\" class=\"dataframe\">\n",
       "  <thead>\n",
       "    <tr style=\"text-align: right;\">\n",
       "      <th></th>\n",
       "      <th>ACCIDENT DATE</th>\n",
       "      <th>ACCIDENT TIME</th>\n",
       "      <th>BOROUGH</th>\n",
       "      <th>ZIP CODE</th>\n",
       "      <th>LATITUDE</th>\n",
       "      <th>LONGITUDE</th>\n",
       "      <th>LOCATION</th>\n",
       "      <th>ON STREET NAME</th>\n",
       "      <th>CROSS STREET NAME</th>\n",
       "      <th>OFF STREET NAME</th>\n",
       "      <th>...</th>\n",
       "      <th>CONTRIBUTING FACTOR VEHICLE 2</th>\n",
       "      <th>CONTRIBUTING FACTOR VEHICLE 3</th>\n",
       "      <th>CONTRIBUTING FACTOR VEHICLE 4</th>\n",
       "      <th>CONTRIBUTING FACTOR VEHICLE 5</th>\n",
       "      <th>COLLISION_ID</th>\n",
       "      <th>VEHICLE TYPE CODE 1</th>\n",
       "      <th>VEHICLE TYPE CODE 2</th>\n",
       "      <th>VEHICLE TYPE CODE 3</th>\n",
       "      <th>VEHICLE TYPE CODE 4</th>\n",
       "      <th>VEHICLE TYPE CODE 5</th>\n",
       "    </tr>\n",
       "  </thead>\n",
       "  <tbody>\n",
       "    <tr>\n",
       "      <th>0</th>\n",
       "      <td>2019-08-05</td>\n",
       "      <td>16:30</td>\n",
       "      <td>QUEENS</td>\n",
       "      <td>11434</td>\n",
       "      <td>40.676052</td>\n",
       "      <td>-73.790184</td>\n",
       "      <td>{'type': 'Point', 'coordinates': [-73.790184, ...</td>\n",
       "      <td>NaN</td>\n",
       "      <td>NaN</td>\n",
       "      <td>150-08    123 AVENUE</td>\n",
       "      <td>...</td>\n",
       "      <td>Unspecified</td>\n",
       "      <td>NaN</td>\n",
       "      <td>NaN</td>\n",
       "      <td>NaN</td>\n",
       "      <td>4184637</td>\n",
       "      <td>Sedan</td>\n",
       "      <td>Pick-up Truck</td>\n",
       "      <td>NaN</td>\n",
       "      <td>NaN</td>\n",
       "      <td>NaN</td>\n",
       "    </tr>\n",
       "    <tr>\n",
       "      <th>1</th>\n",
       "      <td>2019-08-27</td>\n",
       "      <td>16:02</td>\n",
       "      <td>BROOKLYN</td>\n",
       "      <td>11225</td>\n",
       "      <td>40.657780</td>\n",
       "      <td>-73.951096</td>\n",
       "      <td>{'type': 'Point', 'coordinates': [-73.951096, ...</td>\n",
       "      <td>NaN</td>\n",
       "      <td>NaN</td>\n",
       "      <td>288       HAWTHORNE STREET</td>\n",
       "      <td>...</td>\n",
       "      <td>Unspecified</td>\n",
       "      <td>NaN</td>\n",
       "      <td>NaN</td>\n",
       "      <td>NaN</td>\n",
       "      <td>4195773</td>\n",
       "      <td>Station Wagon/Sport Utility Vehicle</td>\n",
       "      <td>Station Wagon/Sport Utility Vehicle</td>\n",
       "      <td>NaN</td>\n",
       "      <td>NaN</td>\n",
       "      <td>NaN</td>\n",
       "    </tr>\n",
       "    <tr>\n",
       "      <th>2</th>\n",
       "      <td>2019-08-15</td>\n",
       "      <td>17:57</td>\n",
       "      <td>MANHATTAN</td>\n",
       "      <td>10002</td>\n",
       "      <td>40.718143</td>\n",
       "      <td>-73.993835</td>\n",
       "      <td>{'type': 'Point', 'coordinates': [-73.993835, ...</td>\n",
       "      <td>CHRYSTIE STREET</td>\n",
       "      <td>GRAND STREET</td>\n",
       "      <td>NaN</td>\n",
       "      <td>...</td>\n",
       "      <td>NaN</td>\n",
       "      <td>NaN</td>\n",
       "      <td>NaN</td>\n",
       "      <td>NaN</td>\n",
       "      <td>4202457</td>\n",
       "      <td>Sedan</td>\n",
       "      <td>NaN</td>\n",
       "      <td>NaN</td>\n",
       "      <td>NaN</td>\n",
       "      <td>NaN</td>\n",
       "    </tr>\n",
       "  </tbody>\n",
       "</table>\n",
       "<p>3 rows × 29 columns</p>\n",
       "</div>"
      ],
      "text/plain": [
       "  ACCIDENT DATE ACCIDENT TIME    BOROUGH ZIP CODE   LATITUDE  LONGITUDE  \\\n",
       "0    2019-08-05         16:30     QUEENS    11434  40.676052 -73.790184   \n",
       "1    2019-08-27         16:02   BROOKLYN    11225  40.657780 -73.951096   \n",
       "2    2019-08-15         17:57  MANHATTAN    10002  40.718143 -73.993835   \n",
       "\n",
       "                                            LOCATION  \\\n",
       "0  {'type': 'Point', 'coordinates': [-73.790184, ...   \n",
       "1  {'type': 'Point', 'coordinates': [-73.951096, ...   \n",
       "2  {'type': 'Point', 'coordinates': [-73.993835, ...   \n",
       "\n",
       "                     ON STREET NAME CROSS STREET NAME  \\\n",
       "0                               NaN               NaN   \n",
       "1                               NaN               NaN   \n",
       "2  CHRYSTIE STREET                       GRAND STREET   \n",
       "\n",
       "                            OFF STREET NAME  ...  \\\n",
       "0  150-08    123 AVENUE                      ...   \n",
       "1  288       HAWTHORNE STREET                ...   \n",
       "2                                       NaN  ...   \n",
       "\n",
       "   CONTRIBUTING FACTOR VEHICLE 2  CONTRIBUTING FACTOR VEHICLE 3  \\\n",
       "0                    Unspecified                            NaN   \n",
       "1                    Unspecified                            NaN   \n",
       "2                            NaN                            NaN   \n",
       "\n",
       "   CONTRIBUTING FACTOR VEHICLE 4  CONTRIBUTING FACTOR VEHICLE 5  COLLISION_ID  \\\n",
       "0                            NaN                            NaN       4184637   \n",
       "1                            NaN                            NaN       4195773   \n",
       "2                            NaN                            NaN       4202457   \n",
       "\n",
       "                   VEHICLE TYPE CODE 1                  VEHICLE TYPE CODE 2  \\\n",
       "0                                Sedan                        Pick-up Truck   \n",
       "1  Station Wagon/Sport Utility Vehicle  Station Wagon/Sport Utility Vehicle   \n",
       "2                                Sedan                                  NaN   \n",
       "\n",
       "   VEHICLE TYPE CODE 3 VEHICLE TYPE CODE 4 VEHICLE TYPE CODE 5  \n",
       "0                  NaN                 NaN                 NaN  \n",
       "1                  NaN                 NaN                 NaN  \n",
       "2                  NaN                 NaN                 NaN  \n",
       "\n",
       "[3 rows x 29 columns]"
      ]
     },
     "execution_count": 4,
     "metadata": {},
     "output_type": "execute_result"
    }
   ],
   "source": [
    "# kolumna ZIP CODE jako str, a ACCIDENT DATE jako datetime\n",
    "ny_collisions = pd.read_csv(\"data/nypd-motor-vehicle-collisions.csv\",dtype={\"ZIP CODE\":'str'}, parse_dates=[\"ACCIDENT DATE\"])\n",
    "ny_collisions.head(3)"
   ]
  },
  {
   "cell_type": "markdown",
   "id": "ranking-hindu",
   "metadata": {},
   "source": [
    "## Podstawowe informacje o wczytanym DataFrame\n",
    "Wczytany DataFrame ny_collisions posiada 1 612 178 wierszy w 29 kolumnach.\n",
    "\n",
    "Dane o kolumnach DataFrame ny_collisions:\n",
    "* **ACCIDENT DATE**: Data wypadku, podczas wczytywania kolumna przekształcona na typ danych 'datetime64[ns]'\n",
    "* **ZIP CODE**: Kod pocztowy, typ danych ciąg znaków 'str'"
   ]
  },
  {
   "cell_type": "code",
   "execution_count": null,
   "id": "conscious-sixth",
   "metadata": {},
   "outputs": [],
   "source": [
    "# Podstawowe informacje o DataFrame ny_colision\n",
    "# 1612178 wierszy i 29 kolumn\n",
    "ny_collisions.shape"
   ]
  },
  {
   "cell_type": "code",
   "execution_count": null,
   "id": "19bd0def-1b42-4c59-b29d-dc8a560ab36a",
   "metadata": {},
   "outputs": [],
   "source": [
    "ny_collisions.describe"
   ]
  },
  {
   "cell_type": "code",
   "execution_count": null,
   "id": "c59d473a-63f7-4e74-b6f8-65ceb2f5c606",
   "metadata": {},
   "outputs": [],
   "source": [
    "ny_collisions.info"
   ]
  },
  {
   "cell_type": "code",
   "execution_count": null,
   "id": "367a4e3a-ba8a-4bdc-b8f7-0085dec95dd3",
   "metadata": {},
   "outputs": [],
   "source": [
    "# Nazwy kolumn DataFrame ny_colision\n",
    "ny_collisions.columns"
   ]
  },
  {
   "cell_type": "code",
   "execution_count": 5,
   "id": "a6f88e26-7eda-4e6e-a79e-959ab70fdba4",
   "metadata": {},
   "outputs": [
    {
     "name": "stdout",
     "output_type": "stream",
     "text": [
      "ACCIDENT DATE:  datetime64[ns]\n",
      "ZIP CODE:  object\n",
      "COLLISION_ID:  int64\n",
      "LATITUDE:  float64\n",
      "LONGITUDE:  float64\n",
      "LOCATION:  object\n"
     ]
    }
   ],
   "source": [
    "# Typy danych kolumn\n",
    "print(\"ACCIDENT DATE: \",ny_collisions[\"ACCIDENT DATE\"].dtype)\n",
    "print(\"ZIP CODE: \",ny_collisions[\"ZIP CODE\"].dtype)\n",
    "print(\"COLLISION_ID: \",ny_collisions[\"COLLISION_ID\"].dtype)\n",
    "print(\"LATITUDE: \",ny_collisions[\"LATITUDE\"].dtype)\n",
    "print(\"LONGITUDE: \",ny_collisions[\"LONGITUDE\"].dtype)\n",
    "print(\"LOCATION: \",ny_collisions[\"LOCATION\"].dtype)"
   ]
  },
  {
   "cell_type": "markdown",
   "id": "70545210-d297-4b78-9297-a83ab0c31653",
   "metadata": {},
   "source": [
    "## Exploracja danych w poszczególnych kolumnach\n",
    "### Kolumna COLLISION_ID\n",
    "Sprawdzam czy kolumnę COLLISION_ID można użyć jako klucza głównego DataFrame, jednoznacznie wskazującego wiersz"
   ]
  },
  {
   "cell_type": "code",
   "execution_count": null,
   "id": "ba25c4b1-93a5-4a13-b2a4-b2440bea61de",
   "metadata": {},
   "outputs": [],
   "source": [
    "# typ danych\n",
    "ny_collisions[\"COLLISION_ID\"].dtype"
   ]
  },
  {
   "cell_type": "code",
   "execution_count": null,
   "id": "d946efd7-691e-4927-afb7-cc72338e0a8e",
   "metadata": {},
   "outputs": [],
   "source": [
    "# czy są komórki nie uzupełnione\n",
    "ny_collisions[\"COLLISION_ID\"].isna().sum()"
   ]
  },
  {
   "cell_type": "code",
   "execution_count": null,
   "id": "a67610bb-ab0d-4697-aa2b-97401323ee92",
   "metadata": {},
   "outputs": [],
   "source": [
    "# Czy wartości w kolumnie są unikalne ?\n",
    "cnt_no_uniq = (ny_collisions[\"COLLISION_ID\"].value_counts() > 1).sum()\n",
    "cnt_no_uniq\n",
    "# Niestety nie, jest jak poniżej pewna liczba zduplikowanych wartości w kolumnie COLLISION_ID"
   ]
  },
  {
   "cell_type": "code",
   "execution_count": null,
   "id": "04b2948f-1f89-4111-89cd-6c1691eeab74",
   "metadata": {},
   "outputs": [],
   "source": [
    "# rozpiętość ilości nie unikalnych wartości w kolumnie COLLISION_ID\n",
    "ny_collisions[\"COLLISION_ID\"].value_counts().agg([\"min\",\"max\"])\n",
    "# Kolumna posiada maksymalnie dwie powielone wartości w COLLISION_ID."
   ]
  },
  {
   "cell_type": "markdown",
   "id": "65835163-6c97-4ebc-891b-db0b57bb606c",
   "metadata": {},
   "source": [
    "Wyświetlam wiersze DataFrame z powielonymi wartościami w kolumnie COLLISION_ID"
   ]
  },
  {
   "cell_type": "code",
   "execution_count": null,
   "id": "254d44f6-3d1c-4f75-acc7-e08518c7fd7b",
   "metadata": {},
   "outputs": [],
   "source": [
    "coll_id_s = ny_collisions[\"COLLISION_ID\"].value_counts() > 1\n",
    "coll_id_s[coll_id_s].index\n",
    "# dataframe ny_collisions z powielonymi wartościami w kolumnie COLLISION_ID"
   ]
  },
  {
   "cell_type": "code",
   "execution_count": null,
   "id": "71251f1e-20f0-4b24-bb1b-94096fe48e3f",
   "metadata": {},
   "outputs": [],
   "source": [
    "# Wyświetlam jeden z wierzy aby przyjżeć się kolumnom \n",
    "ny_collisions.loc[ny_collisions[\"COLLISION_ID\"] == 3126615]"
   ]
  },
  {
   "cell_type": "markdown",
   "id": "434cf025-43fd-4a54-b0d6-54892c3cee4a",
   "metadata": {},
   "source": [
    "Z 2 wierszy wyświetlonych powyżej wygląda że kolumny prawdopodobnie mają te same wartości w wszystkich dwóch wierszach i będzie można wyczyścić dane w DataFrame Korzystając z funkcji drop_duplicates(). Najpierw trochę zabawy z funkcją sprawdzającą czy kolumny w dataframe z zduplikowanymi wartościami COLLISION_ID, posiadją te same wartości."
   ]
  },
  {
   "cell_type": "code",
   "execution_count": null,
   "id": "325bfc1d-d7a1-4330-8719-30c9a2ab0c2f",
   "metadata": {},
   "outputs": [],
   "source": [
    "# \"COLLISION_ID\"\n",
    "# Funkcja grupuje DataFrame df po kolumnie col, wyszukuje grupy które zawierają więcej niż 1 wiersz i\n",
    "# sprawdza czy wartości w zgrupowanych kolumnach są różne.\n",
    "# Funkcja zwraca słownik gdzie klucz to wartość grupowanej kolumny, a wrtość to lista kolumn, które się różnią\n",
    "# W przypadku gdy funkcja zwróci pusty słownik, dataframe df albo nie posiada zduplikowanych wierszy albo wszystkie kolumny\n",
    "# w zduplikowanych wierszach posiadają identyczne wartości\n",
    "def no_unique_columns(df,col):\n",
    "    no_uniq = {} # {zduplikowana_wartość:[nazwa_kolumy_1_z_róznymi_wartościami,nazwa_kolumy_2_z_róznymi_wartościami,...}\n",
    "    for g in tqdm(df.groupby(col)):\n",
    "        if len(g[1]) > 1:\n",
    "            # Jeżeli są duplikaty badamy wartości w odpowiednich kolumnach\n",
    "            for c in g[1].columns:\n",
    "                if len(g[1][c].unique()) > 1:\n",
    "                    # wartość zduplikowana (g[0]), posiada rózne wartości w dopowiednich kolumnach. Dodajemy informacje do słownika\n",
    "                    if g[0] in no_uniq:\n",
    "                        no_uniq[g[0]].append(c)\n",
    "                    else:\n",
    "                        no_uniq[g[0]] = [c]\n",
    "    return no_uniq"
   ]
  },
  {
   "cell_type": "code",
   "execution_count": null,
   "id": "f2c9b49f-b824-4b9b-bae4-7ca14588bdf2",
   "metadata": {},
   "outputs": [],
   "source": [
    "# test unikalności wartości. Chwilkę może potrwać ... (4 min.)\n",
    "nuq = no_unique_columns(ny_collisions,\"COLLISION_ID\")\n",
    "nuq"
   ]
  },
  {
   "cell_type": "code",
   "execution_count": null,
   "id": "f839ba6d-c01d-4c76-a7e5-549d41240222",
   "metadata": {},
   "outputs": [],
   "source": [
    "# Wszystkie wiersze z zdupliownymi wartościami COLLISION_ID mają również zduplikowane wartości w wszystkich kolumnach.\n",
    "# Czyszczę DataFrame\n",
    "cnt_before = len(ny_collisions)\n",
    "ny_collisions = ny_collisions.drop_duplicates(\"COLLISION_ID\")\n",
    "cnt_after = len(ny_collisions)\n",
    "print(f\"Ilość wierszy przed czyszczeniem: {cnt_before}\\nIlość wierszy po wyczyszczeniu: {cnt_after}\\nIlość wierszy usuniętych: {cnt_before-cnt_after}\")\n",
    "print(f\"Wierszy z nieunikalnymi wartościami w kolumnie COLLISION_ID było {cnt_no_uniq}\")"
   ]
  },
  {
   "cell_type": "code",
   "execution_count": null,
   "id": "7e6370fb-da63-43c0-8b8b-9dad4b199c9e",
   "metadata": {},
   "outputs": [],
   "source": [
    "# Liczba zduplikowanych wartości w kolumnie COLLISION_ID\n",
    "(ny_collisions[\"COLLISION_ID\"].value_counts() > 1).sum()\n",
    "# Kolumny można użyć jako klucza głównego, jednoznacznie identyfikującego wiersze DataFrame"
   ]
  },
  {
   "cell_type": "markdown",
   "id": "69be4405-d3f1-4d78-a873-b909bed68169",
   "metadata": {},
   "source": [
    "### Kolumna \"ZIP CODE\"\n",
    "\n",
    "[Kod pocztowy USA](https://en.wikipedia.org/wiki/ZIP_Code) w podstawowej formie składa się z 5 cyfr, ale może posiadać więcej niż 5 znaków.\n",
    "Ponadto kod pocztowy stanu NY rozpoczyna się od znaku '1'."
   ]
  },
  {
   "cell_type": "code",
   "execution_count": null,
   "id": "82cb9c8e-202f-4c4a-a333-07e7aace0621",
   "metadata": {},
   "outputs": [],
   "source": [
    "# Wyczyszczenie kolumny z początkowych i końcowych białych znków\n",
    "ny_collisions.loc[:,\"ZIP CODE\"] = ny_collisions[\"ZIP CODE\"].str.strip()"
   ]
  },
  {
   "cell_type": "markdown",
   "id": "e5549fba-f830-4075-ae81-63f8ca948c39",
   "metadata": {},
   "source": [
    "Liczba wierszy w których kolumna \"ZIP CODE\" posiada wartość nieuzupełnioną wynosi:"
   ]
  },
  {
   "cell_type": "code",
   "execution_count": null,
   "id": "480902f9-4f8f-4435-a815-dee2166707b3",
   "metadata": {},
   "outputs": [],
   "source": [
    "# liczba wierszy z kolumną ZIP CODE równym NaN lub pystym ciągiem znanków ''\n",
    "# Jeżeli kolumna ZIP CODE w pliku csv jest w postaci ,, to ma wartość NaN, jeżeli ,\\s+, (,jedna lub więcej znaków białych,) ma wartość ''\n",
    "count_zip_code_nan = len(ny_collisions.loc[ny_collisions[\"ZIP CODE\"].isna() | (ny_collisions[\"ZIP CODE\"] == '')])\n",
    "count_zip_code_nan"
   ]
  },
  {
   "cell_type": "markdown",
   "id": "f424e1e0-5ee4-45eb-9c46-bb47f7bd98a1",
   "metadata": {},
   "source": [
    "Zgodnie z informacją o kodach pocztowych w USA, kdoy NYC powinny rozpoczynać się od znaku cyfry jeden ('1').\n",
    "Liczba kodów pocztowych w kolumnie \"ZIP CODE\" w formacie podstawowym (5 znaków) i rozpoczynająca się od znaku cyfry '1' wynosi:"
   ]
  },
  {
   "cell_type": "code",
   "execution_count": null,
   "id": "6f847974-4656-461f-8fc3-de3cc7f429ae",
   "metadata": {},
   "outputs": [],
   "source": [
    "# Liczba wierszy w której kolumna ZIP CODE składa się z 5 cyfr, przyczym pierwsza rozpoczyna się od znaku '1'\n",
    "count_zip_code_basic = ny_collisions[\"ZIP CODE\"].str.count(\"1\\d{4}\").sum()\n",
    "count_zip_code_basic"
   ]
  },
  {
   "cell_type": "markdown",
   "id": "f77e8301-2190-46ec-8c59-31b9e1c55f83",
   "metadata": {},
   "source": [
    "Suma ilości wierszy w której kolumna ZIP CODE ma wartość NaN i poprawny ZIP CODE stanu NY rozpoczynający się od\n",
    "znaku '1', składjący się z 5 cyfr, powinna być równa ilości wierszy DataFrame ny_collision"
   ]
  },
  {
   "cell_type": "code",
   "execution_count": null,
   "id": "dae1d989-754d-4a33-990f-cdcb4b2556ce",
   "metadata": {},
   "outputs": [],
   "source": [
    "len(ny_collisions) - count_zip_code_nan - count_zip_code_basic"
   ]
  },
  {
   "cell_type": "markdown",
   "id": "218d9e40-988e-404e-84f2-a1b1e323089d",
   "metadata": {},
   "source": [
    "Operacje poniżej normalizują kolumnę ZIP CODE, tylko i wyłącznie do typu str, dla późniejszych analiz. Pozbywam się wartości NaN przez zamianę jej na pusty ciąg znaków ''."
   ]
  },
  {
   "cell_type": "code",
   "execution_count": null,
   "id": "231b53bb-7361-4f92-84be-9d9d874f35b4",
   "metadata": {},
   "outputs": [],
   "source": [
    "ny_collisions.loc[ny_collisions[\"ZIP CODE\"].isna(),\"ZIP CODE\"] = ''"
   ]
  },
  {
   "cell_type": "code",
   "execution_count": null,
   "id": "4acd2e8d-43e9-4172-a759-3ddd002a480b",
   "metadata": {},
   "outputs": [],
   "source": [
    "len(ny_collisions[\"COLLISION_ID\"].loc[ny_collisions[\"ZIP CODE\"]==''])"
   ]
  },
  {
   "cell_type": "markdown",
   "id": "237f1fd0-5089-482b-816f-6db31ddbdf9f",
   "metadata": {},
   "source": [
    "### Kolumny \"LATITUDE\", \"LONGITUDE\", \"LOCATION\"\n",
    "\n",
    "Sprawdzam jak wypełnieone są zależne od siebie kolumny LATITUDE, LONGITUDE i LOCATION.\n",
    "\n",
    "Przypadki:\n",
    "* wszystkie trzy komórki w wierszu dla poszczególnych kolumn posiadają dane\n",
    "* wszystkie trzy komórki w wierszu dla poszczególnych kolumny są nieuzupełnione\n",
    "* część komórek w wierszu dla poszczególnych kolumn jest wypełniona a część nie"
   ]
  },
  {
   "cell_type": "code",
   "execution_count": null,
   "id": "6f9fa1c9-efbb-4ae3-902a-75ace2240478",
   "metadata": {},
   "outputs": [],
   "source": [
    "# Wyświetlenie nieuzupełnionych kolumn \"LATITUDE\",\"LONGITUDE\",\"LOCATION\"\n",
    "# False: komórka w kolumnie uzupełniona, True: komórka w kolumnie nie uzupełniona\n",
    "ny_collisions[[\"LATITUDE\",\"LONGITUDE\",\"LOCATION\"]].isna()"
   ]
  },
  {
   "cell_type": "markdown",
   "id": "83d72193-4112-43f2-9ab5-cc00ddc525c8",
   "metadata": {},
   "source": [
    "Wartość False komórki w odpowiadającej kolumnie oznacza że jest uzupełniona, True nie uzupełniona\n",
    "\n",
    "Sumowanie po osi X wartości boolen (False=0, True=1) w celu określenia statusu uzupełnienia kolumn.\n",
    "\n",
    "Znczenie sumy wartości logicznych trzech kolumn \"LATITUDE\",\"LONGITUDE\",\"LOCATION\" w poszczególnych wierszach:\n",
    "\n",
    "0 - wszystkie kolumny zostały wypełnione\\\n",
    "1 - jedna z trzech komórek wiersza nie została uzupełniona\\\n",
    "2 - dwie z trzech komórek wiersza nie zostały uzupełnione\\\n",
    "3 - wszystkie trzy komórki w wierszu nie zostały uzupełnione"
   ]
  },
  {
   "cell_type": "code",
   "execution_count": null,
   "id": "402fd872-f631-4cd1-ad9b-960c18f46e3c",
   "metadata": {},
   "outputs": [],
   "source": [
    "ny_collisions[[\"LATITUDE\",\"LONGITUDE\",\"LOCATION\"]].isna().sum(axis=1)"
   ]
  },
  {
   "cell_type": "markdown",
   "id": "a582b4a7-4c1b-467f-8c27-54a9e05d9837",
   "metadata": {},
   "source": [
    "Sprawdzenie z jakiego typu \"brakami\" w danych o lokalizacji kolizji/wypadku mamy doczynienia"
   ]
  },
  {
   "cell_type": "code",
   "execution_count": null,
   "id": "7b54e884-398b-427f-a9f3-40008d23cd8f",
   "metadata": {},
   "outputs": [],
   "source": [
    "(ny_collisions[[\"LATITUDE\",\"LONGITUDE\",\"LOCATION\"]].isna().sum(axis=1)).unique()"
   ]
  },
  {
   "cell_type": "code",
   "execution_count": null,
   "id": "a59ea22d-c1e3-4fa3-a125-786da6c89ecc",
   "metadata": {},
   "outputs": [],
   "source": [
    "# liczba wierszy bez współrzędnych geograficznych\n",
    "((ny_collisions[[\"LATITUDE\",\"LONGITUDE\",\"LOCATION\"]].isna().sum(axis=1)) == 3).sum()"
   ]
  },
  {
   "cell_type": "markdown",
   "id": "2f796573-7c8e-48e5-a41b-8bdb3d2b0378",
   "metadata": {},
   "source": [
    "W tym przypadku posiadamy tylko wartości 0 i 3 co oznacza że mamy wiersze w kolumnach \"LATITUDE\",\"LONGITUDE\",\"LOCATION\" albo wszystkie uzupełnione albo wszystkie nie uzupełnione. Brak przypadków mieszanych (jedna lub dwie kolumny są uzupełnione a reszta nie), co oszczędzi głębszej analizy, które komórki można uzupełnić na podstawie zawartości inych komórek (np. LATITUDE na podstawie uzupełnionej komórki LOCATION).\n",
    "\n",
    "Komórka LOCATION zapisana jest jako typ danych str i wygląda jak rekord danych python dictionary:\\\n",
    "`{'type': 'Point', 'coordinates': [-73.790184, 40.676052]}`\\\n",
    "gdzie klucz 'type' określa prawdopodobnie kształt (w tym przypadku punkt) i 'coordinates' współrzędne geograficzne, \n",
    "co daje możliwość weryfikacji spójności danych komórek w kolumnach LATITUDE i LONGITUDE na podstawie informacji zawartych w komórkach kolumny LOCATION.\n",
    "\n",
    "W celu wykonania takiej weryfikacji należy z komórki kolumny LOCATION \"wyciągnąć\" informacje o współrzędnych geograficznych.\n",
    "Aby to osiągnąć można potraktować zawartość wierszy kolumny LOCATION jako dane typu json, zamieniając znak ' na znak \", lub bezpośrednio zamienić funkcją eval() ciąg znaków na słownik."
   ]
  },
  {
   "cell_type": "code",
   "execution_count": null,
   "id": "6d27673e-777e-45b6-ace6-bdcd370a0dbd",
   "metadata": {},
   "outputs": [],
   "source": [
    "# Funkcja sprawdza czy współrzędne geograficzne w kolumnie LATITUDE i LONGITUDE są zgodne z\n",
    "# współrzędnymi geograficznymi w strukturze zawartej w kolumnie LOCATION\n",
    "# Przeznaczenie: dla DataFrame.apply()\n",
    "# wejście: wiersz danych dataframe z kolumnami LATITUDE,LONGITUDE,LOCATION\n",
    "# wyjście: zwraca True jeżeli współrzędne geograficzne w strukturze z kolumny LOCATION są niezgodene z danymi w kolumnach LATITUDE i LONGITUDE\n",
    "def check_coordinate(row):\n",
    "    try:\n",
    "        data = eval(row[\"LOCATION\"])\n",
    "        # Sprawdzam czy zmienna data jest typu słownik i czy słownik zawiera klucze type i coordinates\n",
    "        if isinstance(data,dict) and (data.keys() >= {\"type\", \"coordinates\"}):\n",
    "            if data[\"type\"].strip().upper() == 'POINT':\n",
    "                # Sprawdzanie czy klucz 'coordinates' zawiera listę z przynjmniej dwoma elementami nie ma sensu, zdziała wyjątek\n",
    "                loc_latitude = data[\"coordinates\"][1]\n",
    "                loc_longitude = data[\"coordinates\"][0]\n",
    "                return not ((loc_latitude-row[\"LATITUDE\"]==0) and (loc_longitude-row[\"LONGITUDE\"]==0))\n",
    "    except:\n",
    "        return True\n",
    "    return True"
   ]
  },
  {
   "cell_type": "code",
   "execution_count": null,
   "id": "c0369aa8-c37d-46ca-b862-4486a1933243",
   "metadata": {},
   "outputs": [],
   "source": [
    "# tworzę kopię z dataframe ny_collision, która jest wycinkiem z oryginalnego dataframe składającego się z \n",
    "# kolumn \"LATITUDE\",\"LONGITUDE\",\"LOCATION\" bez LOCATION = NaN.\n",
    "test = ny_collisions[[\"LATITUDE\",\"LONGITUDE\",\"LOCATION\"]].loc[~ny_collisions[\"LOCATION\"].isna()]"
   ]
  },
  {
   "cell_type": "code",
   "execution_count": null,
   "id": "8eb989ed-563a-4b81-a483-743265563928",
   "metadata": {},
   "outputs": [],
   "source": [
    "# Testowanie zgodności wartości LONGITUDE, LATITUDE i LOCATION.coordinates.\n",
    "test[\"check\"] = test.apply(check_coordinate,axis=1)\n",
    "test"
   ]
  },
  {
   "cell_type": "code",
   "execution_count": null,
   "id": "f3d3c2c0-13fc-4dd2-a4da-c00219e133b7",
   "metadata": {},
   "outputs": [],
   "source": [
    "# Jeżeli są nizgodności to wiersz w kolumnie check ma wartość True\n",
    "test.loc[test[\"check\"]]"
   ]
  },
  {
   "cell_type": "markdown",
   "id": "522d46f0-9ebd-4156-a650-e50018d60cfc",
   "metadata": {},
   "source": [
    "W tym przypadku brak niezgodności pomiędzy LATITUDE,LONGITUDE a kluczem coordinates w LOCATION. \n",
    "Z powyższej analizy wynika że kolumna LOCATION w dataframe ny_collision jest nadmiarowa."
   ]
  },
  {
   "cell_type": "code",
   "execution_count": null,
   "id": "2651eefc-0bc5-4db3-8947-b07655e82b3e",
   "metadata": {},
   "outputs": [],
   "source": [
    "# Usuwam test aby nie zajmować pamięci\n",
    "del(test)"
   ]
  },
  {
   "cell_type": "code",
   "execution_count": null,
   "id": "2ee92b74-c14e-4faa-b284-d42e071c71ed",
   "metadata": {},
   "outputs": [],
   "source": []
  }
 ],
 "metadata": {
  "kernelspec": {
   "display_name": "Python 3 (ipykernel)",
   "language": "python",
   "name": "python3"
  },
  "language_info": {
   "codemirror_mode": {
    "name": "ipython",
    "version": 3
   },
   "file_extension": ".py",
   "mimetype": "text/x-python",
   "name": "python",
   "nbconvert_exporter": "python",
   "pygments_lexer": "ipython3",
   "version": "3.9.2"
  }
 },
 "nbformat": 4,
 "nbformat_minor": 5
}
