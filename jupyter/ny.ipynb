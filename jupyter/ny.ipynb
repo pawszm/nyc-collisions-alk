{
 "cells": [
  {
   "cell_type": "code",
   "execution_count": null,
   "id": "b1f8e9c1-2136-4f9d-b79b-d26f0166edea",
   "metadata": {},
   "outputs": [],
   "source": [
    "import pandas as pd\n",
    "import numpy as np\n",
    "from  tqdm.notebook import tqdm\n",
    "from shapely import wkt\n",
    "import geopandas\n",
    "import matplotlib.pyplot as plt\n",
    "import os"
   ]
  },
  {
   "cell_type": "markdown",
   "id": "11c85885-16c6-44d3-aa64-4e33a2550449",
   "metadata": {},
   "source": [
    "# Eksploracja danych nypd-motor-vehicle-collisions.csv\n",
    "\n",
    "## Wczytanie danych\n",
    "Wczytanie danych o wypadkach i kolizjach w mieście Nowy Jork z pliku csv.\n",
    "Plik posiada nagłówek z nazwami kolumn a jako separatora użyto znaku ','"
   ]
  },
  {
   "cell_type": "code",
   "execution_count": null,
   "id": "5b9f9e61-3899-499a-a8c2-dcb606aedda0",
   "metadata": {},
   "outputs": [],
   "source": [
    "# Wczytuję dana z pliku csv\n",
    "ny_collisions = pd.read_csv(\"data/nypd-motor-vehicle-collisions.csv\")"
   ]
  },
  {
   "cell_type": "code",
   "execution_count": null,
   "id": "bd93715b-f69f-42e1-931e-2c1ecf6da28b",
   "metadata": {},
   "outputs": [],
   "source": [
    "ny_collisions.head(3)"
   ]
  },
  {
   "cell_type": "code",
   "execution_count": null,
   "id": "c2c5470f-ef4c-4cf8-9571-317ad87d15be",
   "metadata": {},
   "outputs": [],
   "source": [
    "# Z powodu komunikatu Columns (3) have mixed types. Specify dtype option on import or set low_memory=False.\n",
    "# przyglądam się kolumnie (3) \"ZIP CODE\"\n",
    "ny_collisions[\"ZIP CODE\"]"
   ]
  },
  {
   "cell_type": "markdown",
   "id": "ca105f94-28e8-4d3f-b295-658741242b44",
   "metadata": {},
   "source": [
    "Pandas potraktował wartości kolumny ZIP CODE jako liczby. Bezpośrednio w pliku CSV jest to głównie 5 cyfr, ponadto kolumna posiada wartości puste lub wypełnione białymi znakami.\n",
    "Traktuję kolumnę **ZIP CODE** jako ciąg znaków (typ str) a kolumnę **ACCIDENT DATE** jako dane typu datetime i wczytuję dane ponownie."
   ]
  },
  {
   "cell_type": "code",
   "execution_count": null,
   "id": "4915bd3e-5dda-4036-a764-4b695f7cdadb",
   "metadata": {},
   "outputs": [],
   "source": [
    "# kolumna ZIP CODE jako str, a ACCIDENT DATE jako datetime\n",
    "ny_collisions = pd.read_csv(\"data/nypd-motor-vehicle-collisions.csv\",dtype={\"ZIP CODE\":'str'}, parse_dates=[\"ACCIDENT DATE\"])\n",
    "ny_collisions.head(3)"
   ]
  },
  {
   "cell_type": "markdown",
   "id": "ranking-hindu",
   "metadata": {},
   "source": [
    "## Podstawowe informacje o wczytanym DataFrame\n",
    "Wczytany DataFrame ny_collisions posiada 1 612 178 wierszy w 29 kolumnach.\n",
    "\n",
    "Dane o kolumnach DataFrame ny_collisions:\n",
    "* **ACCIDENT DATE**: Data wypadku, podczas wczytywania kolumna przekształcona na typ danych 'datetime64[ns]'\n",
    "* **ZIP CODE**: Kod pocztowy, typ danych ciąg znaków 'str'"
   ]
  },
  {
   "cell_type": "code",
   "execution_count": null,
   "id": "conscious-sixth",
   "metadata": {},
   "outputs": [],
   "source": [
    "# Podstawowe informacje o DataFrame ny_colision\n",
    "# 1612178 wierszy i 29 kolumn\n",
    "ny_collisions.shape"
   ]
  },
  {
   "cell_type": "code",
   "execution_count": null,
   "id": "19bd0def-1b42-4c59-b29d-dc8a560ab36a",
   "metadata": {},
   "outputs": [],
   "source": [
    "ny_collisions.describe"
   ]
  },
  {
   "cell_type": "code",
   "execution_count": null,
   "id": "c59d473a-63f7-4e74-b6f8-65ceb2f5c606",
   "metadata": {},
   "outputs": [],
   "source": [
    "ny_collisions.info"
   ]
  },
  {
   "cell_type": "code",
   "execution_count": null,
   "id": "367a4e3a-ba8a-4bdc-b8f7-0085dec95dd3",
   "metadata": {},
   "outputs": [],
   "source": [
    "# Nazwy kolumn DataFrame ny_colision\n",
    "ny_collisions.columns"
   ]
  },
  {
   "cell_type": "code",
   "execution_count": null,
   "id": "f9191a7d-6e1c-4beb-98d7-a8410abd70d4",
   "metadata": {},
   "outputs": [],
   "source": [
    "# Typy danych\n",
    "ny_collisions.dtypes"
   ]
  },
  {
   "cell_type": "code",
   "execution_count": null,
   "id": "a6f88e26-7eda-4e6e-a79e-959ab70fdba4",
   "metadata": {},
   "outputs": [],
   "source": [
    "# Typy danych kolumn\n",
    "print(\"ACCIDENT DATE: \",ny_collisions[\"ACCIDENT DATE\"].dtype)\n",
    "print(\"ACCIDENT TIME: \",ny_collisions[\"ACCIDENT TIME\"].dtype)\n",
    "print(\"ZIP CODE: \",ny_collisions[\"ZIP CODE\"].dtype)\n",
    "print(\"COLLISION_ID: \",ny_collisions[\"COLLISION_ID\"].dtype)\n",
    "print(\"LATITUDE: \",ny_collisions[\"LATITUDE\"].dtype)\n",
    "print(\"LONGITUDE: \",ny_collisions[\"LONGITUDE\"].dtype)\n",
    "print(\"LOCATION: \",ny_collisions[\"LOCATION\"].dtype)\n",
    "print(\"CONTRIBUTING FACTOR VEHICLE 1: \", ny_collisions[\"CONTRIBUTING FACTOR VEHICLE 1\"].dtype)\n",
    "print(\"CONTRIBUTING FACTOR VEHICLE 2: \", ny_collisions[\"CONTRIBUTING FACTOR VEHICLE 2\"].dtype)\n",
    "print(\"CONTRIBUTING FACTOR VEHICLE 3: \", ny_collisions[\"CONTRIBUTING FACTOR VEHICLE 3\"].dtype)\n",
    "print(\"CONTRIBUTING FACTOR VEHICLE 4: \", ny_collisions[\"CONTRIBUTING FACTOR VEHICLE 4\"].dtype)\n",
    "print(\"CONTRIBUTING FACTOR VEHICLE 5: \", ny_collisions[\"CONTRIBUTING FACTOR VEHICLE 5\"].dtype)\n",
    "print(\"VEHICLE TYPE CODE 1 : \", ny_collisions[\"VEHICLE TYPE CODE 1\"].dtype)\n",
    "print(\"VEHICLE TYPE CODE 2 : \", ny_collisions[\"VEHICLE TYPE CODE 2\"].dtype)\n",
    "print(\"VEHICLE TYPE CODE 3 : \", ny_collisions[\"VEHICLE TYPE CODE 3\"].dtype)\n",
    "print(\"VEHICLE TYPE CODE 4 : \", ny_collisions[\"VEHICLE TYPE CODE 4\"].dtype)\n",
    "print(\"VEHICLE TYPE CODE 5 : \", ny_collisions[\"VEHICLE TYPE CODE 5\"].dtype)\n",
    "print(\"NUMBER OF PERSONS INJURED: \", ny_collisions[\"NUMBER OF PERSONS INJURED\"].dtype)\n",
    "print(\"NUMBER OF PERSONS KILLED: \", ny_collisions[\"NUMBER OF PERSONS KILLED\"].dtype)\n",
    "print(\"NUMBER OF PEDESTRIANS INJURED: \",ny_collisions[\"NUMBER OF PEDESTRIANS INJURED\"].dtype)\n",
    "print(\"NUMBER OF PEDESTRIANS KILLED: \",ny_collisions[\"NUMBER OF PEDESTRIANS KILLED\"].dtype)\n",
    "print(\"NUMBER OF CYCLIST INJURED: \",ny_collisions[\"NUMBER OF CYCLIST INJURED\"].dtype)\n",
    "print(\"NUMBER OF CYCLIST KILLED: \",ny_collisions[\"NUMBER OF CYCLIST KILLED\"].dtype)\n",
    "print(\"NUMBER OF MOTORIST INJURED: \",ny_collisions[\"NUMBER OF MOTORIST INJURED\"].dtype)\n",
    "print(\"NUMBER OF MOTORIST KILLED: \",ny_collisions[\"NUMBER OF MOTORIST KILLED\"].dtype)"
   ]
  },
  {
   "cell_type": "markdown",
   "id": "70545210-d297-4b78-9297-a83ab0c31653",
   "metadata": {},
   "source": [
    "## Sprawdzenie danych, opisanie ich i przygotowanie\n",
    "### Kolumna COLLISION_ID\n",
    "Sprawdzam czy kolumnę COLLISION_ID, identyfikator kolizji, można użyć jako klucza głównego DataFrame, jednoznacznie wskazującego wiersz"
   ]
  },
  {
   "cell_type": "code",
   "execution_count": null,
   "id": "ba25c4b1-93a5-4a13-b2a4-b2440bea61de",
   "metadata": {},
   "outputs": [],
   "source": [
    "# typ danych\n",
    "ny_collisions[\"COLLISION_ID\"].dtype"
   ]
  },
  {
   "cell_type": "code",
   "execution_count": null,
   "id": "d946efd7-691e-4927-afb7-cc72338e0a8e",
   "metadata": {},
   "outputs": [],
   "source": [
    "# czy są komórki nie uzupełnione\n",
    "ny_collisions[\"COLLISION_ID\"].isna().sum()\n",
    "# Wszystkie komórki kolumny COLLISION_ID posiadają wartość"
   ]
  },
  {
   "cell_type": "code",
   "execution_count": null,
   "id": "a67610bb-ab0d-4697-aa2b-97401323ee92",
   "metadata": {},
   "outputs": [],
   "source": [
    "# Czy wartości w kolumnie są unikalne ?\n",
    "cnt_no_uniq = (ny_collisions[\"COLLISION_ID\"].value_counts() > 1).sum()\n",
    "cnt_no_uniq\n",
    "# Niestety nie, jest jak poniżej pewna liczba zduplikowanych wartości w kolumnie COLLISION_ID"
   ]
  },
  {
   "cell_type": "code",
   "execution_count": null,
   "id": "04b2948f-1f89-4111-89cd-6c1691eeab74",
   "metadata": {},
   "outputs": [],
   "source": [
    "# rozpiętość ilości nie unikalnych wartości w kolumnie COLLISION_ID\n",
    "ny_collisions[\"COLLISION_ID\"].value_counts().agg([\"min\",\"max\"])\n",
    "# Kolumna posiada maksymalnie dwie powielone wartości w COLLISION_ID."
   ]
  },
  {
   "cell_type": "markdown",
   "id": "65835163-6c97-4ebc-891b-db0b57bb606c",
   "metadata": {},
   "source": [
    "Wyświetlam wiersze DataFrame z powielonymi wartościami w kolumnie COLLISION_ID"
   ]
  },
  {
   "cell_type": "code",
   "execution_count": null,
   "id": "254d44f6-3d1c-4f75-acc7-e08518c7fd7b",
   "metadata": {},
   "outputs": [],
   "source": [
    "coll_id_s = ny_collisions[\"COLLISION_ID\"].value_counts() > 1\n",
    "coll_id_s[coll_id_s].index\n",
    "# dataframe ny_collisions z powielonymi wartościami w kolumnie COLLISION_ID"
   ]
  },
  {
   "cell_type": "code",
   "execution_count": null,
   "id": "71251f1e-20f0-4b24-bb1b-94096fe48e3f",
   "metadata": {},
   "outputs": [],
   "source": [
    "# Wyświetlam jeden z wierzy aby przyjżeć się kolumnom \n",
    "ny_collisions.loc[ny_collisions[\"COLLISION_ID\"] == 3126615]"
   ]
  },
  {
   "cell_type": "markdown",
   "id": "434cf025-43fd-4a54-b0d6-54892c3cee4a",
   "metadata": {},
   "source": [
    "Z 2 wierszy wyświetlonych powyżej wygląda że kolumny prawdopodobnie mają te same wartości w wszystkich dwóch wierszach i będzie można wyczyścić dane w DataFrame Korzystając z funkcji drop_duplicates(). Najpierw trochę zabawy z funkcją sprawdzającą czy kolumny w dataframe z zduplikowanymi wartościami COLLISION_ID, posiadją te same wartości."
   ]
  },
  {
   "cell_type": "code",
   "execution_count": null,
   "id": "325bfc1d-d7a1-4330-8719-30c9a2ab0c2f",
   "metadata": {},
   "outputs": [],
   "source": [
    "# \"COLLISION_ID\"\n",
    "# Funkcja grupuje DataFrame df po kolumnie col, wyszukuje grupy które zawierają więcej niż 1 wiersz i\n",
    "# sprawdza czy wartości w zgrupowanych kolumnach są różne.\n",
    "# Funkcja zwraca słownik gdzie klucz to wartość grupowanej kolumny, a wrtość to lista kolumn, które się różnią\n",
    "# W przypadku gdy funkcja zwróci pusty słownik, dataframe df albo nie posiada zduplikowanych wierszy albo wszystkie kolumny\n",
    "# w zduplikowanych wierszach posiadają identyczne wartości\n",
    "def no_unique_columns(df,col):\n",
    "    no_uniq = {} # {zduplikowana_wartość:[nazwa_kolumy_1_z_róznymi_wartościami,nazwa_kolumy_2_z_róznymi_wartościami,...}\n",
    "    for g in tqdm(df.groupby(col)):\n",
    "        if len(g[1]) > 1:\n",
    "            # Jeżeli są duplikaty badamy wartości w odpowiednich kolumnach\n",
    "            for c in g[1].columns:\n",
    "                if len(g[1][c].unique()) > 1:\n",
    "                    # wartość zduplikowana (g[0]), posiada rózne wartości w dopowiednich kolumnach. Dodajemy informacje do słownika\n",
    "                    if g[0] in no_uniq:\n",
    "                        no_uniq[g[0]].append(c)\n",
    "                    else:\n",
    "                        no_uniq[g[0]] = [c]\n",
    "    return no_uniq"
   ]
  },
  {
   "cell_type": "code",
   "execution_count": null,
   "id": "f2c9b49f-b824-4b9b-bae4-7ca14588bdf2",
   "metadata": {},
   "outputs": [],
   "source": [
    "# test unikalności wartości. Chwilkę może potrwać ... (4 min.)\n",
    "nuq = no_unique_columns(ny_collisions,\"COLLISION_ID\")\n",
    "nuq"
   ]
  },
  {
   "cell_type": "code",
   "execution_count": null,
   "id": "f839ba6d-c01d-4c76-a7e5-549d41240222",
   "metadata": {},
   "outputs": [],
   "source": [
    "# Wszystkie wiersze z zdupliownymi wartościami COLLISION_ID mają również zduplikowane wartości w wszystkich kolumnach.\n",
    "# Czyszczę DataFrame\n",
    "cnt_before = len(ny_collisions)\n",
    "ny_collisions = ny_collisions.drop_duplicates(\"COLLISION_ID\")\n",
    "cnt_after = len(ny_collisions)\n",
    "print(f\"Ilość wierszy przed czyszczeniem: {cnt_before}\\nIlość wierszy po wyczyszczeniu: {cnt_after}\\nIlość wierszy usuniętych: {cnt_before-cnt_after}\")\n",
    "print(f\"Wierszy z nieunikalnymi wartościami w kolumnie COLLISION_ID było {cnt_no_uniq}\")"
   ]
  },
  {
   "cell_type": "code",
   "execution_count": null,
   "id": "7e6370fb-da63-43c0-8b8b-9dad4b199c9e",
   "metadata": {},
   "outputs": [],
   "source": [
    "# Liczba zduplikowanych wartości w kolumnie COLLISION_ID\n",
    "(ny_collisions[\"COLLISION_ID\"].value_counts() > 1).sum()\n",
    "# Kolumny można użyć jako klucza głównego, jednoznacznie identyfikującego wiersze DataFrame"
   ]
  },
  {
   "cell_type": "markdown",
   "id": "23884468-af1c-47d4-bcec-50943529c028",
   "metadata": {},
   "source": [
    "### Kolumny \"ACCIDENT DATE\" i \"ACCIDENT TIME\"\n",
    "\n",
    "Kolumna ACCIDENT DATE, określa datę kolizji typ datetime w formacie RRRR-MM-DD.\\\n",
    "Kolumna ACCIDENT TIME, określa czas kolizji typ str w fromacie HH:MM.\n",
    "Utworzenie dodatkowej kolumny \"DATE_COLLISION\" typu datetime, która jest połączeniem daty i czasu kolizji."
   ]
  },
  {
   "cell_type": "code",
   "execution_count": null,
   "id": "147ff306-cd7a-45f2-8934-781ca0c634a3",
   "metadata": {},
   "outputs": [],
   "source": [
    "# Typy danych\n",
    "print(\"ACCIDENT DATE: \",ny_collisions[\"ACCIDENT DATE\"].dtype)\n",
    "print(\"ACCIDENT TIME: \",ny_collisions[\"ACCIDENT TIME\"].dtype)"
   ]
  },
  {
   "cell_type": "code",
   "execution_count": null,
   "id": "821159ea-2cd1-435c-8234-1a11fa9b04f1",
   "metadata": {},
   "outputs": [],
   "source": [
    "# Sprawdzam czy kolumny \"ACCIDENT DATE\" i \"ACCIDENT TIME\" posiadają nie wypełnione wartości\n",
    "# Sprawdzam czy kolumna \"ACCIDENT TIME\" ma format godziny i minuty hh:mm\n",
    "ny_collisions.loc[:,\"ACCIDENT TIME\"] = ny_collisions[\"ACCIDENT TIME\"].str.strip()\n",
    "(ny_collisions[\"ACCIDENT DATE\"].isna() | ny_collisions[\"ACCIDENT TIME\"].isna() | (ny_collisions[\"ACCIDENT TIME\"] == '') | ~ny_collisions[\"ACCIDENT TIME\"].str.fullmatch(\"\\d{1,2}:\\d{2}\")).sum()\n",
    "# Zero wierszy niepoprawnych"
   ]
  },
  {
   "cell_type": "code",
   "execution_count": null,
   "id": "c160440e-88b9-4a8f-b4a9-be922e9b0642",
   "metadata": {},
   "outputs": [],
   "source": [
    "# Dodakowa kolumna typu datetime\n",
    "ny_collisions.loc[:,\"DATE_COLLISION\"] = ny_collisions[[\"ACCIDENT DATE\",\"ACCIDENT TIME\"]].apply(lambda d: d.iloc[0] + pd.Timedelta(d.iloc[1] + \":00\"), axis=1)\n",
    "ny_collisions[[\"ACCIDENT DATE\",\"ACCIDENT TIME\",\"DATE_COLLISION\"]].head(5)"
   ]
  },
  {
   "cell_type": "code",
   "execution_count": null,
   "id": "bf9351ce-e498-49de-ae40-96011cc8cc78",
   "metadata": {},
   "outputs": [],
   "source": [
    "# okres czasu, które obejmują dane.\n",
    "ny_collisions[\"DATE_COLLISION\"].agg(['min','max'])\n",
    "# Zakres dat analizowanych danych wygląda na poprawny"
   ]
  },
  {
   "cell_type": "markdown",
   "id": "69be4405-d3f1-4d78-a873-b909bed68169",
   "metadata": {},
   "source": [
    "### Kolumna \"ZIP CODE\"\n",
    "\n",
    "Kolumna z kodem pocztowym.\\\n",
    "[Kod pocztowy USA](https://en.wikipedia.org/wiki/ZIP_Code) w podstawowej formie składa się z 5 cyfr, ale może posiadać więcej niż 5 znaków.\n",
    "Ponadto kod pocztowy stanu NY rozpoczyna się od znaku '1'."
   ]
  },
  {
   "cell_type": "code",
   "execution_count": null,
   "id": "fd669e94-465a-4e6d-9b02-b882cdd6072b",
   "metadata": {},
   "outputs": [],
   "source": [
    "# Typ danych\n",
    "print(\"ZIP CODE: \",ny_collisions[\"ZIP CODE\"].dtype)"
   ]
  },
  {
   "cell_type": "code",
   "execution_count": null,
   "id": "82cb9c8e-202f-4c4a-a333-07e7aace0621",
   "metadata": {},
   "outputs": [],
   "source": [
    "# Wyczyszczenie kolumny z początkowych i końcowych białych znków\n",
    "ny_collisions.loc[:,\"ZIP CODE\"] = ny_collisions[\"ZIP CODE\"].str.strip()"
   ]
  },
  {
   "cell_type": "markdown",
   "id": "e5549fba-f830-4075-ae81-63f8ca948c39",
   "metadata": {},
   "source": [
    "Liczba wierszy w których kolumna \"ZIP CODE\" posiada wartość nieuzupełnioną wynosi:"
   ]
  },
  {
   "cell_type": "code",
   "execution_count": null,
   "id": "480902f9-4f8f-4435-a815-dee2166707b3",
   "metadata": {},
   "outputs": [],
   "source": [
    "# liczba wierszy z kolumną ZIP CODE równym NaN lub pystym ciągiem znanków ''\n",
    "# Jeżeli kolumna ZIP CODE w pliku csv jest w postaci ,, to ma wartość NaN, jeżeli ,\\s+, (,jedna lub więcej znaków białych,) ma wartość ''\n",
    "count_zip_code_nan = len(ny_collisions.loc[ny_collisions[\"ZIP CODE\"].isna() | (ny_collisions[\"ZIP CODE\"] == '')])\n",
    "count_zip_code_nan"
   ]
  },
  {
   "cell_type": "markdown",
   "id": "f424e1e0-5ee4-45eb-9c46-bb47f7bd98a1",
   "metadata": {},
   "source": [
    "Zgodnie z informacją o kodach pocztowych w USA, kdoy NYC powinny rozpoczynać się od znaku cyfry jeden ('1').\n",
    "Liczba kodów pocztowych w kolumnie \"ZIP CODE\" w formacie podstawowym (5 znaków) i rozpoczynająca się od znaku cyfry '1' wynosi:"
   ]
  },
  {
   "cell_type": "code",
   "execution_count": null,
   "id": "6f847974-4656-461f-8fc3-de3cc7f429ae",
   "metadata": {},
   "outputs": [],
   "source": [
    "# Liczba wierszy w której kolumna ZIP CODE składa się z 5 cyfr, przyczym pierwsza rozpoczyna się od znaku '1'\n",
    "count_zip_code_basic = ny_collisions[\"ZIP CODE\"].str.count(\"1\\d{4}\").sum()\n",
    "count_zip_code_basic"
   ]
  },
  {
   "cell_type": "markdown",
   "id": "f77e8301-2190-46ec-8c59-31b9e1c55f83",
   "metadata": {},
   "source": [
    "Suma ilości wierszy w której kolumna ZIP CODE ma wartość NaN i poprawny ZIP CODE stanu NY rozpoczynający się od\n",
    "znaku '1', składjący się z 5 cyfr, powinna być równa ilości wierszy DataFrame ny_collision"
   ]
  },
  {
   "cell_type": "code",
   "execution_count": null,
   "id": "dae1d989-754d-4a33-990f-cdcb4b2556ce",
   "metadata": {},
   "outputs": [],
   "source": [
    "len(ny_collisions) - count_zip_code_nan - count_zip_code_basic"
   ]
  },
  {
   "cell_type": "markdown",
   "id": "218d9e40-988e-404e-84f2-a1b1e323089d",
   "metadata": {},
   "source": [
    "Operacje poniżej normalizują kolumnę ZIP CODE, tylko i wyłącznie do typu str, dla późniejszych analiz. Pozbywam się wartości NaN przez zamianę jej na pusty ciąg znaków ''."
   ]
  },
  {
   "cell_type": "code",
   "execution_count": null,
   "id": "231b53bb-7361-4f92-84be-9d9d874f35b4",
   "metadata": {},
   "outputs": [],
   "source": [
    "ny_collisions.loc[ny_collisions[\"ZIP CODE\"].isna(),\"ZIP CODE\"] = ''"
   ]
  },
  {
   "cell_type": "code",
   "execution_count": null,
   "id": "4acd2e8d-43e9-4172-a759-3ddd002a480b",
   "metadata": {},
   "outputs": [],
   "source": [
    "len(ny_collisions[\"COLLISION_ID\"].loc[ny_collisions[\"ZIP CODE\"]==''])"
   ]
  },
  {
   "cell_type": "markdown",
   "id": "237f1fd0-5089-482b-816f-6db31ddbdf9f",
   "metadata": {},
   "source": [
    "### Kolumny \"LATITUDE\", \"LONGITUDE\", \"LOCATION\"\n",
    "\n",
    "Kolumny opisujące współrzędne geograficzne kolizji.\\\n",
    "Sprawdzam jak wypełnieone są zależne od siebie kolumny LATITUDE, LONGITUDE i LOCATION.\n",
    "\n",
    "Przypadki:\n",
    "* wszystkie trzy komórki w wierszu dla poszczególnych kolumn posiadają dane\n",
    "* wszystkie trzy komórki w wierszu dla poszczególnych kolumny są nieuzupełnione\n",
    "* część komórek w wierszu dla poszczególnych kolumn jest wypełniona a część nie"
   ]
  },
  {
   "cell_type": "code",
   "execution_count": null,
   "id": "6f9fa1c9-efbb-4ae3-902a-75ace2240478",
   "metadata": {},
   "outputs": [],
   "source": [
    "# Wyświetlenie nieuzupełnionych kolumn \"LATITUDE\",\"LONGITUDE\",\"LOCATION\"\n",
    "# False: komórka w kolumnie uzupełniona, True: komórka w kolumnie nie uzupełniona\n",
    "ny_collisions[[\"LATITUDE\",\"LONGITUDE\",\"LOCATION\"]].isna()"
   ]
  },
  {
   "cell_type": "markdown",
   "id": "83d72193-4112-43f2-9ab5-cc00ddc525c8",
   "metadata": {},
   "source": [
    "Wartość False komórki w odpowiadającej kolumnie oznacza że jest uzupełniona, True nie uzupełniona\n",
    "\n",
    "Sumowanie po osi X wartości boolen (False=0, True=1) w celu określenia statusu uzupełnienia kolumn.\n",
    "\n",
    "Znczenie sumy wartości logicznych trzech kolumn \"LATITUDE\",\"LONGITUDE\",\"LOCATION\" w poszczególnych wierszach:\n",
    "\n",
    "0 - wszystkie kolumny zostały wypełnione\\\n",
    "1 - jedna z trzech komórek wiersza nie została uzupełniona\\\n",
    "2 - dwie z trzech komórek wiersza nie zostały uzupełnione\\\n",
    "3 - wszystkie trzy komórki w wierszu nie zostały uzupełnione"
   ]
  },
  {
   "cell_type": "code",
   "execution_count": null,
   "id": "402fd872-f631-4cd1-ad9b-960c18f46e3c",
   "metadata": {},
   "outputs": [],
   "source": [
    "ny_collisions[[\"LATITUDE\",\"LONGITUDE\",\"LOCATION\"]].isna().sum(axis=1)"
   ]
  },
  {
   "cell_type": "markdown",
   "id": "a582b4a7-4c1b-467f-8c27-54a9e05d9837",
   "metadata": {},
   "source": [
    "Sprawdzenie z jakiego typu \"brakami\" w danych o lokalizacji kolizji/wypadku mamy doczynienia"
   ]
  },
  {
   "cell_type": "code",
   "execution_count": null,
   "id": "7b54e884-398b-427f-a9f3-40008d23cd8f",
   "metadata": {},
   "outputs": [],
   "source": [
    "(ny_collisions[[\"LATITUDE\",\"LONGITUDE\",\"LOCATION\"]].isna().sum(axis=1)).unique()"
   ]
  },
  {
   "cell_type": "code",
   "execution_count": null,
   "id": "a59ea22d-c1e3-4fa3-a125-786da6c89ecc",
   "metadata": {},
   "outputs": [],
   "source": [
    "# liczba wierszy bez współrzędnych geograficznych\n",
    "((ny_collisions[[\"LATITUDE\",\"LONGITUDE\",\"LOCATION\"]].isna().sum(axis=1)) == 3).sum()"
   ]
  },
  {
   "cell_type": "markdown",
   "id": "2f796573-7c8e-48e5-a41b-8bdb3d2b0378",
   "metadata": {},
   "source": [
    "W tym przypadku posiadamy tylko wartości 0 i 3 co oznacza że mamy wiersze w kolumnach \"LATITUDE\",\"LONGITUDE\",\"LOCATION\" wszystkie uzupełnione albo wszystkie nie uzupełnione. Brak przypadków mieszanych (jedna lub dwie kolumny są uzupełnione a reszta nie), co oszczędzi głębszej analizy, które komórki można uzupełnić na podstawie zawartości inych komórek (np. LATITUDE na podstawie uzupełnionej komórki LOCATION).\n",
    "\n",
    "Komórka LOCATION zapisana jest jako typ danych str i wygląda jak rekord danych python dictionary:\\\n",
    "`{'type': 'Point', 'coordinates': [-73.790184, 40.676052]}`\\\n",
    "gdzie klucz 'type' określa prawdopodobnie kształt (w tym przypadku punkt) i 'coordinates' współrzędne geograficzne, \n",
    "co daje możliwość weryfikacji spójności danych komórek w kolumnach LATITUDE i LONGITUDE na podstawie informacji zawartych w komórkach kolumny LOCATION.\n",
    "\n",
    "W celu wykonania takiej weryfikacji należy z komórki kolumny LOCATION \"wyciągnąć\" informacje o współrzędnych geograficznych.\n",
    "Aby to osiągnąć można potraktować zawartość wierszy kolumny LOCATION jako dane typu json, zamieniając znak ' na znak \", lub bezpośrednio zamienić funkcją eval() ciąg znaków na słownik."
   ]
  },
  {
   "cell_type": "code",
   "execution_count": null,
   "id": "6d27673e-777e-45b6-ace6-bdcd370a0dbd",
   "metadata": {},
   "outputs": [],
   "source": [
    "# Funkcja sprawdza czy współrzędne geograficzne w kolumnie LATITUDE i LONGITUDE są zgodne z\n",
    "# współrzędnymi geograficznymi w strukturze zawartej w kolumnie LOCATION\n",
    "# Przeznaczenie: dla DataFrame.apply()\n",
    "# wejście: wiersz danych dataframe z kolumnami LATITUDE,LONGITUDE,LOCATION\n",
    "# wyjście: zwraca True jeżeli współrzędne geograficzne w strukturze z kolumny LOCATION są niezgodene z danymi w kolumnach LATITUDE i LONGITUDE\n",
    "def check_coordinate(row):\n",
    "    try:\n",
    "        data = eval(row[\"LOCATION\"])\n",
    "        # Sprawdzam czy zmienna data jest typu słownik i czy słownik zawiera klucze type i coordinates\n",
    "        if isinstance(data,dict) and (data.keys() >= {\"type\", \"coordinates\"}):\n",
    "            if data[\"type\"].strip().upper() == 'POINT':\n",
    "                # Sprawdzanie czy klucz 'coordinates' zawiera listę z przynjmniej dwoma elementami nie ma sensu, zdziała wyjątek\n",
    "                loc_latitude = data[\"coordinates\"][1]\n",
    "                loc_longitude = data[\"coordinates\"][0]\n",
    "                return not ((loc_latitude-row[\"LATITUDE\"]==0) and (loc_longitude-row[\"LONGITUDE\"]==0))\n",
    "    except:\n",
    "        return True\n",
    "    return True"
   ]
  },
  {
   "cell_type": "code",
   "execution_count": null,
   "id": "c0369aa8-c37d-46ca-b862-4486a1933243",
   "metadata": {},
   "outputs": [],
   "source": [
    "# tworzę kopię z dataframe ny_collision, która jest wycinkiem z oryginalnego dataframe składającego się z \n",
    "# kolumn \"LATITUDE\",\"LONGITUDE\",\"LOCATION\" bez LOCATION = NaN.\n",
    "test = ny_collisions[[\"LATITUDE\",\"LONGITUDE\",\"LOCATION\"]].loc[~ny_collisions[\"LOCATION\"].isna()]"
   ]
  },
  {
   "cell_type": "code",
   "execution_count": null,
   "id": "8eb989ed-563a-4b81-a483-743265563928",
   "metadata": {},
   "outputs": [],
   "source": [
    "# Testowanie zgodności wartości LONGITUDE, LATITUDE i LOCATION.coordinates.\n",
    "test[\"check\"] = test.apply(check_coordinate,axis=1)\n",
    "test"
   ]
  },
  {
   "cell_type": "code",
   "execution_count": null,
   "id": "f3d3c2c0-13fc-4dd2-a4da-c00219e133b7",
   "metadata": {},
   "outputs": [],
   "source": [
    "# Jeżeli są nizgodności to wiersz w kolumnie check ma wartość True\n",
    "test.loc[test[\"check\"]]"
   ]
  },
  {
   "cell_type": "markdown",
   "id": "522d46f0-9ebd-4156-a650-e50018d60cfc",
   "metadata": {},
   "source": [
    "W tym przypadku brak niezgodności pomiędzy LATITUDE,LONGITUDE a kluczem coordinates w LOCATION. \n",
    "Z powyższej analizy wynika że kolumna LOCATION w dataframe ny_collision jest nadmiarowa."
   ]
  },
  {
   "cell_type": "code",
   "execution_count": null,
   "id": "2651eefc-0bc5-4db3-8947-b07655e82b3e",
   "metadata": {},
   "outputs": [],
   "source": [
    "# Usuwam test aby nie zajmować pamięci\n",
    "del(test)"
   ]
  },
  {
   "cell_type": "markdown",
   "id": "64aa4b90-e04a-4549-8d4d-53c52db8f846",
   "metadata": {},
   "source": [
    "### Kolumny 'CONTRIBUTING FACTOR VEHICLE 1','CONTRIBUTING FACTOR VEHICLE 2','CONTRIBUTING FACTOR VEHICLE 3','CONTRIBUTING FACTOR VEHICLE 4','CONTRIBUTING FACTOR VEHICLE 5'\n",
    "\n",
    "Kolumny opisujące czynnik, który doprowadził do kolizji. Prawdopodobnie odnosi się do stosownej koumny \"VEHICLE TYPE CODE `<NR>`\" pojazdu uczestniczącego w kolizji.\\\n",
    "Wyczyszczenie z danych typ NaN"
   ]
  },
  {
   "cell_type": "code",
   "execution_count": null,
   "id": "e5cd1bb7-e08d-4534-b6e5-664d97efd849",
   "metadata": {},
   "outputs": [],
   "source": [
    "# Typy danych w kolumnach\n",
    "print(\"CONTRIBUTING FACTOR VEHICLE 1: \", ny_collisions[\"CONTRIBUTING FACTOR VEHICLE 1\"].dtype)\n",
    "print(\"CONTRIBUTING FACTOR VEHICLE 2: \", ny_collisions[\"CONTRIBUTING FACTOR VEHICLE 2\"].dtype)\n",
    "print(\"CONTRIBUTING FACTOR VEHICLE 3: \", ny_collisions[\"CONTRIBUTING FACTOR VEHICLE 3\"].dtype)\n",
    "print(\"CONTRIBUTING FACTOR VEHICLE 4: \", ny_collisions[\"CONTRIBUTING FACTOR VEHICLE 4\"].dtype)\n",
    "print(\"CONTRIBUTING FACTOR VEHICLE 5: \", ny_collisions[\"CONTRIBUTING FACTOR VEHICLE 5\"].dtype)"
   ]
  },
  {
   "cell_type": "code",
   "execution_count": null,
   "id": "7d539bf3-5260-417b-8205-72ceefd8f3f5",
   "metadata": {},
   "outputs": [],
   "source": [
    "ny_collisions[['CONTRIBUTING FACTOR VEHICLE 1','CONTRIBUTING FACTOR VEHICLE 2','CONTRIBUTING FACTOR VEHICLE 3','CONTRIBUTING FACTOR VEHICLE 4','CONTRIBUTING FACTOR VEHICLE 5']].head(10)"
   ]
  },
  {
   "cell_type": "code",
   "execution_count": null,
   "id": "ec32df99-63cf-4ea8-9fc7-604a1f80a005",
   "metadata": {},
   "outputs": [],
   "source": [
    "# Wyczyszczenie danych typu NaN przez zastąpienie ich ciągiem pustym ''\n",
    "# Transformacja danych: przekształcenie tekstu w poszczególnych komórkach kolumn na duże litery w celu ułatwienia póżniejszych analiz.\n",
    "ny_collisions.loc[:,['CONTRIBUTING FACTOR VEHICLE 1','CONTRIBUTING FACTOR VEHICLE 2','CONTRIBUTING FACTOR VEHICLE 3','CONTRIBUTING FACTOR VEHICLE 4','CONTRIBUTING FACTOR VEHICLE 5']] = ny_collisions[['CONTRIBUTING FACTOR VEHICLE 1','CONTRIBUTING FACTOR VEHICLE 2','CONTRIBUTING FACTOR VEHICLE 3','CONTRIBUTING FACTOR VEHICLE 4','CONTRIBUTING FACTOR VEHICLE 5']].fillna('')\n",
    "ny_collisions.loc[:,['CONTRIBUTING FACTOR VEHICLE 1','CONTRIBUTING FACTOR VEHICLE 2','CONTRIBUTING FACTOR VEHICLE 3','CONTRIBUTING FACTOR VEHICLE 4','CONTRIBUTING FACTOR VEHICLE 5']] = ny_collisions[['CONTRIBUTING FACTOR VEHICLE 1','CONTRIBUTING FACTOR VEHICLE 2','CONTRIBUTING FACTOR VEHICLE 3','CONTRIBUTING FACTOR VEHICLE 4','CONTRIBUTING FACTOR VEHICLE 5']].apply(lambda v: v.str.strip().str.upper())"
   ]
  },
  {
   "cell_type": "code",
   "execution_count": null,
   "id": "78778150-4156-44c6-b658-070d3ad5ee37",
   "metadata": {},
   "outputs": [],
   "source": [
    "ny_collisions[['CONTRIBUTING FACTOR VEHICLE 1','CONTRIBUTING FACTOR VEHICLE 2','CONTRIBUTING FACTOR VEHICLE 3','CONTRIBUTING FACTOR VEHICLE 4','CONTRIBUTING FACTOR VEHICLE 5']].head(10)"
   ]
  },
  {
   "cell_type": "markdown",
   "id": "42c025fa-0528-4ada-bb79-31bba859f689",
   "metadata": {},
   "source": [
    "### Kolumny 'VEHICLE TYPE CODE 1', 'VEHICLE TYPE CODE 2', 'VEHICLE TYPE CODE 3', 'VEHICLE TYPE CODE 4', 'VEHICLE TYPE CODE 5'\n",
    "\n",
    "Kolumny opisujące typ pojazdu, który brał udział w kolizji. Prawdopodobnie odnosi się do stosownej koumny \"CONTRIBUTING FACTOR VEHICLE `<NR>`\" czynnika który doprowadził do kolizji.\n",
    "Wyczyszczenie z danych typ NaN i dodanie dodatkowej kolumny NUMBER_OF_VEHICLES, określającej liczbę pojazdów biorących udział w kolizji."
   ]
  },
  {
   "cell_type": "code",
   "execution_count": null,
   "id": "79aa90fb-a931-4357-9e83-b07a67f3038f",
   "metadata": {},
   "outputs": [],
   "source": [
    "# Typy danych w kolumnach\n",
    "print(\"VEHICLE TYPE CODE 1 : \", ny_collisions[\"VEHICLE TYPE CODE 1\"].dtype)\n",
    "print(\"VEHICLE TYPE CODE 2 : \", ny_collisions[\"VEHICLE TYPE CODE 2\"].dtype)\n",
    "print(\"VEHICLE TYPE CODE 3 : \", ny_collisions[\"VEHICLE TYPE CODE 3\"].dtype)\n",
    "print(\"VEHICLE TYPE CODE 4 : \", ny_collisions[\"VEHICLE TYPE CODE 4\"].dtype)\n",
    "print(\"VEHICLE TYPE CODE 5 : \", ny_collisions[\"VEHICLE TYPE CODE 5\"].dtype)"
   ]
  },
  {
   "cell_type": "code",
   "execution_count": null,
   "id": "f2f10648-8cda-4d81-988a-4855fb9654dd",
   "metadata": {},
   "outputs": [],
   "source": [
    "ny_collisions[['VEHICLE TYPE CODE 1','VEHICLE TYPE CODE 2','VEHICLE TYPE CODE 3','VEHICLE TYPE CODE 4','VEHICLE TYPE CODE 5']]"
   ]
  },
  {
   "cell_type": "code",
   "execution_count": null,
   "id": "172772fb-fa6f-4946-865b-3c6f14f7b35d",
   "metadata": {},
   "outputs": [],
   "source": [
    "# Wyczyszczenie danych typu NaN przez zastąpienie ich ciągiem pustym ''\n",
    "# Transformacja danych, polegające na zamianie wszystkich liter w komórkach kolumn VEHICLE TYPE na duże litery w celu ułatwienia późniejszych analiz.\n",
    "ny_collisions.loc[:,['VEHICLE TYPE CODE 1','VEHICLE TYPE CODE 2','VEHICLE TYPE CODE 3','VEHICLE TYPE CODE 4','VEHICLE TYPE CODE 5']] = ny_collisions[['VEHICLE TYPE CODE 1','VEHICLE TYPE CODE 2','VEHICLE TYPE CODE 3','VEHICLE TYPE CODE 4','VEHICLE TYPE CODE 5']].fillna('')\n",
    "ny_collisions.loc[:,['VEHICLE TYPE CODE 1','VEHICLE TYPE CODE 2','VEHICLE TYPE CODE 3','VEHICLE TYPE CODE 4','VEHICLE TYPE CODE 5']] = ny_collisions[['VEHICLE TYPE CODE 1','VEHICLE TYPE CODE 2','VEHICLE TYPE CODE 3','VEHICLE TYPE CODE 4','VEHICLE TYPE CODE 5']].apply(lambda v: v.str.strip().str.upper())"
   ]
  },
  {
   "cell_type": "code",
   "execution_count": null,
   "id": "918c4a33-1109-47d7-875a-7b1a4453139f",
   "metadata": {},
   "outputs": [],
   "source": [
    "ny_collisions[['VEHICLE TYPE CODE 1','VEHICLE TYPE CODE 2','VEHICLE TYPE CODE 3','VEHICLE TYPE CODE 4','VEHICLE TYPE CODE 5']]"
   ]
  },
  {
   "cell_type": "code",
   "execution_count": null,
   "id": "499ae2a4-2a7a-48fc-bfd5-1478008b87eb",
   "metadata": {},
   "outputs": [],
   "source": [
    "# Funkcja zliczająca liczbę pojazdów uczestniczących w kolizji.\n",
    "# Zlicza tylko kolumny, które posiadają wartości str rózne od pustego ciągu znaków.\n",
    "def number_of_vehicles(val):\n",
    "    ret = 0\n",
    "    for col in val:\n",
    "        if len(col) > 0:\n",
    "            ret += 1\n",
    "    return ret"
   ]
  },
  {
   "cell_type": "code",
   "execution_count": null,
   "id": "860265fe-46b2-431e-b7f5-449ed6f425a8",
   "metadata": {},
   "outputs": [],
   "source": [
    "# Zliczanie pojazdów biorących udział w kolizji na podstawie liczby uzupełnionych kolumn VEHICLE TYPE.\n",
    "ny_collisions[\"NUMBER_OF_VEHICLES\"] = ny_collisions[['VEHICLE TYPE CODE 1','VEHICLE TYPE CODE 2','VEHICLE TYPE CODE 3','VEHICLE TYPE CODE 4','VEHICLE TYPE CODE 5']].apply(number_of_vehicles,axis=1)"
   ]
  },
  {
   "cell_type": "code",
   "execution_count": null,
   "id": "0807d829-cf92-45e7-a584-709c452da577",
   "metadata": {},
   "outputs": [],
   "source": [
    "# Wyswietlenie danych\n",
    "ny_collisions[['NUMBER_OF_VEHICLES','VEHICLE TYPE CODE 1','VEHICLE TYPE CODE 2','VEHICLE TYPE CODE 3','VEHICLE TYPE CODE 4','VEHICLE TYPE CODE 5']]"
   ]
  },
  {
   "cell_type": "markdown",
   "id": "0d44a25a-54fe-4fff-9dd6-bae811662e72",
   "metadata": {},
   "source": [
    "### Kolumny 'NUMBER OF PERSONS INJURED','NUMBER OF PERSONS KILLED', 'NUMBER OF PEDESTRIANS INJURED','NUMBER OF PEDESTRIANS KILLED', 'NUMBER OF CYCLIST INJURED','NUMBER OF CYCLIST KILLED', 'NUMBER OF MOTORIST INJURED','NUMBER OF MOTORIST KILLED'.\n",
    "\n",
    "Opis kolumn:\n",
    "- \"NUMBER OF PERSONS INJURED\": Suma liczby osób rannych w kolizji (pieszych, rowerzystów, zmotoryzowanych).\n",
    "- \"NUMBER OF PERSONS KILLED\": Suma liczby osób, kóre zgineły w wypadku/kolizji (pieszych, rowerzystów, zmotoryzowanych).\n",
    "- \"NUMBER OF PEDESTRIANS INJURED\": liczba rannych pieszych.\n",
    "- \"NUMBER OF PEDESTRIANS KILLED\": liczba zabitych pieszych.\n",
    "- \"NUMBER OF CYCLIST INJURED\": liczba rannych rowerzystów.\n",
    "- \"NUMBER OF CYCLIST KILLED\": liczba zabitych rowerzystów.\n",
    "- \"NUMBER OF MOTORIST INJURED\": liczba rannych zmotoryzowanych.\n",
    "- \"NUMBER OF MOTORIST KILLED\": liczba zabitych zmotoryzowanych."
   ]
  },
  {
   "cell_type": "code",
   "execution_count": null,
   "id": "0450e827-36f4-474a-9314-569d1f40442c",
   "metadata": {},
   "outputs": [],
   "source": [
    "# Typy danych\n",
    "print(\"NUMBER OF PERSONS INJURED: \", ny_collisions[\"NUMBER OF PERSONS INJURED\"].dtype)\n",
    "print(\"NUMBER OF PERSONS KILLED: \", ny_collisions[\"NUMBER OF PERSONS KILLED\"].dtype)\n",
    "print(\"NUMBER OF PEDESTRIANS INJURED: \",ny_collisions[\"NUMBER OF PEDESTRIANS INJURED\"].dtype)\n",
    "print(\"NUMBER OF PEDESTRIANS KILLED: \",ny_collisions[\"NUMBER OF PEDESTRIANS KILLED\"].dtype)\n",
    "print(\"NUMBER OF CYCLIST INJURED: \",ny_collisions[\"NUMBER OF CYCLIST INJURED\"].dtype)\n",
    "print(\"NUMBER OF CYCLIST KILLED: \",ny_collisions[\"NUMBER OF CYCLIST KILLED\"].dtype)\n",
    "print(\"NUMBER OF MOTORIST INJURED: \",ny_collisions[\"NUMBER OF MOTORIST INJURED\"].dtype)\n",
    "print(\"NUMBER OF MOTORIST KILLED: \",ny_collisions[\"NUMBER OF MOTORIST KILLED\"].dtype)"
   ]
  },
  {
   "cell_type": "code",
   "execution_count": null,
   "id": "b195e775-b717-4500-80fd-e62f5626ccb7",
   "metadata": {},
   "outputs": [],
   "source": [
    "# Sprawdzam czy dane w kolumnach \"NUMBER OF PERSONS INJURED\" i \"NUMBER OF PERSONS KILLED\" są wartościami całkowitymi\n",
    "display(ny_collisions[\"NUMBER OF PERSONS INJURED\"].apply(float.is_integer).all())\n",
    "display(ny_collisions[\"NUMBER OF PERSONS KILLED\"].apply(float.is_integer).all())"
   ]
  },
  {
   "cell_type": "code",
   "execution_count": null,
   "id": "175798b2-8f15-4623-afac-b5b351018e2f",
   "metadata": {},
   "outputs": [],
   "source": [
    "ny_collisions.loc[~ny_collisions[\"NUMBER OF PERSONS INJURED\"].apply(float.is_integer)][['NUMBER OF PERSONS INJURED','NUMBER OF PERSONS KILLED','NUMBER OF PEDESTRIANS INJURED','NUMBER OF PEDESTRIANS KILLED','NUMBER OF CYCLIST INJURED','NUMBER OF CYCLIST KILLED','NUMBER OF MOTORIST INJURED','NUMBER OF MOTORIST KILLED']]"
   ]
  },
  {
   "cell_type": "code",
   "execution_count": null,
   "id": "5b6c125b-731e-42f0-8cda-16effb9332ec",
   "metadata": {},
   "outputs": [],
   "source": [
    "ny_collisions.loc[~ny_collisions[\"NUMBER OF PERSONS KILLED\"].apply(float.is_integer)][['NUMBER OF PERSONS INJURED','NUMBER OF PERSONS KILLED','NUMBER OF PEDESTRIANS INJURED','NUMBER OF PEDESTRIANS KILLED','NUMBER OF CYCLIST INJURED','NUMBER OF CYCLIST KILLED','NUMBER OF MOTORIST INJURED','NUMBER OF MOTORIST KILLED']]"
   ]
  },
  {
   "cell_type": "code",
   "execution_count": null,
   "id": "d37d6eef-0aed-49e3-b3ea-b8b03c143407",
   "metadata": {},
   "outputs": [],
   "source": [
    "# Transformacja danych, pozbycie się ewewntualnych wartości NaN, poprzez zamianę NaN na wartośc 0\n",
    "ny_collisions.loc[:,['NUMBER OF PERSONS INJURED','NUMBER OF PERSONS KILLED','NUMBER OF PEDESTRIANS INJURED','NUMBER OF PEDESTRIANS KILLED','NUMBER OF CYCLIST INJURED','NUMBER OF CYCLIST KILLED','NUMBER OF MOTORIST INJURED','NUMBER OF MOTORIST KILLED']] = ny_collisions[['NUMBER OF PERSONS INJURED','NUMBER OF PERSONS KILLED','NUMBER OF PEDESTRIANS INJURED','NUMBER OF PEDESTRIANS KILLED','NUMBER OF CYCLIST INJURED','NUMBER OF CYCLIST KILLED','NUMBER OF MOTORIST INJURED','NUMBER OF MOTORIST KILLED']].fillna(0)"
   ]
  },
  {
   "cell_type": "code",
   "execution_count": null,
   "id": "1c051807-d4ef-4c92-9d1e-93c27bc90f64",
   "metadata": {},
   "outputs": [],
   "source": [
    "# Sprawdzam czy dane w kolumnach \"NUMBER OF PERSONS INJURED\" i \"NUMBER OF PERSONS KILLED\" są wartościami całkowitymi\n",
    "display(ny_collisions[\"NUMBER OF PERSONS INJURED\"].apply(float.is_integer).all())\n",
    "display(ny_collisions[\"NUMBER OF PERSONS KILLED\"].apply(float.is_integer).all())"
   ]
  },
  {
   "cell_type": "code",
   "execution_count": null,
   "id": "50e92829-9064-4ed5-989b-481bffe1c975",
   "metadata": {},
   "outputs": [],
   "source": [
    "# Wyświetlenie danych\n",
    "ny_collisions[['NUMBER OF PERSONS INJURED','NUMBER OF PERSONS KILLED','NUMBER OF PEDESTRIANS INJURED','NUMBER OF PEDESTRIANS KILLED','NUMBER OF CYCLIST INJURED','NUMBER OF CYCLIST KILLED','NUMBER OF MOTORIST INJURED','NUMBER OF MOTORIST KILLED']]"
   ]
  },
  {
   "cell_type": "code",
   "execution_count": null,
   "id": "641c6cc3-37b3-4197-9925-d7ccc73358df",
   "metadata": {},
   "outputs": [],
   "source": [
    "# Zmiana typu float64 kolumn 'NUMBER OF PERSONS INJURED' i 'NUMBER OF PERSONS KILLED' na typ int64.\n",
    "ny_collisions = ny_collisions.astype({\"NUMBER OF PERSONS INJURED\": 'int64', \"NUMBER OF PERSONS KILLED\": 'int64'})\n",
    "print(\"NUMBER OF PERSONS INJURED: \", ny_collisions[\"NUMBER OF PERSONS INJURED\"].dtype)\n",
    "print(\"NUMBER OF PERSONS KILLED: \", ny_collisions[\"NUMBER OF PERSONS KILLED\"].dtype)"
   ]
  },
  {
   "cell_type": "code",
   "execution_count": null,
   "id": "e16f16c4-bf8a-44b3-aaf6-f4cdff62b9ac",
   "metadata": {},
   "outputs": [],
   "source": [
    "# Wyświetlenie danych\n",
    "ny_collisions[['NUMBER OF PERSONS INJURED','NUMBER OF PERSONS KILLED','NUMBER OF PEDESTRIANS INJURED','NUMBER OF PEDESTRIANS KILLED','NUMBER OF CYCLIST INJURED','NUMBER OF CYCLIST KILLED','NUMBER OF MOTORIST INJURED','NUMBER OF MOTORIST KILLED']]"
   ]
  },
  {
   "cell_type": "markdown",
   "id": "78567982-fb7a-40df-b27e-c7071eaaea8a",
   "metadata": {},
   "source": [
    "Sprawdzenie czy wartości w kolumnie 'NUMBER OF PERSONS INJURED' są sumą wartości z kolumn 'NUMBER OF PEDESTRIANS INJURED', 'NUMBER OF CYCLIST INJURED', 'NUMBER OF MOTORIST INJURED'."
   ]
  },
  {
   "cell_type": "code",
   "execution_count": null,
   "id": "2f4ccabf-4250-4e07-a38d-5a6a6b09c282",
   "metadata": {},
   "outputs": [],
   "source": [
    "maps = ny_collisions[['NUMBER OF PEDESTRIANS INJURED','NUMBER OF CYCLIST INJURED','NUMBER OF MOTORIST INJURED']].sum(axis=1) != ny_collisions[\"NUMBER OF PERSONS INJURED\"]\n",
    "(maps).sum()"
   ]
  },
  {
   "cell_type": "code",
   "execution_count": null,
   "id": "c1da189c-7973-4f4f-9955-6e3c94e3f924",
   "metadata": {},
   "outputs": [],
   "source": [
    "# Mamy 374 wiersze z niezgodną liczbą osób rannych.\n",
    "ny_collisions.loc[maps][['NUMBER OF PERSONS INJURED','NUMBER OF PEDESTRIANS INJURED','NUMBER OF CYCLIST INJURED','NUMBER OF MOTORIST INJURED']]"
   ]
  },
  {
   "cell_type": "markdown",
   "id": "80cf3c6b-9f5c-4686-9c3e-5c39f4eedd34",
   "metadata": {},
   "source": [
    "## Przygotowanie danych GIS\n",
    "\n",
    "Wczytanie poligonu geogograficznego miasta Nowy Jork wraz z dzielnicami.\n",
    "Korzystam z wiedzy z serwisu https://www.kaggle.com/code/geowiz34/maps-of-nyc-airbnbs-with-python.\n",
    "Dane geograficzne miasta Nowy Jork zostały pobrane z strony https://data.cityofnewyork.us/City-Government/Neighborhood-Tabulation-Areas/cpf4-rkhq i wyeksportowane do pliku nynta.csv"
   ]
  },
  {
   "cell_type": "code",
   "execution_count": null,
   "id": "f40e5295-772c-408b-8aad-38fc8c3c63ec",
   "metadata": {},
   "outputs": [],
   "source": [
    "# Pobieram współrzędne geograficzne granic pligonów miasta Nowy Jork wraz z dzielnicami\n",
    "# W folderze data znajduje się plik nynta.zip, który należy rozpakować.\n",
    "nbhoods = pd.read_csv('data/nynta.csv')\n",
    "nbhoods.head(3)"
   ]
  },
  {
   "cell_type": "code",
   "execution_count": null,
   "id": "d511e780-debc-4728-b79f-7cf0d95be812",
   "metadata": {},
   "outputs": [],
   "source": [
    "# Sprawdzam czy kolumna NTACode w dataframe nbhood jest unikalna i czy można tej wartości z tej kolumny użyc jako klucz główny\n",
    "cnt_no_uniq = (nbhoods[\"NTACode\"].value_counts() > 1).sum()\n",
    "cnt_no_uniq\n",
    "# Wszystkie wartoci w kolumnie NTACode są unikalne"
   ]
  },
  {
   "cell_type": "markdown",
   "id": "c43ed15d-e54d-4279-bb7f-e01f550c8035",
   "metadata": {},
   "source": [
    "Przekonwertowanie danych geograficznych zawartych w DataFrame nbhoods (typu pandas) w kolumnie the_geom na typ danych odpowiedni dla geopandas, przez\n",
    "utworzenie kolumny geom z współrzędnymi geograficznymi obszarów miasta Nowy Jork w formacie [Well-known text](https://en.wikipedia.org/wiki/Well-known_text_representation_of_geometry). Przekonwertowanie nbhoods z typu pandas DataFrame na geopandas GeoDataFrame. Typ danych kolumny geom będzię używany w dalszych analizach. Sposób konwertowania kolumny the_geom na well-know text został opisany w serwisie https://www.kaggle.com/code/geowiz34/maps-of-nyc-airbnbs-with-python."
   ]
  },
  {
   "cell_type": "code",
   "execution_count": null,
   "id": "232eac02-a5b5-4fdc-a428-cba3cc314d48",
   "metadata": {},
   "outputs": [],
   "source": [
    "nbhoods.rename(columns={'NTAName':'neighbourhood'}, inplace=True)\n",
    "nbhoods['geom'] = nbhoods['the_geom'].apply(wkt.loads)\n",
    "nbhoods = geopandas.GeoDataFrame(nbhoods, geometry='geom')\n",
    "nbhoods.head(3)"
   ]
  },
  {
   "cell_type": "code",
   "execution_count": null,
   "id": "5693841d-76ca-4001-b4c1-13ced5b66b3c",
   "metadata": {},
   "outputs": [],
   "source": [
    "# Utworzenie DataFrame zawierajającego współrzędne geograficzne kolizji i identyfikatora kolizji\n",
    "# geo_collisions będzię używany do nanoszenia punktów kolizji na mapę miasta Nowy Jork\n",
    "geo_collisions = ny_collisions[[\"LONGITUDE\",\"LATITUDE\",\"COLLISION_ID\",\"BOROUGH\"]].loc[~ny_collisions[\"LOCATION\"].isna()].reset_index(drop=True)\n",
    "geo_collisions.head(3)"
   ]
  },
  {
   "cell_type": "code",
   "execution_count": null,
   "id": "949a05c9-fb8b-4d4f-b365-0fa172c8b440",
   "metadata": {},
   "outputs": [],
   "source": [
    "# Utworzenie kolumny point_collision zawierającego współrzędne geograficzne kolizji i przekonwertowanie z typu pandas DataFrame do geopandas GeoDataFrame\n",
    "geo_collisions[\"point_collision\"] = geopandas.GeoDataFrame(geopandas.points_from_xy(geo_collisions.LONGITUDE,geo_collisions.LATITUDE),columns=[\"point_collision\"])\n",
    "# Kolumna point_collision zawiera obiekty (punkty), które będą odrysowane na mapie miasta Nowy Jork\n",
    "geo_collisions = geopandas.GeoDataFrame(geo_collisions, geometry='point_collision')\n",
    "geo_collisions.head(3)"
   ]
  },
  {
   "cell_type": "markdown",
   "id": "3c4b0cf0-b266-4f92-800b-5713748c507c",
   "metadata": {},
   "source": [
    "Obszar miast Nowy Jork, znajduje się miej więcej pomiędzy długością geograficzną -73.67W a 74.3W, szerokością geograficzną 40.48N a 40.92N\n",
    "W GeoDataFrame geo_collisions teorzę kolumnę \"LocationNYC\" z wartościami typu Boolen, która wszystkie współrzędne geograficzne z przedziału w/w obszaru oznacza jako True (znajdują się w Nowym Jorku lub w pobliżu) i False oznaczające współrzędne, które są błędne lub znajdują się poza obszarem wyznaczonym przez w/w obszar.\n",
    "Kolumnę \"LocationNYC\", tworzę tylko na potrzeby wygodnego określenia, które punkty będą odrysowane na mapie"
   ]
  },
  {
   "cell_type": "code",
   "execution_count": null,
   "id": "7ddd6288-27e1-4d78-b2d4-1dc7bfe6cd13",
   "metadata": {},
   "outputs": [],
   "source": [
    "geo_collisions[\"LocationNYC\"] = False\n",
    "geo_collisions[\"LocationNYC\"] =  ((geo_collisions.LONGITUDE < -73.67) & (geo_collisions.LONGITUDE > -74.3) & (geo_collisions.LATITUDE > 40.48) & (geo_collisions.LATITUDE < 40.92))"
   ]
  },
  {
   "cell_type": "code",
   "execution_count": null,
   "id": "da5b1191-9017-4ea3-b0f2-0065f72e44a3",
   "metadata": {},
   "outputs": [],
   "source": [
    "# Przykład punktów współrzędnych geograficznych, których nie narysuję na mapie miasta Nowy Jork\n",
    "geo_collisions.loc[~geo_collisions[\"LocationNYC\"]].head(3)"
   ]
  },
  {
   "cell_type": "markdown",
   "id": "c780a836-45fd-4a00-9cb6-d192eb1e29c7",
   "metadata": {},
   "source": [
    "Przyporządkowanie punktów kolizji w geo_collisions do obszarów miasta Nowy Jork. Poniższa kod znajduje i przyporządkowuje lokalizacje do obszaru miasta Nowy Jork (NTACode w GeoDataFrame nbhoods). Przyporządkowanie trwa bardzo długo ok. 1h. W folderze data znajduje się plik geo.zip, który należy rozpakować. Plik zawiera gotowy GeoDataFrame geo_collisions"
   ]
  },
  {
   "cell_type": "code",
   "execution_count": null,
   "id": "288e91f6-4872-4805-a3c5-dcc591325dbf",
   "metadata": {},
   "outputs": [],
   "source": [
    "if os.path.isfile(\"data/geo.json\"):\n",
    "    geo_collisions = geopandas.read_file(\"data/geo.json\")\n",
    "else:\n",
    "    # bardzo długo ok 1h\n",
    "    # Określenie obszarów miasta Nowy Jork na podstawie współrzędnych geograficznicznych\n",
    "    # Kod dzielnicy Nowego Jorku z GeoDataFrame nbhoods[\"BoroCode\"]\n",
    "    geo_collisions[\"BoroCode\"] = 0\n",
    "    # Kod obszaru wewnątrz dzielnic Nowego Jorku z GeoDataFrame nbhoods[\"NTACode\"]\n",
    "    geo_collisions[\"NTACode\"] = None\n",
    "    for i in tqdm(geo_collisions.loc[geo_collisions[\"LocationNYC\"]].index):\n",
    "        data = nbhoods[[\"BoroCode\",\"NTACode\"]].loc[nbhoods[\"geom\"].contains(geo_collisions.loc[i,\"point_collision\"])]\n",
    "        l = len(data)\n",
    "        if l == 1:\n",
    "            # Jednoznaczne przyporządkowanie do jednego obszaru miasta\n",
    "            geo_collisions.at[i,\"BoroCode\"] = int(data[\"BoroCode\"].values[0])\n",
    "            geo_collisions.at[i,\"NTACode\"] = data[\"NTACode\"].values[0]\n",
    "        if l > 1:\n",
    "            # Testowo, lokalizacja określająca kilka obszarów miasta, być może oznacza błąd w danych nbhoods\n",
    "            test.at[i,\"BoroCode\"] = -l\n",
    "    geo_collisions.to_file(\"data/geo.json\",driver=\"GeoJSON\",index=False)"
   ]
  },
  {
   "cell_type": "code",
   "execution_count": null,
   "id": "ea5d240f-e27e-403d-a847-aae2e2068cbe",
   "metadata": {},
   "outputs": [],
   "source": [
    "# Sprawdzenie lokalizacji które są w obszarze miasta Nowy Jork, a zostały zaznaczone jak nie należące do\n",
    "# żadnego obszaru miasta\n",
    "geo_old = geo_collisions.loc[(geo_collisions[\"BoroCode\"]==0) & geo_collisions[\"LocationNYC\"]]\n",
    "geo_old"
   ]
  },
  {
   "cell_type": "markdown",
   "id": "dde8726d-39f2-47dc-bb61-d69295322e11",
   "metadata": {},
   "source": [
    "Jak widać na mapie poniżej (czerwone kropki) są to lokalizacje w obszarach wodnych (również na mostach) lub w ich pobliżu i obszary poza miastem Nowy Jork.\n",
    "Problem wynika z faktu że GeoDataFrame nbnbhoods nie wprowadza obszarów wodnych do miasta Nowy Jork, dodatkowo dochodzi problem z dokładnością lokalizacj przy brzegach obszarów wodnych."
   ]
  },
  {
   "cell_type": "code",
   "execution_count": null,
   "id": "e185fd8b-6c78-42ad-bf50-e4473428284d",
   "metadata": {},
   "outputs": [],
   "source": [
    "fig,ax = plt.subplots(1,1, figsize=(15,15))\n",
    "base = nbhoods.plot(color=\"orange\",alpha=0.5,edgecolor='black',ax=ax)\n",
    "geo_collisions.loc[(geo_collisions[\"BoroCode\"]==0) & geo_collisions[\"LocationNYC\"]].plot(ax=base, color=\"red\", markersize=8);"
   ]
  },
  {
   "cell_type": "markdown",
   "id": "fa8aa0ad-5951-4f53-971e-a50e96034aaf",
   "metadata": {},
   "source": [
    "W GeoDataFrame geo_collisions mamy dwie kolumny:\n",
    "* BOROUGH: z nazwą dzielnicy, która pochodzi z pandas DataFrame ny_collisions[\"BOROUGH\"]\n",
    "* BoroCode: z kodem dzielnicy w postaci liczby całkowitej, która pochodzi z przyporządkowania lokalizacji ny_collision[[\"LONGITUDE\",\"LATITUDE\"]] do obszaru w GeoDataFrame nbhoods.\n",
    "\n",
    "Lokalizacje które należą do obszaru miasta Nowy Jork, ponieważ mają określoną nazwę dzielnicy w kolumnie BOROUGH, a nie mają określonej wartości kodu dzielnicy w kolumnie BoroCode (obszary wodne i pobliże wody), można uzupełnić przez przypisanie kodu dzielnicy do BoroCode na podstawie wartosci w kolumnie BOROUGH. Niestety wartość w kolumnie NTACode pozostanie nie uzupełniona. Przypisanie BOROUGH do BoroCode, oparte jest na zaufaniu że lokalizacja dzielnicy Nowego Jorku jest prawidłowa.\n",
    "W ten sposób dołączymy część lokalizacji do późniejszych analiz, opartych na całych dzielnicach miasta Nowy Jork. Mniejszych obszarów nie będzie można dołączyć, ponieważ nie mają uzupełnionej kolumny NTACode."
   ]
  },
  {
   "cell_type": "code",
   "execution_count": null,
   "id": "3c344889-2221-4eb1-bc8f-06c0f066497b",
   "metadata": {},
   "outputs": [],
   "source": [
    "# Jakie unikalne wartości mamy w kolumnie BOROUGH geodataframe geo_collisions\n",
    "# Wykluczamy tylko wartości None\n",
    "geo_collisions[\"BOROUGH\"].unique()"
   ]
  },
  {
   "cell_type": "code",
   "execution_count": null,
   "id": "db8652c9-d706-4a74-a0dd-45e181bcafbf",
   "metadata": {},
   "outputs": [],
   "source": [
    "# kody dzielnic miasta Nowy Jork z geodataframe nbhoods\n",
    "nbhoods[[\"BoroName\",\"BoroCode\"]].groupby(\"BoroName\").BoroCode.unique().map(lambda x: x[0])"
   ]
  },
  {
   "cell_type": "code",
   "execution_count": null,
   "id": "f3824bd9-bbb4-4e6c-8846-e8aba434fb44",
   "metadata": {},
   "outputs": [],
   "source": [
    "# Słownik do mapowania nazwy dzielnicy w kod dzielnicy miasta Nowy Jork\n",
    "tmp = nbhoods[[\"BoroName\",\"BoroCode\"]].groupby(\"BoroName\").BoroCode.unique().map(lambda x: x[0])\n",
    "tmp.index = tmp.index.str.upper()\n",
    "boro_dict = tmp.to_dict()\n",
    "del(tmp)\n",
    "boro_dict"
   ]
  },
  {
   "cell_type": "code",
   "execution_count": null,
   "id": "44eb61b1-236a-4a01-923f-2b835525e6ac",
   "metadata": {},
   "outputs": [],
   "source": [
    "# Lokalizacje które są w obszarze miasta Nowy Jork i nie zostały rozpoznane przez przynależność po współrzędnych geograficzbych\n",
    "# do żadnego obszaru z geodataframe nbhoods, a mają uzupełnioną nazwę dzelnicy.\n",
    "geo_recognized = geo_collisions.loc[geo_collisions[\"LocationNYC\"] & (~geo_collisions[\"BOROUGH\"].isna()) & (geo_collisions[\"BoroCode\"]==0)]\n",
    "geo_recognized.head(3)\n",
    "# mamy 351 wierszy, którym możemy przyporządkować kod dzielnicy w kolumnie BoroCode"
   ]
  },
  {
   "cell_type": "code",
   "execution_count": null,
   "id": "013af36b-949a-4c0e-a0a5-a5b38b3e89bf",
   "metadata": {},
   "outputs": [],
   "source": [
    "# Utworzenie tymczasowego obiektu pd.Series w którym zapamiętam nr. indexu i kod dzielnicy jaki należy ustawić\n",
    "# w geo_collision[\"BoroCode\"]\n",
    "tmp = geo_collisions[\"BOROUGH\"].loc[geo_collisions[\"LocationNYC\"] & (~geo_collisions[\"BOROUGH\"].isna()) & (geo_collisions[\"BoroCode\"]==0)].map(boro_dict)\n",
    "tmp"
   ]
  },
  {
   "cell_type": "code",
   "execution_count": null,
   "id": "5d68cd3f-3ec0-4647-bd07-0b3a1c9aaf6c",
   "metadata": {},
   "outputs": [],
   "source": [
    "# Aktualizuję kody dzielnic\n",
    "geo_collisions.loc[tmp.index,\"BoroCode\"]=tmp"
   ]
  },
  {
   "cell_type": "code",
   "execution_count": null,
   "id": "50180321-67b8-4b64-b7c0-ccdd0fa92201",
   "metadata": {},
   "outputs": [],
   "source": [
    "# Lokalizacje które są w obszarze miasta Nowy Jork i nie zostały rozpoznane przez przynależność po współrzędnych geograficzbych\n",
    "# do żadnego obszaru z geodataframe nbhoods, a mają uzupełnioną nazwę dzelnicy.\n",
    "geo_collisions.loc[geo_collisions[\"LocationNYC\"] & (~geo_collisions[\"BOROUGH\"].isna()) & (geo_collisions[\"BoroCode\"]==0)]\n",
    "# mamy 0 wierszy. Uzupełnione wartości w kolumnie BoroCode, wskazują lokalizacje które mogę przyporządkować przynajmniej do dzielnicy miasta"
   ]
  },
  {
   "cell_type": "code",
   "execution_count": null,
   "id": "c3047a82-359e-4d7b-b951-5d4eae175051",
   "metadata": {},
   "outputs": [],
   "source": [
    "# lokalizacje, których nie udało się przyporządkować do żadnego obszaru geograficznego miasta Nowy Jork\n",
    "geo_collisions.loc[(geo_collisions[\"BoroCode\"]==0) & geo_collisions[\"LocationNYC\"]]"
   ]
  },
  {
   "cell_type": "code",
   "execution_count": null,
   "id": "839193c0-68d4-4b56-9812-2e74d02dc2ec",
   "metadata": {},
   "outputs": [],
   "source": [
    "# Ponownie odrysuję mapę z punktami kolizji nie przyporządkowanymi do żadnego obszaru geograficznego miasta.\n",
    "# Mniej o 351 punktów w porównani z poprzednią mapą, a więc udało się uzupełnić 5.78% nie uzupełnionych punktów kolizji\n",
    "# Wykres lokalizacji przypisanych i nie przypisanych do obszarów miasta Nowy Jork\n",
    "fig = plt.figure(figsize=(15,15))\n",
    "ax1 = fig.add_subplot(2,2,1)\n",
    "ax1.set_title(\"Punkty nie rozpoznane przed przypisaniem\")\n",
    "base1 = nbhoods.plot(color=\"orange\",alpha=0.5,edgecolor='black',ax=ax1)\n",
    "geo_old.loc[(geo_old[\"BoroCode\"]==0) & geo_old[\"LocationNYC\"]].plot(ax=base1, color=\"red\", markersize=8)\n",
    "ax2 = fig.add_subplot(2,2,2,sharey=ax1)\n",
    "ax2.set_title(\"Punkty nie rozpoznane po przypisaniu\")\n",
    "ax2.tick_params(labelleft=False,left=False)\n",
    "base2 = nbhoods.plot(color=\"orange\",alpha=0.5,edgecolor='black',ax=ax2)\n",
    "geo_collisions.loc[(geo_collisions[\"BoroCode\"]==0) & geo_collisions[\"LocationNYC\"]].plot(ax=base2, color=\"red\", markersize=8)\n",
    "ax3 = fig.add_subplot(2,1,2)\n",
    "ax3.set_title(\"Punkty rozpoznane po nazwie dzielnicy\")\n",
    "base3 = nbhoods.plot(color=\"orange\",alpha=0.5,edgecolor='black',ax=ax3)\n",
    "geo_recognized.plot(ax=base3, color=\"red\", markersize=8)\n",
    "fig.subplots_adjust(wspace=0)"
   ]
  },
  {
   "cell_type": "code",
   "execution_count": null,
   "id": "bb4d9dc0-e0b9-4259-8431-72d83e7e1776",
   "metadata": {},
   "outputs": [],
   "source": [
    "del(geo_old)\n",
    "del(geo_recognized)"
   ]
  },
  {
   "cell_type": "markdown",
   "id": "58c35c98-ea65-4abc-a226-ca66ebef5183",
   "metadata": {},
   "source": [
    "## Analiza danych geodezyjnych"
   ]
  },
  {
   "cell_type": "code",
   "execution_count": null,
   "id": "b052a190-8a4c-4708-821b-c25e6d9da7fd",
   "metadata": {},
   "outputs": [],
   "source": [
    "# Kolizje które posiadają prawidłową lokalizację w NYC\n",
    "# Cały zakres dat\n",
    "fig,ax = plt.subplots(1,1, figsize=(15,15))\n",
    "ax.set_title(\"wszystkie punkty kolizji za cały okres czasu analizowanych danych.\")\n",
    "base = nbhoods.plot(color=\"orange\",alpha=0.5,edgecolor='black',ax=ax)\n",
    "geo_collisions.loc[geo_collisions[\"LocationNYC\"]].plot(ax=base, color=\"red\", markersize=0.1);"
   ]
  },
  {
   "cell_type": "markdown",
   "id": "0ea2d4bc-e2b5-430e-8a42-6195a2b10d9f",
   "metadata": {},
   "source": [
    "Jak widać z mapy powyżej puknty kolizji z całego analizowanego okresu, pokrywają większą część miasta Nowy Jork.\n",
    "Wyraźnie zaznaczają zarys ulic miasta."
   ]
  },
  {
   "cell_type": "code",
   "execution_count": null,
   "id": "c9ae873b-365e-45cc-acde-3fd66cbdd5e7",
   "metadata": {},
   "outputs": [],
   "source": [
    "# 10 pierwszych obszarów miasta Nowy Jork w którym kolizje występują najczęściej\n",
    "# Uwzględniam tylko kolizje przypisane lokalizacją geograficzną do dowolnego obszaru miasta Nowy Jork\n",
    "# za cały okres czasu.\n",
    "# geo_collisions.loc[~geo_collisions[\"NTACode\"].isna()].groupby(\"NTACode\")[\"COLLISION_ID\"].count().sort_values(ascending=False).head(10)\n",
    "nta_collisions = geo_collisions.loc[~geo_collisions[\"NTACode\"].isna()].groupby(\"NTACode\")[\"COLLISION_ID\"].count().sort_values(ascending=False)\n",
    "nta_collisions.name = \"Count\"\n",
    "nta_collisions.head(10)"
   ]
  },
  {
   "cell_type": "code",
   "execution_count": null,
   "id": "199cf598-3ee6-4404-8d47-fb4afff60246",
   "metadata": {},
   "outputs": [],
   "source": [
    "# Bardziej czytelnie z nazwami dzielnic i obszarami wewnątrz dzielnic\n",
    "nbhoods[[\"NTACode\",\"BoroCode\",\"BoroName\",\"neighbourhood\"]].merge(nta_collisions,on=\"NTACode\").sort_values(\"Count\", ascending=False).head(10)"
   ]
  },
  {
   "cell_type": "code",
   "execution_count": null,
   "id": "89e82761-67fd-43df-a898-ad70c666750b",
   "metadata": {},
   "outputs": [],
   "source": [
    "# Gdzie na mapie miasta Nowy Jork znajduje się Midtown-Midtown South w dzielnicy Manhattan z największą liczbą kolizji\n",
    "# za cały okres czasowy danych. 25962 kolizji\n",
    "fig, ax = plt.subplots(1,1,figsize=(15,15))\n",
    "ax.set_title(\"Manhattan Midtown-Midtown South (25962 kolizji)\")\n",
    "nyc = nbhoods.plot(color=\"orange\",alpha=0.5,edgecolor='yellow',label=\"New York\",ax=ax)\n",
    "manhattan = nbhoods.loc[nbhoods[\"BoroCode\"] == 1].plot(color=\"yellow\",alpha=0.5,edgecolor='black',label=\"Manhattan\",ax=nyc)\n",
    "mn17 = nbhoods.loc[nbhoods[\"NTACode\"] == \"MN17\"].plot(color=\"red\",alpha=0.5,edgecolor='black',label=\"Midtown-Midtown South\",ax=manhattan);"
   ]
  },
  {
   "cell_type": "code",
   "execution_count": null,
   "id": "e19ec980-f54d-47b0-bedc-386ae46012a5",
   "metadata": {},
   "outputs": [],
   "source": [
    "# Kolizje za cały okres czasu w  Midtown-Midtown South w dzielnicy Manhattan w szczegółach\n",
    "fig,ax = plt.subplots(1,1, figsize=(15,15))\n",
    "ax.set_title(\"Manhattan Midtown-Midtown South (25962 kolizji) szczegółowo\")\n",
    "mn17 = nbhoods.loc[nbhoods[\"NTACode\"]=='MN17'].plot(color=\"orange\",alpha=0.5,edgecolor='black',ax=ax)\n",
    "geo_collisions.loc[geo_collisions[\"NTACode\"]=='MN17'].plot(ax=mn17, color=\"red\", markersize=0.1);"
   ]
  },
  {
   "cell_type": "markdown",
   "id": "8705ca75-3951-4e08-8b31-92894a85138c",
   "metadata": {},
   "source": [
    "Kolizje układają się w zarys ulic. Ulica biegnąca w poprzek obszaru Midtown-Midtown South (północ-południe) to brodway. Poniżej Liczba kolizji w poszczególnych obszarach miasta Nowy York"
   ]
  },
  {
   "cell_type": "code",
   "execution_count": null,
   "id": "50cdbce7-69ab-46b3-ba2a-19302dd89dd6",
   "metadata": {},
   "outputs": [],
   "source": [
    "fig,ax = plt.subplots(1,1, figsize=(15,15))\n",
    "nbhoods.merge(nta_collisions,on=\"NTACode\").plot(column=\"Count\", legend=True, legend_kwds={\"label\": \"Całkowita liczba kolizji w NYC\", \"orientation\": \"horizontal\"}, ax=ax);"
   ]
  },
  {
   "cell_type": "markdown",
   "id": "39db61b2-b4c5-4538-b2e3-a7a86cd13937",
   "metadata": {},
   "source": [
    "## Analiza danych\n",
    "\n",
    "Zakres czasu danych zawartych w DataFrame ny_collision"
   ]
  },
  {
   "cell_type": "code",
   "execution_count": null,
   "id": "12ce534b-e7f3-4cba-8abe-c9e452fb1110",
   "metadata": {},
   "outputs": [],
   "source": [
    "# okres czasu\n",
    "ny_collisions[\"DATE_COLLISION\"].agg(['min','max'])"
   ]
  },
  {
   "cell_type": "markdown",
   "id": "10adddfc-ed83-4684-8ddd-9ffeecd96ec2",
   "metadata": {},
   "source": [
    "### Liczba kolizji w kwartałach roku\n",
    "\n",
    "Pod uwagę biorę zakres dat obejmujący pełne lata, czyli od roku 2013 do 2018 włącznie\n",
    "\n",
    "**częstość kolizji na kwartał sumarycznie w latach od 2013 do 2018 włącznie**"
   ]
  },
  {
   "cell_type": "code",
   "execution_count": null,
   "id": "7cc0648c-8819-4d0c-8ed1-d34bda7cee11",
   "metadata": {},
   "outputs": [],
   "source": [
    "# częstość kolizji w kwartałach roku\n",
    "ny_collisions.loc[:,\"QUARTER\"] = ny_collisions[\"DATE_COLLISION\"].dt.quarter\n",
    "collisions_per_quarter = ny_collisions.loc[(ny_collisions[\"ACCIDENT DATE\"] > '2012-12-31') & (ny_collisions[\"ACCIDENT DATE\"] < '2019-01-01')].groupby(\"QUARTER\")[\"COLLISION_ID\"].count()\n",
    "collisions_per_quarter.name = \"COUNT\"\n",
    "all_col = collisions_per_quarter.sum()\n",
    "display(f\"liczba kolizji w latach 2013 do 2018: {all_col}\")\n",
    "df = pd.DataFrame(collisions_per_quarter)\n",
    "df[\"PERCENT\"] = df[\"COUNT\"]*100/all_col\n",
    "df[\"DEVIATION\"] = df[\"PERCENT\"]-100.0/4\n",
    "display(df)"
   ]
  },
  {
   "cell_type": "markdown",
   "id": "7af9d9b0-1213-471d-88f1-99fd96014c50",
   "metadata": {},
   "source": [
    "Powyżej suma kolizji z lat 2013-2018 w odpowiadających sobie kwartałach roku.\n",
    "Suma liczby kolizji w poszczególnych kwartałach roku nie odbiega znacząco od 1/4 wszystkich kolizji (25% kolizji na kwartał).\\\n",
    "Kwartał II (kwiecień,maj,czerwiec) (koluman QUARTER) ma nieznacznie wyższą liczbę kolizji (kolumna COUNT) na kwartał, procentowo (kolumna PERCENT) odychelenie od 25% wszystkich kolizji wynosi ok. 2,72% (kolumna DEVIATION)"
   ]
  },
  {
   "cell_type": "code",
   "execution_count": null,
   "id": "bb5016d1-38da-4708-93b8-ba0a54285315",
   "metadata": {},
   "outputs": [],
   "source": [
    "# Histogram sumy liczb kolizji na kwartał\n",
    "fig,ax = plt.subplots(1,1,figsize=(5,5))\n",
    "ax.set_title(\"Częstość kolizji w kwartałach pełnych lat\")\n",
    "q = (\"kw.I\",\"kw.II\",\"kw.III\",\"kw.IV\")\n",
    "x=np.arange(len(q))\n",
    "ax.set_xticks(x+1.5,q)\n",
    "h = ny_collisions[\"QUARTER\"].loc[(ny_collisions[\"ACCIDENT DATE\"] > '2012-12-31') & (ny_collisions[\"ACCIDENT DATE\"] < '2019-01-01')].plot.hist(ylabel=\"Liczba kolizji\",xlabel=\"Kwartał\",bins=[1,2,3,4,5],edgecolor=\"white\",width=1);"
   ]
  },
  {
   "cell_type": "markdown",
   "id": "44c7e388-2a5b-4cd3-9f4d-5d75a1647de0",
   "metadata": {},
   "source": [
    "**Liczba kolizji na kwartał w poszcególnych pełnych latach (2013 - 2018)**"
   ]
  },
  {
   "cell_type": "code",
   "execution_count": null,
   "id": "c1ba06ce-0971-4832-9eff-94a75141a013",
   "metadata": {},
   "outputs": [],
   "source": [
    "# Kolizje w poszczególnych pełnych latach (2013 - 2018) w podziele na kwartały\n",
    "quarter_per_year = ny_collisions.loc[(ny_collisions[\"ACCIDENT DATE\"] > '2012-12-31') & (ny_collisions[\"ACCIDENT DATE\"] < '2019-01-01')].groupby([ny_collisions[\"ACCIDENT DATE\"].dt.year,\"QUARTER\"])[\"COLLISION_ID\"].count()\n",
    "quarter_per_year.name = \"COUNT_COLLISIONS\"\n",
    "df_quarter_per_year = quarter_per_year.unstack()\n",
    "df_quarter_per_year"
   ]
  },
  {
   "cell_type": "markdown",
   "id": "dd088d2e-369c-464b-b80e-248a8a52a75f",
   "metadata": {},
   "source": [
    "Kolizje w kwartałach poszczególnych lat (2013 - 2018) charakteryzują się duża zmiennoscią."
   ]
  },
  {
   "cell_type": "code",
   "execution_count": null,
   "id": "0182c343-45c4-4542-ae79-975370337a20",
   "metadata": {},
   "outputs": [],
   "source": [
    "# https://matplotlib.org/stable/gallery/lines_bars_and_markers/barchart.html#sphx-glr-gallery-lines-bars-and-markers-barchart-py\n",
    "quarter = [\"kw.I\", \"kw.II\", \"kw.III\", \"kw.IV\"]\n",
    "x = np.arange(len(quarter))\n",
    "width = 1/7\n",
    "multiplier = 0\n",
    "fig, ax = plt.subplots(layout='constrained', figsize=(15,8))\n",
    "for year in df_quarter_per_year.index:\n",
    "    offset = width * multiplier\n",
    "    rects = ax.bar(x + offset, df_quarter_per_year.loc[year], width, label=year)\n",
    "    ax.bar_label(rects, padding=6);\n",
    "    multiplier += 1\n",
    "ax.set_ylabel(\"Liczba kolizji\")\n",
    "ax.set_xlabel(\"Kwartały roku\")\n",
    "ax.set_title(\"Liczba kolizji na kwartał w poszczególnych latach (2013 - 2018)\")\n",
    "ax.set_xticks(x + 2.5*width, quarter)\n",
    "ax.legend(loc='upper left', ncols=3)\n",
    "ax.set_ylim(0, 65000);"
   ]
  },
  {
   "cell_type": "code",
   "execution_count": null,
   "id": "78628dc8-883c-41bb-b546-9bcae6d0c25c",
   "metadata": {},
   "outputs": [],
   "source": []
  }
 ],
 "metadata": {
  "kernelspec": {
   "display_name": "Python 3 (ipykernel)",
   "language": "python",
   "name": "python3"
  },
  "language_info": {
   "codemirror_mode": {
    "name": "ipython",
    "version": 3
   },
   "file_extension": ".py",
   "mimetype": "text/x-python",
   "name": "python",
   "nbconvert_exporter": "python",
   "pygments_lexer": "ipython3",
   "version": "3.9.2"
  }
 },
 "nbformat": 4,
 "nbformat_minor": 5
}
