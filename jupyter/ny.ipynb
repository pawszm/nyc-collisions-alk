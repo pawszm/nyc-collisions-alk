{
 "cells": [
  {
   "cell_type": "code",
   "execution_count": 24,
   "id": "b1f8e9c1-2136-4f9d-b79b-d26f0166edea",
   "metadata": {},
   "outputs": [],
   "source": [
    "import pandas as pd\n",
    "from  tqdm.notebook import tqdm"
   ]
  },
  {
   "cell_type": "markdown",
   "id": "11c85885-16c6-44d3-aa64-4e33a2550449",
   "metadata": {},
   "source": [
    "# Eksploracja danych nypd-motor-vehicle-collisions.csv\n",
    "\n",
    "## Wczytanie danch\n",
    "Wczytanie danych o wypadkach i kolizjach w mieście Nowy Jork z pliku csv.\n",
    "Plik posiada nagłówek z nazwami kolumn a jako separatora użyto znaku ','"
   ]
  },
  {
   "cell_type": "code",
   "execution_count": 3,
   "id": "5b9f9e61-3899-499a-a8c2-dcb606aedda0",
   "metadata": {},
   "outputs": [
    {
     "name": "stderr",
     "output_type": "stream",
     "text": [
      "/tmp/ipykernel_1803/3714160385.py:2: DtypeWarning: Columns (3) have mixed types. Specify dtype option on import or set low_memory=False.\n",
      "  ny_collisions = pd.read_csv(\"data/nypd-motor-vehicle-collisions.csv\")\n"
     ]
    }
   ],
   "source": [
    "# Wczytuję dana z pliku csv\n",
    "ny_collisions = pd.read_csv(\"data/nypd-motor-vehicle-collisions.csv\")"
   ]
  },
  {
   "cell_type": "code",
   "execution_count": 4,
   "id": "bd93715b-f69f-42e1-931e-2c1ecf6da28b",
   "metadata": {},
   "outputs": [
    {
     "data": {
      "text/html": [
       "<div>\n",
       "<style scoped>\n",
       "    .dataframe tbody tr th:only-of-type {\n",
       "        vertical-align: middle;\n",
       "    }\n",
       "\n",
       "    .dataframe tbody tr th {\n",
       "        vertical-align: top;\n",
       "    }\n",
       "\n",
       "    .dataframe thead th {\n",
       "        text-align: right;\n",
       "    }\n",
       "</style>\n",
       "<table border=\"1\" class=\"dataframe\">\n",
       "  <thead>\n",
       "    <tr style=\"text-align: right;\">\n",
       "      <th></th>\n",
       "      <th>ACCIDENT DATE</th>\n",
       "      <th>ACCIDENT TIME</th>\n",
       "      <th>BOROUGH</th>\n",
       "      <th>ZIP CODE</th>\n",
       "      <th>LATITUDE</th>\n",
       "      <th>LONGITUDE</th>\n",
       "      <th>LOCATION</th>\n",
       "      <th>ON STREET NAME</th>\n",
       "      <th>CROSS STREET NAME</th>\n",
       "      <th>OFF STREET NAME</th>\n",
       "      <th>...</th>\n",
       "      <th>CONTRIBUTING FACTOR VEHICLE 2</th>\n",
       "      <th>CONTRIBUTING FACTOR VEHICLE 3</th>\n",
       "      <th>CONTRIBUTING FACTOR VEHICLE 4</th>\n",
       "      <th>CONTRIBUTING FACTOR VEHICLE 5</th>\n",
       "      <th>COLLISION_ID</th>\n",
       "      <th>VEHICLE TYPE CODE 1</th>\n",
       "      <th>VEHICLE TYPE CODE 2</th>\n",
       "      <th>VEHICLE TYPE CODE 3</th>\n",
       "      <th>VEHICLE TYPE CODE 4</th>\n",
       "      <th>VEHICLE TYPE CODE 5</th>\n",
       "    </tr>\n",
       "  </thead>\n",
       "  <tbody>\n",
       "    <tr>\n",
       "      <th>0</th>\n",
       "      <td>2019-08-05T00:00:00.000</td>\n",
       "      <td>16:30</td>\n",
       "      <td>QUEENS</td>\n",
       "      <td>11434.0</td>\n",
       "      <td>40.676052</td>\n",
       "      <td>-73.790184</td>\n",
       "      <td>{'type': 'Point', 'coordinates': [-73.790184, ...</td>\n",
       "      <td>NaN</td>\n",
       "      <td>NaN</td>\n",
       "      <td>150-08    123 AVENUE</td>\n",
       "      <td>...</td>\n",
       "      <td>Unspecified</td>\n",
       "      <td>NaN</td>\n",
       "      <td>NaN</td>\n",
       "      <td>NaN</td>\n",
       "      <td>4184637</td>\n",
       "      <td>Sedan</td>\n",
       "      <td>Pick-up Truck</td>\n",
       "      <td>NaN</td>\n",
       "      <td>NaN</td>\n",
       "      <td>NaN</td>\n",
       "    </tr>\n",
       "    <tr>\n",
       "      <th>1</th>\n",
       "      <td>2019-08-27T00:00:00.000</td>\n",
       "      <td>16:02</td>\n",
       "      <td>BROOKLYN</td>\n",
       "      <td>11225.0</td>\n",
       "      <td>40.657780</td>\n",
       "      <td>-73.951096</td>\n",
       "      <td>{'type': 'Point', 'coordinates': [-73.951096, ...</td>\n",
       "      <td>NaN</td>\n",
       "      <td>NaN</td>\n",
       "      <td>288       HAWTHORNE STREET</td>\n",
       "      <td>...</td>\n",
       "      <td>Unspecified</td>\n",
       "      <td>NaN</td>\n",
       "      <td>NaN</td>\n",
       "      <td>NaN</td>\n",
       "      <td>4195773</td>\n",
       "      <td>Station Wagon/Sport Utility Vehicle</td>\n",
       "      <td>Station Wagon/Sport Utility Vehicle</td>\n",
       "      <td>NaN</td>\n",
       "      <td>NaN</td>\n",
       "      <td>NaN</td>\n",
       "    </tr>\n",
       "    <tr>\n",
       "      <th>2</th>\n",
       "      <td>2019-08-15T00:00:00.000</td>\n",
       "      <td>17:57</td>\n",
       "      <td>MANHATTAN</td>\n",
       "      <td>10002.0</td>\n",
       "      <td>40.718143</td>\n",
       "      <td>-73.993835</td>\n",
       "      <td>{'type': 'Point', 'coordinates': [-73.993835, ...</td>\n",
       "      <td>CHRYSTIE STREET</td>\n",
       "      <td>GRAND STREET</td>\n",
       "      <td>NaN</td>\n",
       "      <td>...</td>\n",
       "      <td>NaN</td>\n",
       "      <td>NaN</td>\n",
       "      <td>NaN</td>\n",
       "      <td>NaN</td>\n",
       "      <td>4202457</td>\n",
       "      <td>Sedan</td>\n",
       "      <td>NaN</td>\n",
       "      <td>NaN</td>\n",
       "      <td>NaN</td>\n",
       "      <td>NaN</td>\n",
       "    </tr>\n",
       "  </tbody>\n",
       "</table>\n",
       "<p>3 rows × 29 columns</p>\n",
       "</div>"
      ],
      "text/plain": [
       "             ACCIDENT DATE ACCIDENT TIME    BOROUGH ZIP CODE   LATITUDE  \\\n",
       "0  2019-08-05T00:00:00.000         16:30     QUEENS  11434.0  40.676052   \n",
       "1  2019-08-27T00:00:00.000         16:02   BROOKLYN  11225.0  40.657780   \n",
       "2  2019-08-15T00:00:00.000         17:57  MANHATTAN  10002.0  40.718143   \n",
       "\n",
       "   LONGITUDE                                           LOCATION  \\\n",
       "0 -73.790184  {'type': 'Point', 'coordinates': [-73.790184, ...   \n",
       "1 -73.951096  {'type': 'Point', 'coordinates': [-73.951096, ...   \n",
       "2 -73.993835  {'type': 'Point', 'coordinates': [-73.993835, ...   \n",
       "\n",
       "                     ON STREET NAME CROSS STREET NAME  \\\n",
       "0                               NaN               NaN   \n",
       "1                               NaN               NaN   \n",
       "2  CHRYSTIE STREET                       GRAND STREET   \n",
       "\n",
       "                            OFF STREET NAME  ...  \\\n",
       "0  150-08    123 AVENUE                      ...   \n",
       "1  288       HAWTHORNE STREET                ...   \n",
       "2                                       NaN  ...   \n",
       "\n",
       "   CONTRIBUTING FACTOR VEHICLE 2  CONTRIBUTING FACTOR VEHICLE 3  \\\n",
       "0                    Unspecified                            NaN   \n",
       "1                    Unspecified                            NaN   \n",
       "2                            NaN                            NaN   \n",
       "\n",
       "   CONTRIBUTING FACTOR VEHICLE 4  CONTRIBUTING FACTOR VEHICLE 5  COLLISION_ID  \\\n",
       "0                            NaN                            NaN       4184637   \n",
       "1                            NaN                            NaN       4195773   \n",
       "2                            NaN                            NaN       4202457   \n",
       "\n",
       "                   VEHICLE TYPE CODE 1                  VEHICLE TYPE CODE 2  \\\n",
       "0                                Sedan                        Pick-up Truck   \n",
       "1  Station Wagon/Sport Utility Vehicle  Station Wagon/Sport Utility Vehicle   \n",
       "2                                Sedan                                  NaN   \n",
       "\n",
       "   VEHICLE TYPE CODE 3 VEHICLE TYPE CODE 4 VEHICLE TYPE CODE 5  \n",
       "0                  NaN                 NaN                 NaN  \n",
       "1                  NaN                 NaN                 NaN  \n",
       "2                  NaN                 NaN                 NaN  \n",
       "\n",
       "[3 rows x 29 columns]"
      ]
     },
     "execution_count": 4,
     "metadata": {},
     "output_type": "execute_result"
    }
   ],
   "source": [
    "ny_collisions.head(3)"
   ]
  },
  {
   "cell_type": "code",
   "execution_count": 5,
   "id": "c2c5470f-ef4c-4cf8-9571-317ad87d15be",
   "metadata": {},
   "outputs": [
    {
     "data": {
      "text/plain": [
       "0          11434.0\n",
       "1          11225.0\n",
       "2          10002.0\n",
       "3          10460.0\n",
       "4          10016.0\n",
       "            ...   \n",
       "1612173    11226.0\n",
       "1612174        NaN\n",
       "1612175        NaN\n",
       "1612176    10024.0\n",
       "1612177    11361.0\n",
       "Name: ZIP CODE, Length: 1612178, dtype: object"
      ]
     },
     "execution_count": 5,
     "metadata": {},
     "output_type": "execute_result"
    }
   ],
   "source": [
    "# Z powodu komunikatu Columns (3) have mixed types. Specify dtype option on import or set low_memory=False.\n",
    "# przyglądam się kolumnie (3) \"ZIP CODE\"\n",
    "ny_collisions[\"ZIP CODE\"]"
   ]
  },
  {
   "cell_type": "markdown",
   "id": "ca105f94-28e8-4d3f-b295-658741242b44",
   "metadata": {},
   "source": [
    "Pandas potraktował wartości kolumny ZIP CODE jako liczby. Bezpośrednio w pliku CSV jest to głównie 5 cyfr, ponadto kolumna posiada wartości puste lub wypełnione białymi znakami.\n",
    "Traktuję kolumnę **ZIP CODE** jako ciąg znaków (typ str) a kolumnę **ACCIDENT DATE** jako dane typu datetime i wczytuję dane ponownie."
   ]
  },
  {
   "cell_type": "code",
   "execution_count": 6,
   "id": "4915bd3e-5dda-4036-a764-4b695f7cdadb",
   "metadata": {},
   "outputs": [
    {
     "data": {
      "text/html": [
       "<div>\n",
       "<style scoped>\n",
       "    .dataframe tbody tr th:only-of-type {\n",
       "        vertical-align: middle;\n",
       "    }\n",
       "\n",
       "    .dataframe tbody tr th {\n",
       "        vertical-align: top;\n",
       "    }\n",
       "\n",
       "    .dataframe thead th {\n",
       "        text-align: right;\n",
       "    }\n",
       "</style>\n",
       "<table border=\"1\" class=\"dataframe\">\n",
       "  <thead>\n",
       "    <tr style=\"text-align: right;\">\n",
       "      <th></th>\n",
       "      <th>ACCIDENT DATE</th>\n",
       "      <th>ACCIDENT TIME</th>\n",
       "      <th>BOROUGH</th>\n",
       "      <th>ZIP CODE</th>\n",
       "      <th>LATITUDE</th>\n",
       "      <th>LONGITUDE</th>\n",
       "      <th>LOCATION</th>\n",
       "      <th>ON STREET NAME</th>\n",
       "      <th>CROSS STREET NAME</th>\n",
       "      <th>OFF STREET NAME</th>\n",
       "      <th>...</th>\n",
       "      <th>CONTRIBUTING FACTOR VEHICLE 2</th>\n",
       "      <th>CONTRIBUTING FACTOR VEHICLE 3</th>\n",
       "      <th>CONTRIBUTING FACTOR VEHICLE 4</th>\n",
       "      <th>CONTRIBUTING FACTOR VEHICLE 5</th>\n",
       "      <th>COLLISION_ID</th>\n",
       "      <th>VEHICLE TYPE CODE 1</th>\n",
       "      <th>VEHICLE TYPE CODE 2</th>\n",
       "      <th>VEHICLE TYPE CODE 3</th>\n",
       "      <th>VEHICLE TYPE CODE 4</th>\n",
       "      <th>VEHICLE TYPE CODE 5</th>\n",
       "    </tr>\n",
       "  </thead>\n",
       "  <tbody>\n",
       "    <tr>\n",
       "      <th>0</th>\n",
       "      <td>2019-08-05</td>\n",
       "      <td>16:30</td>\n",
       "      <td>QUEENS</td>\n",
       "      <td>11434</td>\n",
       "      <td>40.676052</td>\n",
       "      <td>-73.790184</td>\n",
       "      <td>{'type': 'Point', 'coordinates': [-73.790184, ...</td>\n",
       "      <td>NaN</td>\n",
       "      <td>NaN</td>\n",
       "      <td>150-08    123 AVENUE</td>\n",
       "      <td>...</td>\n",
       "      <td>Unspecified</td>\n",
       "      <td>NaN</td>\n",
       "      <td>NaN</td>\n",
       "      <td>NaN</td>\n",
       "      <td>4184637</td>\n",
       "      <td>Sedan</td>\n",
       "      <td>Pick-up Truck</td>\n",
       "      <td>NaN</td>\n",
       "      <td>NaN</td>\n",
       "      <td>NaN</td>\n",
       "    </tr>\n",
       "    <tr>\n",
       "      <th>1</th>\n",
       "      <td>2019-08-27</td>\n",
       "      <td>16:02</td>\n",
       "      <td>BROOKLYN</td>\n",
       "      <td>11225</td>\n",
       "      <td>40.657780</td>\n",
       "      <td>-73.951096</td>\n",
       "      <td>{'type': 'Point', 'coordinates': [-73.951096, ...</td>\n",
       "      <td>NaN</td>\n",
       "      <td>NaN</td>\n",
       "      <td>288       HAWTHORNE STREET</td>\n",
       "      <td>...</td>\n",
       "      <td>Unspecified</td>\n",
       "      <td>NaN</td>\n",
       "      <td>NaN</td>\n",
       "      <td>NaN</td>\n",
       "      <td>4195773</td>\n",
       "      <td>Station Wagon/Sport Utility Vehicle</td>\n",
       "      <td>Station Wagon/Sport Utility Vehicle</td>\n",
       "      <td>NaN</td>\n",
       "      <td>NaN</td>\n",
       "      <td>NaN</td>\n",
       "    </tr>\n",
       "    <tr>\n",
       "      <th>2</th>\n",
       "      <td>2019-08-15</td>\n",
       "      <td>17:57</td>\n",
       "      <td>MANHATTAN</td>\n",
       "      <td>10002</td>\n",
       "      <td>40.718143</td>\n",
       "      <td>-73.993835</td>\n",
       "      <td>{'type': 'Point', 'coordinates': [-73.993835, ...</td>\n",
       "      <td>CHRYSTIE STREET</td>\n",
       "      <td>GRAND STREET</td>\n",
       "      <td>NaN</td>\n",
       "      <td>...</td>\n",
       "      <td>NaN</td>\n",
       "      <td>NaN</td>\n",
       "      <td>NaN</td>\n",
       "      <td>NaN</td>\n",
       "      <td>4202457</td>\n",
       "      <td>Sedan</td>\n",
       "      <td>NaN</td>\n",
       "      <td>NaN</td>\n",
       "      <td>NaN</td>\n",
       "      <td>NaN</td>\n",
       "    </tr>\n",
       "  </tbody>\n",
       "</table>\n",
       "<p>3 rows × 29 columns</p>\n",
       "</div>"
      ],
      "text/plain": [
       "  ACCIDENT DATE ACCIDENT TIME    BOROUGH ZIP CODE   LATITUDE  LONGITUDE  \\\n",
       "0    2019-08-05         16:30     QUEENS    11434  40.676052 -73.790184   \n",
       "1    2019-08-27         16:02   BROOKLYN    11225  40.657780 -73.951096   \n",
       "2    2019-08-15         17:57  MANHATTAN    10002  40.718143 -73.993835   \n",
       "\n",
       "                                            LOCATION  \\\n",
       "0  {'type': 'Point', 'coordinates': [-73.790184, ...   \n",
       "1  {'type': 'Point', 'coordinates': [-73.951096, ...   \n",
       "2  {'type': 'Point', 'coordinates': [-73.993835, ...   \n",
       "\n",
       "                     ON STREET NAME CROSS STREET NAME  \\\n",
       "0                               NaN               NaN   \n",
       "1                               NaN               NaN   \n",
       "2  CHRYSTIE STREET                       GRAND STREET   \n",
       "\n",
       "                            OFF STREET NAME  ...  \\\n",
       "0  150-08    123 AVENUE                      ...   \n",
       "1  288       HAWTHORNE STREET                ...   \n",
       "2                                       NaN  ...   \n",
       "\n",
       "   CONTRIBUTING FACTOR VEHICLE 2  CONTRIBUTING FACTOR VEHICLE 3  \\\n",
       "0                    Unspecified                            NaN   \n",
       "1                    Unspecified                            NaN   \n",
       "2                            NaN                            NaN   \n",
       "\n",
       "   CONTRIBUTING FACTOR VEHICLE 4  CONTRIBUTING FACTOR VEHICLE 5  COLLISION_ID  \\\n",
       "0                            NaN                            NaN       4184637   \n",
       "1                            NaN                            NaN       4195773   \n",
       "2                            NaN                            NaN       4202457   \n",
       "\n",
       "                   VEHICLE TYPE CODE 1                  VEHICLE TYPE CODE 2  \\\n",
       "0                                Sedan                        Pick-up Truck   \n",
       "1  Station Wagon/Sport Utility Vehicle  Station Wagon/Sport Utility Vehicle   \n",
       "2                                Sedan                                  NaN   \n",
       "\n",
       "   VEHICLE TYPE CODE 3 VEHICLE TYPE CODE 4 VEHICLE TYPE CODE 5  \n",
       "0                  NaN                 NaN                 NaN  \n",
       "1                  NaN                 NaN                 NaN  \n",
       "2                  NaN                 NaN                 NaN  \n",
       "\n",
       "[3 rows x 29 columns]"
      ]
     },
     "execution_count": 6,
     "metadata": {},
     "output_type": "execute_result"
    }
   ],
   "source": [
    "# kolumna ZIP CODE jako str, a ACCIDENT DATE jako datetime\n",
    "ny_collisions = pd.read_csv(\"data/nypd-motor-vehicle-collisions.csv\",dtype={\"ZIP CODE\":'str'}, parse_dates=[\"ACCIDENT DATE\"])\n",
    "ny_collisions.head(3)"
   ]
  },
  {
   "cell_type": "markdown",
   "id": "ranking-hindu",
   "metadata": {},
   "source": [
    "## Podstawowe informacje o wczytanym DataFrame\n",
    "Wczytany DataFrame ny_collisions posiada 1 612 178 wierszy w 29 kolumnach.\n",
    "\n",
    "Dane o kolumnach DataFrame ny_collisions:\n",
    "* **ACCIDENT DATE**: Data wypadku, podczas wczytywania kolumna przekształcona na typ danych 'datetime64[ns]'\n",
    "* **ZIP CODE**: Kod pocztowy, typ danych ciąg znaków 'str'"
   ]
  },
  {
   "cell_type": "code",
   "execution_count": 7,
   "id": "conscious-sixth",
   "metadata": {},
   "outputs": [
    {
     "data": {
      "text/plain": [
       "(1612178, 29)"
      ]
     },
     "execution_count": 7,
     "metadata": {},
     "output_type": "execute_result"
    }
   ],
   "source": [
    "# Podstawowe informacje o DataFrame ny_colision\n",
    "# 1612178 wierszy i 29 kolumn\n",
    "ny_collisions.shape"
   ]
  },
  {
   "cell_type": "code",
   "execution_count": 8,
   "id": "19bd0def-1b42-4c59-b29d-dc8a560ab36a",
   "metadata": {},
   "outputs": [
    {
     "data": {
      "text/plain": [
       "<bound method NDFrame.describe of         ACCIDENT DATE ACCIDENT TIME    BOROUGH ZIP CODE   LATITUDE  LONGITUDE  \\\n",
       "0          2019-08-05         16:30     QUEENS    11434  40.676052 -73.790184   \n",
       "1          2019-08-27         16:02   BROOKLYN    11225  40.657780 -73.951096   \n",
       "2          2019-08-15         17:57  MANHATTAN    10002  40.718143 -73.993835   \n",
       "3          2019-08-30         21:53      BRONX    10460  40.840534 -73.866610   \n",
       "4          2019-08-06          9:45  MANHATTAN    10016  40.745440 -73.975400   \n",
       "...               ...           ...        ...      ...        ...        ...   \n",
       "1612173    2012-07-21         22:46   BROOKLYN    11226  40.651741 -73.965241   \n",
       "1612174    2012-07-09         16:45        NaN      NaN        NaN        NaN   \n",
       "1612175    2012-07-09         14:35        NaN      NaN  40.791492 -73.935763   \n",
       "1612176    2012-07-18          9:20  MANHATTAN    10024  40.779479 -73.973573   \n",
       "1612177    2012-07-12          3:10     QUEENS    11361  40.762501 -73.782522   \n",
       "\n",
       "                                                  LOCATION  \\\n",
       "0        {'type': 'Point', 'coordinates': [-73.790184, ...   \n",
       "1        {'type': 'Point', 'coordinates': [-73.951096, ...   \n",
       "2        {'type': 'Point', 'coordinates': [-73.993835, ...   \n",
       "3        {'type': 'Point', 'coordinates': [-73.86661, 4...   \n",
       "4        {'type': 'Point', 'coordinates': [-73.9754, 40...   \n",
       "...                                                    ...   \n",
       "1612173  {'type': 'Point', 'coordinates': [-73.9652409,...   \n",
       "1612174                                                NaN   \n",
       "1612175  {'type': 'Point', 'coordinates': [-73.935763, ...   \n",
       "1612176  {'type': 'Point', 'coordinates': [-73.9735729,...   \n",
       "1612177  {'type': 'Point', 'coordinates': [-73.7825216,...   \n",
       "\n",
       "                           ON STREET NAME                 CROSS STREET NAME  \\\n",
       "0                                     NaN                               NaN   \n",
       "1                                     NaN                               NaN   \n",
       "2        CHRYSTIE STREET                                       GRAND STREET   \n",
       "3                                     NaN                               NaN   \n",
       "4        EAST 35 STREET                                            2 AVENUE   \n",
       "...                                   ...                               ...   \n",
       "1612173  PARADE PLACE                      CROOKE AVENUE                      \n",
       "1612174  EDWARD L GRANT HIGHWAY            WEST 169 STREET                    \n",
       "1612175                               NaN                               NaN   \n",
       "1612176  CENTRAL PARK WEST                 WEST 77 STREET                     \n",
       "1612177  39 AVENUE                         203 STREET                         \n",
       "\n",
       "                                  OFF STREET NAME  ...  \\\n",
       "0        150-08    123 AVENUE                      ...   \n",
       "1        288       HAWTHORNE STREET                ...   \n",
       "2                                             NaN  ...   \n",
       "3        1837      EAST TREMONT AVENUE             ...   \n",
       "4                                             NaN  ...   \n",
       "...                                           ...  ...   \n",
       "1612173                                       NaN  ...   \n",
       "1612174                                       NaN  ...   \n",
       "1612175                                       NaN  ...   \n",
       "1612176                                       NaN  ...   \n",
       "1612177                                       NaN  ...   \n",
       "\n",
       "          CONTRIBUTING FACTOR VEHICLE 2  CONTRIBUTING FACTOR VEHICLE 3  \\\n",
       "0                           Unspecified                            NaN   \n",
       "1                           Unspecified                            NaN   \n",
       "2                                   NaN                            NaN   \n",
       "3                           Unspecified                            NaN   \n",
       "4        Driver Inattention/Distraction                            NaN   \n",
       "...                                 ...                            ...   \n",
       "1612173                     Unspecified                            NaN   \n",
       "1612174                 Fatigued/Drowsy                    Unspecified   \n",
       "1612175                     Unspecified                            NaN   \n",
       "1612176                     Unspecified                    Unspecified   \n",
       "1612177                             NaN                            NaN   \n",
       "\n",
       "         CONTRIBUTING FACTOR VEHICLE 4  CONTRIBUTING FACTOR VEHICLE 5  \\\n",
       "0                                  NaN                            NaN   \n",
       "1                                  NaN                            NaN   \n",
       "2                                  NaN                            NaN   \n",
       "3                                  NaN                            NaN   \n",
       "4                                  NaN                            NaN   \n",
       "...                                ...                            ...   \n",
       "1612173                            NaN                            NaN   \n",
       "1612174                            NaN                            NaN   \n",
       "1612175                            NaN                            NaN   \n",
       "1612176                            NaN                            NaN   \n",
       "1612177                            NaN                            NaN   \n",
       "\n",
       "         COLLISION_ID                  VEHICLE TYPE CODE 1  \\\n",
       "0             4184637                                Sedan   \n",
       "1             4195773  Station Wagon/Sport Utility Vehicle   \n",
       "2             4202457                                Sedan   \n",
       "3             4198749                                 Taxi   \n",
       "4             4183798  Station Wagon/Sport Utility Vehicle   \n",
       "...               ...                                  ...   \n",
       "1612173        147595        SPORT UTILITY / STATION WAGON   \n",
       "1612174         85220                    PASSENGER VEHICLE   \n",
       "1612175       2853431                    PASSENGER VEHICLE   \n",
       "1612176         52405        SPORT UTILITY / STATION WAGON   \n",
       "1612177        259445                    PASSENGER VEHICLE   \n",
       "\n",
       "                         VEHICLE TYPE CODE 2  VEHICLE TYPE CODE 3  \\\n",
       "0                              Pick-up Truck                  NaN   \n",
       "1        Station Wagon/Sport Utility Vehicle                  NaN   \n",
       "2                                        NaN                  NaN   \n",
       "3        Station Wagon/Sport Utility Vehicle                  NaN   \n",
       "4                                       Bike                  NaN   \n",
       "...                                      ...                  ...   \n",
       "1612173                              UNKNOWN                  NaN   \n",
       "1612174                       LIVERY VEHICLE    PASSENGER VEHICLE   \n",
       "1612175                    PASSENGER VEHICLE                  NaN   \n",
       "1612176                                  VAN                  BUS   \n",
       "1612177                                  NaN                  NaN   \n",
       "\n",
       "        VEHICLE TYPE CODE 4 VEHICLE TYPE CODE 5  \n",
       "0                       NaN                 NaN  \n",
       "1                       NaN                 NaN  \n",
       "2                       NaN                 NaN  \n",
       "3                       NaN                 NaN  \n",
       "4                       NaN                 NaN  \n",
       "...                     ...                 ...  \n",
       "1612173                 NaN                 NaN  \n",
       "1612174                 NaN                 NaN  \n",
       "1612175                 NaN                 NaN  \n",
       "1612176                 NaN                 NaN  \n",
       "1612177                 NaN                 NaN  \n",
       "\n",
       "[1612178 rows x 29 columns]>"
      ]
     },
     "execution_count": 8,
     "metadata": {},
     "output_type": "execute_result"
    }
   ],
   "source": [
    "ny_collisions.describe"
   ]
  },
  {
   "cell_type": "code",
   "execution_count": 9,
   "id": "c59d473a-63f7-4e74-b6f8-65ceb2f5c606",
   "metadata": {},
   "outputs": [
    {
     "data": {
      "text/plain": [
       "<bound method DataFrame.info of         ACCIDENT DATE ACCIDENT TIME    BOROUGH ZIP CODE   LATITUDE  LONGITUDE  \\\n",
       "0          2019-08-05         16:30     QUEENS    11434  40.676052 -73.790184   \n",
       "1          2019-08-27         16:02   BROOKLYN    11225  40.657780 -73.951096   \n",
       "2          2019-08-15         17:57  MANHATTAN    10002  40.718143 -73.993835   \n",
       "3          2019-08-30         21:53      BRONX    10460  40.840534 -73.866610   \n",
       "4          2019-08-06          9:45  MANHATTAN    10016  40.745440 -73.975400   \n",
       "...               ...           ...        ...      ...        ...        ...   \n",
       "1612173    2012-07-21         22:46   BROOKLYN    11226  40.651741 -73.965241   \n",
       "1612174    2012-07-09         16:45        NaN      NaN        NaN        NaN   \n",
       "1612175    2012-07-09         14:35        NaN      NaN  40.791492 -73.935763   \n",
       "1612176    2012-07-18          9:20  MANHATTAN    10024  40.779479 -73.973573   \n",
       "1612177    2012-07-12          3:10     QUEENS    11361  40.762501 -73.782522   \n",
       "\n",
       "                                                  LOCATION  \\\n",
       "0        {'type': 'Point', 'coordinates': [-73.790184, ...   \n",
       "1        {'type': 'Point', 'coordinates': [-73.951096, ...   \n",
       "2        {'type': 'Point', 'coordinates': [-73.993835, ...   \n",
       "3        {'type': 'Point', 'coordinates': [-73.86661, 4...   \n",
       "4        {'type': 'Point', 'coordinates': [-73.9754, 40...   \n",
       "...                                                    ...   \n",
       "1612173  {'type': 'Point', 'coordinates': [-73.9652409,...   \n",
       "1612174                                                NaN   \n",
       "1612175  {'type': 'Point', 'coordinates': [-73.935763, ...   \n",
       "1612176  {'type': 'Point', 'coordinates': [-73.9735729,...   \n",
       "1612177  {'type': 'Point', 'coordinates': [-73.7825216,...   \n",
       "\n",
       "                           ON STREET NAME                 CROSS STREET NAME  \\\n",
       "0                                     NaN                               NaN   \n",
       "1                                     NaN                               NaN   \n",
       "2        CHRYSTIE STREET                                       GRAND STREET   \n",
       "3                                     NaN                               NaN   \n",
       "4        EAST 35 STREET                                            2 AVENUE   \n",
       "...                                   ...                               ...   \n",
       "1612173  PARADE PLACE                      CROOKE AVENUE                      \n",
       "1612174  EDWARD L GRANT HIGHWAY            WEST 169 STREET                    \n",
       "1612175                               NaN                               NaN   \n",
       "1612176  CENTRAL PARK WEST                 WEST 77 STREET                     \n",
       "1612177  39 AVENUE                         203 STREET                         \n",
       "\n",
       "                                  OFF STREET NAME  ...  \\\n",
       "0        150-08    123 AVENUE                      ...   \n",
       "1        288       HAWTHORNE STREET                ...   \n",
       "2                                             NaN  ...   \n",
       "3        1837      EAST TREMONT AVENUE             ...   \n",
       "4                                             NaN  ...   \n",
       "...                                           ...  ...   \n",
       "1612173                                       NaN  ...   \n",
       "1612174                                       NaN  ...   \n",
       "1612175                                       NaN  ...   \n",
       "1612176                                       NaN  ...   \n",
       "1612177                                       NaN  ...   \n",
       "\n",
       "          CONTRIBUTING FACTOR VEHICLE 2  CONTRIBUTING FACTOR VEHICLE 3  \\\n",
       "0                           Unspecified                            NaN   \n",
       "1                           Unspecified                            NaN   \n",
       "2                                   NaN                            NaN   \n",
       "3                           Unspecified                            NaN   \n",
       "4        Driver Inattention/Distraction                            NaN   \n",
       "...                                 ...                            ...   \n",
       "1612173                     Unspecified                            NaN   \n",
       "1612174                 Fatigued/Drowsy                    Unspecified   \n",
       "1612175                     Unspecified                            NaN   \n",
       "1612176                     Unspecified                    Unspecified   \n",
       "1612177                             NaN                            NaN   \n",
       "\n",
       "         CONTRIBUTING FACTOR VEHICLE 4  CONTRIBUTING FACTOR VEHICLE 5  \\\n",
       "0                                  NaN                            NaN   \n",
       "1                                  NaN                            NaN   \n",
       "2                                  NaN                            NaN   \n",
       "3                                  NaN                            NaN   \n",
       "4                                  NaN                            NaN   \n",
       "...                                ...                            ...   \n",
       "1612173                            NaN                            NaN   \n",
       "1612174                            NaN                            NaN   \n",
       "1612175                            NaN                            NaN   \n",
       "1612176                            NaN                            NaN   \n",
       "1612177                            NaN                            NaN   \n",
       "\n",
       "         COLLISION_ID                  VEHICLE TYPE CODE 1  \\\n",
       "0             4184637                                Sedan   \n",
       "1             4195773  Station Wagon/Sport Utility Vehicle   \n",
       "2             4202457                                Sedan   \n",
       "3             4198749                                 Taxi   \n",
       "4             4183798  Station Wagon/Sport Utility Vehicle   \n",
       "...               ...                                  ...   \n",
       "1612173        147595        SPORT UTILITY / STATION WAGON   \n",
       "1612174         85220                    PASSENGER VEHICLE   \n",
       "1612175       2853431                    PASSENGER VEHICLE   \n",
       "1612176         52405        SPORT UTILITY / STATION WAGON   \n",
       "1612177        259445                    PASSENGER VEHICLE   \n",
       "\n",
       "                         VEHICLE TYPE CODE 2  VEHICLE TYPE CODE 3  \\\n",
       "0                              Pick-up Truck                  NaN   \n",
       "1        Station Wagon/Sport Utility Vehicle                  NaN   \n",
       "2                                        NaN                  NaN   \n",
       "3        Station Wagon/Sport Utility Vehicle                  NaN   \n",
       "4                                       Bike                  NaN   \n",
       "...                                      ...                  ...   \n",
       "1612173                              UNKNOWN                  NaN   \n",
       "1612174                       LIVERY VEHICLE    PASSENGER VEHICLE   \n",
       "1612175                    PASSENGER VEHICLE                  NaN   \n",
       "1612176                                  VAN                  BUS   \n",
       "1612177                                  NaN                  NaN   \n",
       "\n",
       "        VEHICLE TYPE CODE 4 VEHICLE TYPE CODE 5  \n",
       "0                       NaN                 NaN  \n",
       "1                       NaN                 NaN  \n",
       "2                       NaN                 NaN  \n",
       "3                       NaN                 NaN  \n",
       "4                       NaN                 NaN  \n",
       "...                     ...                 ...  \n",
       "1612173                 NaN                 NaN  \n",
       "1612174                 NaN                 NaN  \n",
       "1612175                 NaN                 NaN  \n",
       "1612176                 NaN                 NaN  \n",
       "1612177                 NaN                 NaN  \n",
       "\n",
       "[1612178 rows x 29 columns]>"
      ]
     },
     "execution_count": 9,
     "metadata": {},
     "output_type": "execute_result"
    }
   ],
   "source": [
    "ny_collisions.info"
   ]
  },
  {
   "cell_type": "code",
   "execution_count": 10,
   "id": "367a4e3a-ba8a-4bdc-b8f7-0085dec95dd3",
   "metadata": {},
   "outputs": [
    {
     "data": {
      "text/plain": [
       "Index(['ACCIDENT DATE', 'ACCIDENT TIME', 'BOROUGH', 'ZIP CODE', 'LATITUDE',\n",
       "       'LONGITUDE', 'LOCATION', 'ON STREET NAME', 'CROSS STREET NAME',\n",
       "       'OFF STREET NAME', 'NUMBER OF PERSONS INJURED',\n",
       "       'NUMBER OF PERSONS KILLED', 'NUMBER OF PEDESTRIANS INJURED',\n",
       "       'NUMBER OF PEDESTRIANS KILLED', 'NUMBER OF CYCLIST INJURED',\n",
       "       'NUMBER OF CYCLIST KILLED', 'NUMBER OF MOTORIST INJURED',\n",
       "       'NUMBER OF MOTORIST KILLED', 'CONTRIBUTING FACTOR VEHICLE 1',\n",
       "       'CONTRIBUTING FACTOR VEHICLE 2', 'CONTRIBUTING FACTOR VEHICLE 3',\n",
       "       'CONTRIBUTING FACTOR VEHICLE 4', 'CONTRIBUTING FACTOR VEHICLE 5',\n",
       "       'COLLISION_ID', 'VEHICLE TYPE CODE 1', 'VEHICLE TYPE CODE 2',\n",
       "       'VEHICLE TYPE CODE 3', 'VEHICLE TYPE CODE 4', 'VEHICLE TYPE CODE 5'],\n",
       "      dtype='object')"
      ]
     },
     "execution_count": 10,
     "metadata": {},
     "output_type": "execute_result"
    }
   ],
   "source": [
    "# Nazwy kolumn DataFrame ny_colision\n",
    "ny_collisions.columns"
   ]
  },
  {
   "cell_type": "code",
   "execution_count": 25,
   "id": "a6f88e26-7eda-4e6e-a79e-959ab70fdba4",
   "metadata": {},
   "outputs": [
    {
     "name": "stdout",
     "output_type": "stream",
     "text": [
      "ACCIDENT DATE:  datetime64[ns]\n",
      "ZIP CODE:  object\n",
      "COLLISION_ID:  int64\n"
     ]
    }
   ],
   "source": [
    "# Typy danych kolumn\n",
    "print(\"ACCIDENT DATE: \",ny_collisions[\"ACCIDENT DATE\"].dtype)\n",
    "print(\"ZIP CODE: \",ny_collisions[\"ZIP CODE\"].dtype)\n",
    "print(\"COLLISION_ID: \",ny_collisions[\"COLLISION_ID\"].dtype)"
   ]
  },
  {
   "cell_type": "markdown",
   "id": "70545210-d297-4b78-9297-a83ab0c31653",
   "metadata": {},
   "source": [
    "## Exploracja danych w poszczególnych kolumnach\n",
    "### Kolumna COLLISION_ID\n",
    "Sprawdzam czy kolumnę COLLISION_ID można użyć jako klucza głównego DataFrame, jednoznacznie wskazującego wiersz"
   ]
  },
  {
   "cell_type": "code",
   "execution_count": 13,
   "id": "ba25c4b1-93a5-4a13-b2a4-b2440bea61de",
   "metadata": {},
   "outputs": [
    {
     "data": {
      "text/plain": [
       "dtype('int64')"
      ]
     },
     "execution_count": 13,
     "metadata": {},
     "output_type": "execute_result"
    }
   ],
   "source": [
    "# typ danych\n",
    "ny_collisions[\"COLLISION_ID\"].dtype"
   ]
  },
  {
   "cell_type": "code",
   "execution_count": 14,
   "id": "d946efd7-691e-4927-afb7-cc72338e0a8e",
   "metadata": {},
   "outputs": [
    {
     "data": {
      "text/plain": [
       "0"
      ]
     },
     "execution_count": 14,
     "metadata": {},
     "output_type": "execute_result"
    }
   ],
   "source": [
    "# czy są komórki nie uzupełnione\n",
    "ny_collisions[\"COLLISION_ID\"].isna().sum()"
   ]
  },
  {
   "cell_type": "code",
   "execution_count": 15,
   "id": "a67610bb-ab0d-4697-aa2b-97401323ee92",
   "metadata": {},
   "outputs": [
    {
     "data": {
      "text/plain": [
       "394221"
      ]
     },
     "execution_count": 15,
     "metadata": {},
     "output_type": "execute_result"
    }
   ],
   "source": [
    "# Czy wartości w kolumnie są unikalne ?\n",
    "cnt_no_uniq = (ny_collisions[\"COLLISION_ID\"].value_counts() > 1).sum()\n",
    "cnt_no_uniq\n",
    "# Niestety nie, jest jak poniżej pewna liczba zduplikowanych wartości w kolumnie COLLISION_ID"
   ]
  },
  {
   "cell_type": "code",
   "execution_count": 16,
   "id": "04b2948f-1f89-4111-89cd-6c1691eeab74",
   "metadata": {},
   "outputs": [
    {
     "data": {
      "text/plain": [
       "min    1\n",
       "max    2\n",
       "Name: count, dtype: int64"
      ]
     },
     "execution_count": 16,
     "metadata": {},
     "output_type": "execute_result"
    }
   ],
   "source": [
    "# rozpiętość ilości nie unikalnych wartości w kolumnie COLLISION_ID\n",
    "ny_collisions[\"COLLISION_ID\"].value_counts().agg([\"min\",\"max\"])\n",
    "# Kolumna posiada maksymalnie dwie powielone wartości w COLLISION_ID."
   ]
  },
  {
   "cell_type": "markdown",
   "id": "65835163-6c97-4ebc-891b-db0b57bb606c",
   "metadata": {},
   "source": [
    "Wyświetlam wiersze DataFrame z powielonymi wartościami w kolumnie COLLISION_ID"
   ]
  },
  {
   "cell_type": "code",
   "execution_count": 19,
   "id": "254d44f6-3d1c-4f75-acc7-e08518c7fd7b",
   "metadata": {},
   "outputs": [
    {
     "data": {
      "text/plain": [
       "Index([4184637, 3126615, 3129317, 2825464, 3126148, 3129680, 2849976, 2824208,\n",
       "       2828573, 2821803,\n",
       "       ...\n",
       "        170958, 3997658, 3863593, 4006026, 4006665, 3996951, 3998759, 4056556,\n",
       "       4007644, 3999977],\n",
       "      dtype='int64', name='COLLISION_ID', length=394221)"
      ]
     },
     "execution_count": 19,
     "metadata": {},
     "output_type": "execute_result"
    }
   ],
   "source": [
    "coll_id_s = ny_collisions[\"COLLISION_ID\"].value_counts() > 1\n",
    "coll_id_s[coll_id_s].index\n",
    "# dataframe ny_collisions z powielonymi wartościami w kolumnie COLLISION_ID"
   ]
  },
  {
   "cell_type": "code",
   "execution_count": 20,
   "id": "71251f1e-20f0-4b24-bb1b-94096fe48e3f",
   "metadata": {},
   "outputs": [
    {
     "data": {
      "text/html": [
       "<div>\n",
       "<style scoped>\n",
       "    .dataframe tbody tr th:only-of-type {\n",
       "        vertical-align: middle;\n",
       "    }\n",
       "\n",
       "    .dataframe tbody tr th {\n",
       "        vertical-align: top;\n",
       "    }\n",
       "\n",
       "    .dataframe thead th {\n",
       "        text-align: right;\n",
       "    }\n",
       "</style>\n",
       "<table border=\"1\" class=\"dataframe\">\n",
       "  <thead>\n",
       "    <tr style=\"text-align: right;\">\n",
       "      <th></th>\n",
       "      <th>ACCIDENT DATE</th>\n",
       "      <th>ACCIDENT TIME</th>\n",
       "      <th>BOROUGH</th>\n",
       "      <th>ZIP CODE</th>\n",
       "      <th>LATITUDE</th>\n",
       "      <th>LONGITUDE</th>\n",
       "      <th>LOCATION</th>\n",
       "      <th>ON STREET NAME</th>\n",
       "      <th>CROSS STREET NAME</th>\n",
       "      <th>OFF STREET NAME</th>\n",
       "      <th>...</th>\n",
       "      <th>CONTRIBUTING FACTOR VEHICLE 2</th>\n",
       "      <th>CONTRIBUTING FACTOR VEHICLE 3</th>\n",
       "      <th>CONTRIBUTING FACTOR VEHICLE 4</th>\n",
       "      <th>CONTRIBUTING FACTOR VEHICLE 5</th>\n",
       "      <th>COLLISION_ID</th>\n",
       "      <th>VEHICLE TYPE CODE 1</th>\n",
       "      <th>VEHICLE TYPE CODE 2</th>\n",
       "      <th>VEHICLE TYPE CODE 3</th>\n",
       "      <th>VEHICLE TYPE CODE 4</th>\n",
       "      <th>VEHICLE TYPE CODE 5</th>\n",
       "    </tr>\n",
       "  </thead>\n",
       "  <tbody>\n",
       "    <tr>\n",
       "      <th>1124777</th>\n",
       "      <td>2014-11-25</td>\n",
       "      <td>18:30</td>\n",
       "      <td>QUEENS</td>\n",
       "      <td>11355</td>\n",
       "      <td>40.74826</td>\n",
       "      <td>-73.816544</td>\n",
       "      <td>{'type': 'Point', 'coordinates': [-73.8165439,...</td>\n",
       "      <td>KISSENA BOULEVARD</td>\n",
       "      <td>NEGUNDO AVENUE</td>\n",
       "      <td>NaN</td>\n",
       "      <td>...</td>\n",
       "      <td>Traffic Control Disregarded</td>\n",
       "      <td>NaN</td>\n",
       "      <td>NaN</td>\n",
       "      <td>NaN</td>\n",
       "      <td>3126615</td>\n",
       "      <td>SPORT UTILITY / STATION WAGON</td>\n",
       "      <td>SPORT UTILITY / STATION WAGON</td>\n",
       "      <td>NaN</td>\n",
       "      <td>NaN</td>\n",
       "      <td>NaN</td>\n",
       "    </tr>\n",
       "    <tr>\n",
       "      <th>1275110</th>\n",
       "      <td>2014-11-25</td>\n",
       "      <td>18:30</td>\n",
       "      <td>QUEENS</td>\n",
       "      <td>11355</td>\n",
       "      <td>40.74826</td>\n",
       "      <td>-73.816544</td>\n",
       "      <td>{'type': 'Point', 'coordinates': [-73.8165439,...</td>\n",
       "      <td>KISSENA BOULEVARD</td>\n",
       "      <td>NEGUNDO AVENUE</td>\n",
       "      <td>NaN</td>\n",
       "      <td>...</td>\n",
       "      <td>Traffic Control Disregarded</td>\n",
       "      <td>NaN</td>\n",
       "      <td>NaN</td>\n",
       "      <td>NaN</td>\n",
       "      <td>3126615</td>\n",
       "      <td>SPORT UTILITY / STATION WAGON</td>\n",
       "      <td>SPORT UTILITY / STATION WAGON</td>\n",
       "      <td>NaN</td>\n",
       "      <td>NaN</td>\n",
       "      <td>NaN</td>\n",
       "    </tr>\n",
       "  </tbody>\n",
       "</table>\n",
       "<p>2 rows × 29 columns</p>\n",
       "</div>"
      ],
      "text/plain": [
       "        ACCIDENT DATE ACCIDENT TIME BOROUGH ZIP CODE  LATITUDE  LONGITUDE  \\\n",
       "1124777    2014-11-25         18:30  QUEENS    11355  40.74826 -73.816544   \n",
       "1275110    2014-11-25         18:30  QUEENS    11355  40.74826 -73.816544   \n",
       "\n",
       "                                                  LOCATION  \\\n",
       "1124777  {'type': 'Point', 'coordinates': [-73.8165439,...   \n",
       "1275110  {'type': 'Point', 'coordinates': [-73.8165439,...   \n",
       "\n",
       "                           ON STREET NAME                 CROSS STREET NAME  \\\n",
       "1124777  KISSENA BOULEVARD                 NEGUNDO AVENUE                     \n",
       "1275110  KISSENA BOULEVARD                 NEGUNDO AVENUE                     \n",
       "\n",
       "        OFF STREET NAME  ...  CONTRIBUTING FACTOR VEHICLE 2  \\\n",
       "1124777             NaN  ...    Traffic Control Disregarded   \n",
       "1275110             NaN  ...    Traffic Control Disregarded   \n",
       "\n",
       "         CONTRIBUTING FACTOR VEHICLE 3  CONTRIBUTING FACTOR VEHICLE 4  \\\n",
       "1124777                            NaN                            NaN   \n",
       "1275110                            NaN                            NaN   \n",
       "\n",
       "         CONTRIBUTING FACTOR VEHICLE 5  COLLISION_ID  \\\n",
       "1124777                            NaN       3126615   \n",
       "1275110                            NaN       3126615   \n",
       "\n",
       "                   VEHICLE TYPE CODE 1            VEHICLE TYPE CODE 2  \\\n",
       "1124777  SPORT UTILITY / STATION WAGON  SPORT UTILITY / STATION WAGON   \n",
       "1275110  SPORT UTILITY / STATION WAGON  SPORT UTILITY / STATION WAGON   \n",
       "\n",
       "         VEHICLE TYPE CODE 3 VEHICLE TYPE CODE 4 VEHICLE TYPE CODE 5  \n",
       "1124777                  NaN                 NaN                 NaN  \n",
       "1275110                  NaN                 NaN                 NaN  \n",
       "\n",
       "[2 rows x 29 columns]"
      ]
     },
     "execution_count": 20,
     "metadata": {},
     "output_type": "execute_result"
    }
   ],
   "source": [
    "# Wyświetlam jeden z wierzy aby przyjżeć się kolumnom \n",
    "ny_collisions.loc[ny_collisions[\"COLLISION_ID\"] == 3126615]"
   ]
  },
  {
   "cell_type": "markdown",
   "id": "434cf025-43fd-4a54-b0d6-54892c3cee4a",
   "metadata": {},
   "source": [
    "Z 2 wierszy wyświetlonych powyżej wygląda że kolumny prawdopodobnie mają te same wartości w wszystkich dwóch wierszach i będzie można wyczyścić dane w DataFrame Korzystając z funkcji drop_duplicates(). Najpierw trochę zabawy z funkcją sprawdzającą czy kolumny w dataframe z zduplikowanymi wartościami COLLISION_ID, posiadją te same wartości."
   ]
  },
  {
   "cell_type": "code",
   "execution_count": 21,
   "id": "325bfc1d-d7a1-4330-8719-30c9a2ab0c2f",
   "metadata": {},
   "outputs": [],
   "source": [
    "# \"COLLISION_ID\"\n",
    "# Funkcja grupuje DataFrame df po kolumnie col, wyszukuje grupy które zawierają więcej niż 1 wiersz i\n",
    "# sprawdza czy wartości w zgrupowanych kolumnach są różne.\n",
    "# Funkcja zwraca słownik gdzie klucz to wartość grupowanej kolumny, a wrtość to lista kolumn, które się różnią\n",
    "# W przypadku gdy funkcja zwróci pusty słownik, dataframe df albo nie posiada zduplikowanych wierszy albo wszystkie kolumny\n",
    "# w zduplikowanych wierszach posiadają identyczne wartości\n",
    "def no_unique_columns(df,col):\n",
    "    no_uniq = {} # {zduplikowana_wartość:[nazwa_kolumy_1_z_róznymi_wartościami,nazwa_kolumy_2_z_róznymi_wartościami,...}\n",
    "    for g in tqdm(df.groupby(col)):\n",
    "        if len(g[1]) > 1:\n",
    "            # Jeżeli są duplikaty badamy wartości w odpowiednich kolumnach\n",
    "            for c in g[1].columns:\n",
    "                if len(g[1][c].unique()) > 1:\n",
    "                    # wartość zduplikowana (g[0]), posiada rózne wartości w dopowiednich kolumnach. Dodajemy informacje do słownika\n",
    "                    if g[0] in no_uniq:\n",
    "                        no_uniq[g[0]].append(c)\n",
    "                    else:\n",
    "                        no_uniq[g[0]] = [c]\n",
    "    return no_uniq"
   ]
  },
  {
   "cell_type": "code",
   "execution_count": 26,
   "id": "f2c9b49f-b824-4b9b-bae4-7ca14588bdf2",
   "metadata": {},
   "outputs": [
    {
     "data": {
      "application/vnd.jupyter.widget-view+json": {
       "model_id": "c9a43a2322b84bea9841c4756cd6154e",
       "version_major": 2,
       "version_minor": 0
      },
      "text/plain": [
       "  0%|          | 0/1217957 [00:00<?, ?it/s]"
      ]
     },
     "metadata": {},
     "output_type": "display_data"
    },
    {
     "data": {
      "text/plain": [
       "{}"
      ]
     },
     "execution_count": 26,
     "metadata": {},
     "output_type": "execute_result"
    }
   ],
   "source": [
    "# test unikalności wartości. Chwilkę może potrwać ...\n",
    "nuq = no_unique_columns(ny_collisions,\"COLLISION_ID\")\n",
    "nuq"
   ]
  },
  {
   "cell_type": "code",
   "execution_count": 27,
   "id": "f839ba6d-c01d-4c76-a7e5-549d41240222",
   "metadata": {},
   "outputs": [
    {
     "name": "stdout",
     "output_type": "stream",
     "text": [
      "Ilość wierszy przed czyszczeniem: 1612178\n",
      "Ilość wierszy po wyczyszczeniu: 1217957\n",
      "Ilość wierszy usuniętych: 394221\n",
      "Wierszy z nieunikalnymi wartościami w kolumnie COLLISION_ID było 394221\n"
     ]
    }
   ],
   "source": [
    "# Wszystkie wiersze z zdupliownymi wartościami COLLISION_ID mają również zduplikowane wartości w wszystkich kolumnach.\n",
    "# Czyszczę DataFrame\n",
    "cnt_before = len(ny_collisions)\n",
    "ny_collisions = ny_collisions.drop_duplicates(\"COLLISION_ID\")\n",
    "cnt_after = len(ny_collisions)\n",
    "print(f\"Ilość wierszy przed czyszczeniem: {cnt_before}\\nIlość wierszy po wyczyszczeniu: {cnt_after}\\nIlość wierszy usuniętych: {cnt_before-cnt_after}\")\n",
    "print(f\"Wierszy z nieunikalnymi wartościami w kolumnie COLLISION_ID było {cnt_no_uniq}\")"
   ]
  },
  {
   "cell_type": "code",
   "execution_count": 28,
   "id": "7e6370fb-da63-43c0-8b8b-9dad4b199c9e",
   "metadata": {},
   "outputs": [
    {
     "data": {
      "text/plain": [
       "0"
      ]
     },
     "execution_count": 28,
     "metadata": {},
     "output_type": "execute_result"
    }
   ],
   "source": [
    "# Liczba zduplikowanych wartości w kolumnie COLLISION_ID\n",
    "(ny_collisions[\"COLLISION_ID\"].value_counts() > 1).sum()\n",
    "# Kolumny można użyć jako klucza głównego, jednoznacznie identyfikującego wiersze DataFrame"
   ]
  },
  {
   "cell_type": "code",
   "execution_count": null,
   "id": "154eff1b-8f16-4b7b-99b5-c58ea09277c3",
   "metadata": {},
   "outputs": [],
   "source": []
  }
 ],
 "metadata": {
  "kernelspec": {
   "display_name": "Python 3 (ipykernel)",
   "language": "python",
   "name": "python3"
  },
  "language_info": {
   "codemirror_mode": {
    "name": "ipython",
    "version": 3
   },
   "file_extension": ".py",
   "mimetype": "text/x-python",
   "name": "python",
   "nbconvert_exporter": "python",
   "pygments_lexer": "ipython3",
   "version": "3.9.2"
  }
 },
 "nbformat": 4,
 "nbformat_minor": 5
}
