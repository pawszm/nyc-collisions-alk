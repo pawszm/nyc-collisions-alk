{
 "cells": [
  {
   "cell_type": "code",
   "execution_count": null,
   "id": "b1f8e9c1-2136-4f9d-b79b-d26f0166edea",
   "metadata": {},
   "outputs": [],
   "source": [
    "import pandas as pd\n",
    "from  tqdm.notebook import tqdm\n",
    "from shapely import wkt\n",
    "import geopandas\n",
    "import matplotlib.pyplot as plt\n",
    "import os"
   ]
  },
  {
   "cell_type": "markdown",
   "id": "11c85885-16c6-44d3-aa64-4e33a2550449",
   "metadata": {},
   "source": [
    "# Eksploracja danych nypd-motor-vehicle-collisions.csv\n",
    "\n",
    "## Wczytanie danch\n",
    "Wczytanie danych o wypadkach i kolizjach w mieście Nowy Jork z pliku csv.\n",
    "Plik posiada nagłówek z nazwami kolumn a jako separatora użyto znaku ','"
   ]
  },
  {
   "cell_type": "code",
   "execution_count": null,
   "id": "5b9f9e61-3899-499a-a8c2-dcb606aedda0",
   "metadata": {},
   "outputs": [],
   "source": [
    "# Wczytuję dana z pliku csv\n",
    "ny_collisions = pd.read_csv(\"data/nypd-motor-vehicle-collisions.csv\")"
   ]
  },
  {
   "cell_type": "code",
   "execution_count": null,
   "id": "bd93715b-f69f-42e1-931e-2c1ecf6da28b",
   "metadata": {},
   "outputs": [],
   "source": [
    "ny_collisions.head(3)"
   ]
  },
  {
   "cell_type": "code",
   "execution_count": null,
   "id": "c2c5470f-ef4c-4cf8-9571-317ad87d15be",
   "metadata": {},
   "outputs": [],
   "source": [
    "# Z powodu komunikatu Columns (3) have mixed types. Specify dtype option on import or set low_memory=False.\n",
    "# przyglądam się kolumnie (3) \"ZIP CODE\"\n",
    "ny_collisions[\"ZIP CODE\"]"
   ]
  },
  {
   "cell_type": "markdown",
   "id": "ca105f94-28e8-4d3f-b295-658741242b44",
   "metadata": {},
   "source": [
    "Pandas potraktował wartości kolumny ZIP CODE jako liczby. Bezpośrednio w pliku CSV jest to głównie 5 cyfr, ponadto kolumna posiada wartości puste lub wypełnione białymi znakami.\n",
    "Traktuję kolumnę **ZIP CODE** jako ciąg znaków (typ str) a kolumnę **ACCIDENT DATE** jako dane typu datetime i wczytuję dane ponownie."
   ]
  },
  {
   "cell_type": "code",
   "execution_count": null,
   "id": "4915bd3e-5dda-4036-a764-4b695f7cdadb",
   "metadata": {},
   "outputs": [],
   "source": [
    "# kolumna ZIP CODE jako str, a ACCIDENT DATE jako datetime\n",
    "ny_collisions = pd.read_csv(\"data/nypd-motor-vehicle-collisions.csv\",dtype={\"ZIP CODE\":'str'}, parse_dates=[\"ACCIDENT DATE\"])\n",
    "ny_collisions.head(3)"
   ]
  },
  {
   "cell_type": "markdown",
   "id": "ranking-hindu",
   "metadata": {},
   "source": [
    "## Podstawowe informacje o wczytanym DataFrame\n",
    "Wczytany DataFrame ny_collisions posiada 1 612 178 wierszy w 29 kolumnach.\n",
    "\n",
    "Dane o kolumnach DataFrame ny_collisions:\n",
    "* **ACCIDENT DATE**: Data wypadku, podczas wczytywania kolumna przekształcona na typ danych 'datetime64[ns]'\n",
    "* **ZIP CODE**: Kod pocztowy, typ danych ciąg znaków 'str'"
   ]
  },
  {
   "cell_type": "code",
   "execution_count": null,
   "id": "conscious-sixth",
   "metadata": {},
   "outputs": [],
   "source": [
    "# Podstawowe informacje o DataFrame ny_colision\n",
    "# 1612178 wierszy i 29 kolumn\n",
    "ny_collisions.shape"
   ]
  },
  {
   "cell_type": "code",
   "execution_count": null,
   "id": "19bd0def-1b42-4c59-b29d-dc8a560ab36a",
   "metadata": {},
   "outputs": [],
   "source": [
    "ny_collisions.describe"
   ]
  },
  {
   "cell_type": "code",
   "execution_count": null,
   "id": "c59d473a-63f7-4e74-b6f8-65ceb2f5c606",
   "metadata": {},
   "outputs": [],
   "source": [
    "ny_collisions.info"
   ]
  },
  {
   "cell_type": "code",
   "execution_count": null,
   "id": "367a4e3a-ba8a-4bdc-b8f7-0085dec95dd3",
   "metadata": {},
   "outputs": [],
   "source": [
    "# Nazwy kolumn DataFrame ny_colision\n",
    "ny_collisions.columns"
   ]
  },
  {
   "cell_type": "code",
   "execution_count": null,
   "id": "a6f88e26-7eda-4e6e-a79e-959ab70fdba4",
   "metadata": {},
   "outputs": [],
   "source": [
    "# Typy danych kolumn\n",
    "print(\"ACCIDENT DATE: \",ny_collisions[\"ACCIDENT DATE\"].dtype)\n",
    "print(\"ZIP CODE: \",ny_collisions[\"ZIP CODE\"].dtype)\n",
    "print(\"COLLISION_ID: \",ny_collisions[\"COLLISION_ID\"].dtype)\n",
    "print(\"LATITUDE: \",ny_collisions[\"LATITUDE\"].dtype)\n",
    "print(\"LONGITUDE: \",ny_collisions[\"LONGITUDE\"].dtype)\n",
    "print(\"LOCATION: \",ny_collisions[\"LOCATION\"].dtype)"
   ]
  },
  {
   "cell_type": "markdown",
   "id": "70545210-d297-4b78-9297-a83ab0c31653",
   "metadata": {},
   "source": [
    "## Exploracja danych w poszczególnych kolumnach\n",
    "### Kolumna COLLISION_ID\n",
    "Sprawdzam czy kolumnę COLLISION_ID można użyć jako klucza głównego DataFrame, jednoznacznie wskazującego wiersz"
   ]
  },
  {
   "cell_type": "code",
   "execution_count": null,
   "id": "ba25c4b1-93a5-4a13-b2a4-b2440bea61de",
   "metadata": {},
   "outputs": [],
   "source": [
    "# typ danych\n",
    "ny_collisions[\"COLLISION_ID\"].dtype"
   ]
  },
  {
   "cell_type": "code",
   "execution_count": null,
   "id": "d946efd7-691e-4927-afb7-cc72338e0a8e",
   "metadata": {},
   "outputs": [],
   "source": [
    "# czy są komórki nie uzupełnione\n",
    "ny_collisions[\"COLLISION_ID\"].isna().sum()"
   ]
  },
  {
   "cell_type": "code",
   "execution_count": null,
   "id": "a67610bb-ab0d-4697-aa2b-97401323ee92",
   "metadata": {},
   "outputs": [],
   "source": [
    "# Czy wartości w kolumnie są unikalne ?\n",
    "cnt_no_uniq = (ny_collisions[\"COLLISION_ID\"].value_counts() > 1).sum()\n",
    "cnt_no_uniq\n",
    "# Niestety nie, jest jak poniżej pewna liczba zduplikowanych wartości w kolumnie COLLISION_ID"
   ]
  },
  {
   "cell_type": "code",
   "execution_count": null,
   "id": "04b2948f-1f89-4111-89cd-6c1691eeab74",
   "metadata": {},
   "outputs": [],
   "source": [
    "# rozpiętość ilości nie unikalnych wartości w kolumnie COLLISION_ID\n",
    "ny_collisions[\"COLLISION_ID\"].value_counts().agg([\"min\",\"max\"])\n",
    "# Kolumna posiada maksymalnie dwie powielone wartości w COLLISION_ID."
   ]
  },
  {
   "cell_type": "markdown",
   "id": "65835163-6c97-4ebc-891b-db0b57bb606c",
   "metadata": {},
   "source": [
    "Wyświetlam wiersze DataFrame z powielonymi wartościami w kolumnie COLLISION_ID"
   ]
  },
  {
   "cell_type": "code",
   "execution_count": null,
   "id": "254d44f6-3d1c-4f75-acc7-e08518c7fd7b",
   "metadata": {},
   "outputs": [],
   "source": [
    "coll_id_s = ny_collisions[\"COLLISION_ID\"].value_counts() > 1\n",
    "coll_id_s[coll_id_s].index\n",
    "# dataframe ny_collisions z powielonymi wartościami w kolumnie COLLISION_ID"
   ]
  },
  {
   "cell_type": "code",
   "execution_count": null,
   "id": "71251f1e-20f0-4b24-bb1b-94096fe48e3f",
   "metadata": {},
   "outputs": [],
   "source": [
    "# Wyświetlam jeden z wierzy aby przyjżeć się kolumnom \n",
    "ny_collisions.loc[ny_collisions[\"COLLISION_ID\"] == 3126615]"
   ]
  },
  {
   "cell_type": "markdown",
   "id": "434cf025-43fd-4a54-b0d6-54892c3cee4a",
   "metadata": {},
   "source": [
    "Z 2 wierszy wyświetlonych powyżej wygląda że kolumny prawdopodobnie mają te same wartości w wszystkich dwóch wierszach i będzie można wyczyścić dane w DataFrame Korzystając z funkcji drop_duplicates(). Najpierw trochę zabawy z funkcją sprawdzającą czy kolumny w dataframe z zduplikowanymi wartościami COLLISION_ID, posiadją te same wartości."
   ]
  },
  {
   "cell_type": "code",
   "execution_count": null,
   "id": "325bfc1d-d7a1-4330-8719-30c9a2ab0c2f",
   "metadata": {},
   "outputs": [],
   "source": [
    "# \"COLLISION_ID\"\n",
    "# Funkcja grupuje DataFrame df po kolumnie col, wyszukuje grupy które zawierają więcej niż 1 wiersz i\n",
    "# sprawdza czy wartości w zgrupowanych kolumnach są różne.\n",
    "# Funkcja zwraca słownik gdzie klucz to wartość grupowanej kolumny, a wrtość to lista kolumn, które się różnią\n",
    "# W przypadku gdy funkcja zwróci pusty słownik, dataframe df albo nie posiada zduplikowanych wierszy albo wszystkie kolumny\n",
    "# w zduplikowanych wierszach posiadają identyczne wartości\n",
    "def no_unique_columns(df,col):\n",
    "    no_uniq = {} # {zduplikowana_wartość:[nazwa_kolumy_1_z_róznymi_wartościami,nazwa_kolumy_2_z_róznymi_wartościami,...}\n",
    "    for g in tqdm(df.groupby(col)):\n",
    "        if len(g[1]) > 1:\n",
    "            # Jeżeli są duplikaty badamy wartości w odpowiednich kolumnach\n",
    "            for c in g[1].columns:\n",
    "                if len(g[1][c].unique()) > 1:\n",
    "                    # wartość zduplikowana (g[0]), posiada rózne wartości w dopowiednich kolumnach. Dodajemy informacje do słownika\n",
    "                    if g[0] in no_uniq:\n",
    "                        no_uniq[g[0]].append(c)\n",
    "                    else:\n",
    "                        no_uniq[g[0]] = [c]\n",
    "    return no_uniq"
   ]
  },
  {
   "cell_type": "code",
   "execution_count": null,
   "id": "f2c9b49f-b824-4b9b-bae4-7ca14588bdf2",
   "metadata": {},
   "outputs": [],
   "source": [
    "# test unikalności wartości. Chwilkę może potrwać ... (4 min.)\n",
    "nuq = no_unique_columns(ny_collisions,\"COLLISION_ID\")\n",
    "nuq"
   ]
  },
  {
   "cell_type": "code",
   "execution_count": null,
   "id": "f839ba6d-c01d-4c76-a7e5-549d41240222",
   "metadata": {},
   "outputs": [],
   "source": [
    "# Wszystkie wiersze z zdupliownymi wartościami COLLISION_ID mają również zduplikowane wartości w wszystkich kolumnach.\n",
    "# Czyszczę DataFrame\n",
    "cnt_before = len(ny_collisions)\n",
    "ny_collisions = ny_collisions.drop_duplicates(\"COLLISION_ID\")\n",
    "cnt_after = len(ny_collisions)\n",
    "print(f\"Ilość wierszy przed czyszczeniem: {cnt_before}\\nIlość wierszy po wyczyszczeniu: {cnt_after}\\nIlość wierszy usuniętych: {cnt_before-cnt_after}\")\n",
    "print(f\"Wierszy z nieunikalnymi wartościami w kolumnie COLLISION_ID było {cnt_no_uniq}\")"
   ]
  },
  {
   "cell_type": "code",
   "execution_count": null,
   "id": "7e6370fb-da63-43c0-8b8b-9dad4b199c9e",
   "metadata": {},
   "outputs": [],
   "source": [
    "# Liczba zduplikowanych wartości w kolumnie COLLISION_ID\n",
    "(ny_collisions[\"COLLISION_ID\"].value_counts() > 1).sum()\n",
    "# Kolumny można użyć jako klucza głównego, jednoznacznie identyfikującego wiersze DataFrame"
   ]
  },
  {
   "cell_type": "markdown",
   "id": "69be4405-d3f1-4d78-a873-b909bed68169",
   "metadata": {},
   "source": [
    "### Kolumna \"ZIP CODE\"\n",
    "\n",
    "[Kod pocztowy USA](https://en.wikipedia.org/wiki/ZIP_Code) w podstawowej formie składa się z 5 cyfr, ale może posiadać więcej niż 5 znaków.\n",
    "Ponadto kod pocztowy stanu NY rozpoczyna się od znaku '1'."
   ]
  },
  {
   "cell_type": "code",
   "execution_count": null,
   "id": "82cb9c8e-202f-4c4a-a333-07e7aace0621",
   "metadata": {},
   "outputs": [],
   "source": [
    "# Wyczyszczenie kolumny z początkowych i końcowych białych znków\n",
    "ny_collisions.loc[:,\"ZIP CODE\"] = ny_collisions[\"ZIP CODE\"].str.strip()"
   ]
  },
  {
   "cell_type": "markdown",
   "id": "e5549fba-f830-4075-ae81-63f8ca948c39",
   "metadata": {},
   "source": [
    "Liczba wierszy w których kolumna \"ZIP CODE\" posiada wartość nieuzupełnioną wynosi:"
   ]
  },
  {
   "cell_type": "code",
   "execution_count": null,
   "id": "480902f9-4f8f-4435-a815-dee2166707b3",
   "metadata": {},
   "outputs": [],
   "source": [
    "# liczba wierszy z kolumną ZIP CODE równym NaN lub pystym ciągiem znanków ''\n",
    "# Jeżeli kolumna ZIP CODE w pliku csv jest w postaci ,, to ma wartość NaN, jeżeli ,\\s+, (,jedna lub więcej znaków białych,) ma wartość ''\n",
    "count_zip_code_nan = len(ny_collisions.loc[ny_collisions[\"ZIP CODE\"].isna() | (ny_collisions[\"ZIP CODE\"] == '')])\n",
    "count_zip_code_nan"
   ]
  },
  {
   "cell_type": "markdown",
   "id": "f424e1e0-5ee4-45eb-9c46-bb47f7bd98a1",
   "metadata": {},
   "source": [
    "Zgodnie z informacją o kodach pocztowych w USA, kdoy NYC powinny rozpoczynać się od znaku cyfry jeden ('1').\n",
    "Liczba kodów pocztowych w kolumnie \"ZIP CODE\" w formacie podstawowym (5 znaków) i rozpoczynająca się od znaku cyfry '1' wynosi:"
   ]
  },
  {
   "cell_type": "code",
   "execution_count": null,
   "id": "6f847974-4656-461f-8fc3-de3cc7f429ae",
   "metadata": {},
   "outputs": [],
   "source": [
    "# Liczba wierszy w której kolumna ZIP CODE składa się z 5 cyfr, przyczym pierwsza rozpoczyna się od znaku '1'\n",
    "count_zip_code_basic = ny_collisions[\"ZIP CODE\"].str.count(\"1\\d{4}\").sum()\n",
    "count_zip_code_basic"
   ]
  },
  {
   "cell_type": "markdown",
   "id": "f77e8301-2190-46ec-8c59-31b9e1c55f83",
   "metadata": {},
   "source": [
    "Suma ilości wierszy w której kolumna ZIP CODE ma wartość NaN i poprawny ZIP CODE stanu NY rozpoczynający się od\n",
    "znaku '1', składjący się z 5 cyfr, powinna być równa ilości wierszy DataFrame ny_collision"
   ]
  },
  {
   "cell_type": "code",
   "execution_count": null,
   "id": "dae1d989-754d-4a33-990f-cdcb4b2556ce",
   "metadata": {},
   "outputs": [],
   "source": [
    "len(ny_collisions) - count_zip_code_nan - count_zip_code_basic"
   ]
  },
  {
   "cell_type": "markdown",
   "id": "218d9e40-988e-404e-84f2-a1b1e323089d",
   "metadata": {},
   "source": [
    "Operacje poniżej normalizują kolumnę ZIP CODE, tylko i wyłącznie do typu str, dla późniejszych analiz. Pozbywam się wartości NaN przez zamianę jej na pusty ciąg znaków ''."
   ]
  },
  {
   "cell_type": "code",
   "execution_count": null,
   "id": "231b53bb-7361-4f92-84be-9d9d874f35b4",
   "metadata": {},
   "outputs": [],
   "source": [
    "ny_collisions.loc[ny_collisions[\"ZIP CODE\"].isna(),\"ZIP CODE\"] = ''"
   ]
  },
  {
   "cell_type": "code",
   "execution_count": null,
   "id": "4acd2e8d-43e9-4172-a759-3ddd002a480b",
   "metadata": {},
   "outputs": [],
   "source": [
    "len(ny_collisions[\"COLLISION_ID\"].loc[ny_collisions[\"ZIP CODE\"]==''])"
   ]
  },
  {
   "cell_type": "markdown",
   "id": "237f1fd0-5089-482b-816f-6db31ddbdf9f",
   "metadata": {},
   "source": [
    "### Kolumny \"LATITUDE\", \"LONGITUDE\", \"LOCATION\"\n",
    "\n",
    "Sprawdzam jak wypełnieone są zależne od siebie kolumny LATITUDE, LONGITUDE i LOCATION.\n",
    "\n",
    "Przypadki:\n",
    "* wszystkie trzy komórki w wierszu dla poszczególnych kolumn posiadają dane\n",
    "* wszystkie trzy komórki w wierszu dla poszczególnych kolumny są nieuzupełnione\n",
    "* część komórek w wierszu dla poszczególnych kolumn jest wypełniona a część nie"
   ]
  },
  {
   "cell_type": "code",
   "execution_count": null,
   "id": "6f9fa1c9-efbb-4ae3-902a-75ace2240478",
   "metadata": {},
   "outputs": [],
   "source": [
    "# Wyświetlenie nieuzupełnionych kolumn \"LATITUDE\",\"LONGITUDE\",\"LOCATION\"\n",
    "# False: komórka w kolumnie uzupełniona, True: komórka w kolumnie nie uzupełniona\n",
    "ny_collisions[[\"LATITUDE\",\"LONGITUDE\",\"LOCATION\"]].isna()"
   ]
  },
  {
   "cell_type": "markdown",
   "id": "83d72193-4112-43f2-9ab5-cc00ddc525c8",
   "metadata": {},
   "source": [
    "Wartość False komórki w odpowiadającej kolumnie oznacza że jest uzupełniona, True nie uzupełniona\n",
    "\n",
    "Sumowanie po osi X wartości boolen (False=0, True=1) w celu określenia statusu uzupełnienia kolumn.\n",
    "\n",
    "Znczenie sumy wartości logicznych trzech kolumn \"LATITUDE\",\"LONGITUDE\",\"LOCATION\" w poszczególnych wierszach:\n",
    "\n",
    "0 - wszystkie kolumny zostały wypełnione\\\n",
    "1 - jedna z trzech komórek wiersza nie została uzupełniona\\\n",
    "2 - dwie z trzech komórek wiersza nie zostały uzupełnione\\\n",
    "3 - wszystkie trzy komórki w wierszu nie zostały uzupełnione"
   ]
  },
  {
   "cell_type": "code",
   "execution_count": null,
   "id": "402fd872-f631-4cd1-ad9b-960c18f46e3c",
   "metadata": {},
   "outputs": [],
   "source": [
    "ny_collisions[[\"LATITUDE\",\"LONGITUDE\",\"LOCATION\"]].isna().sum(axis=1)"
   ]
  },
  {
   "cell_type": "markdown",
   "id": "a582b4a7-4c1b-467f-8c27-54a9e05d9837",
   "metadata": {},
   "source": [
    "Sprawdzenie z jakiego typu \"brakami\" w danych o lokalizacji kolizji/wypadku mamy doczynienia"
   ]
  },
  {
   "cell_type": "code",
   "execution_count": null,
   "id": "7b54e884-398b-427f-a9f3-40008d23cd8f",
   "metadata": {},
   "outputs": [],
   "source": [
    "(ny_collisions[[\"LATITUDE\",\"LONGITUDE\",\"LOCATION\"]].isna().sum(axis=1)).unique()"
   ]
  },
  {
   "cell_type": "code",
   "execution_count": null,
   "id": "a59ea22d-c1e3-4fa3-a125-786da6c89ecc",
   "metadata": {},
   "outputs": [],
   "source": [
    "# liczba wierszy bez współrzędnych geograficznych\n",
    "((ny_collisions[[\"LATITUDE\",\"LONGITUDE\",\"LOCATION\"]].isna().sum(axis=1)) == 3).sum()"
   ]
  },
  {
   "cell_type": "markdown",
   "id": "2f796573-7c8e-48e5-a41b-8bdb3d2b0378",
   "metadata": {},
   "source": [
    "W tym przypadku posiadamy tylko wartości 0 i 3 co oznacza że mamy wiersze w kolumnach \"LATITUDE\",\"LONGITUDE\",\"LOCATION\" albo wszystkie uzupełnione albo wszystkie nie uzupełnione. Brak przypadków mieszanych (jedna lub dwie kolumny są uzupełnione a reszta nie), co oszczędzi głębszej analizy, które komórki można uzupełnić na podstawie zawartości inych komórek (np. LATITUDE na podstawie uzupełnionej komórki LOCATION).\n",
    "\n",
    "Komórka LOCATION zapisana jest jako typ danych str i wygląda jak rekord danych python dictionary:\\\n",
    "`{'type': 'Point', 'coordinates': [-73.790184, 40.676052]}`\\\n",
    "gdzie klucz 'type' określa prawdopodobnie kształt (w tym przypadku punkt) i 'coordinates' współrzędne geograficzne, \n",
    "co daje możliwość weryfikacji spójności danych komórek w kolumnach LATITUDE i LONGITUDE na podstawie informacji zawartych w komórkach kolumny LOCATION.\n",
    "\n",
    "W celu wykonania takiej weryfikacji należy z komórki kolumny LOCATION \"wyciągnąć\" informacje o współrzędnych geograficznych.\n",
    "Aby to osiągnąć można potraktować zawartość wierszy kolumny LOCATION jako dane typu json, zamieniając znak ' na znak \", lub bezpośrednio zamienić funkcją eval() ciąg znaków na słownik."
   ]
  },
  {
   "cell_type": "code",
   "execution_count": null,
   "id": "6d27673e-777e-45b6-ace6-bdcd370a0dbd",
   "metadata": {},
   "outputs": [],
   "source": [
    "# Funkcja sprawdza czy współrzędne geograficzne w kolumnie LATITUDE i LONGITUDE są zgodne z\n",
    "# współrzędnymi geograficznymi w strukturze zawartej w kolumnie LOCATION\n",
    "# Przeznaczenie: dla DataFrame.apply()\n",
    "# wejście: wiersz danych dataframe z kolumnami LATITUDE,LONGITUDE,LOCATION\n",
    "# wyjście: zwraca True jeżeli współrzędne geograficzne w strukturze z kolumny LOCATION są niezgodene z danymi w kolumnach LATITUDE i LONGITUDE\n",
    "def check_coordinate(row):\n",
    "    try:\n",
    "        data = eval(row[\"LOCATION\"])\n",
    "        # Sprawdzam czy zmienna data jest typu słownik i czy słownik zawiera klucze type i coordinates\n",
    "        if isinstance(data,dict) and (data.keys() >= {\"type\", \"coordinates\"}):\n",
    "            if data[\"type\"].strip().upper() == 'POINT':\n",
    "                # Sprawdzanie czy klucz 'coordinates' zawiera listę z przynjmniej dwoma elementami nie ma sensu, zdziała wyjątek\n",
    "                loc_latitude = data[\"coordinates\"][1]\n",
    "                loc_longitude = data[\"coordinates\"][0]\n",
    "                return not ((loc_latitude-row[\"LATITUDE\"]==0) and (loc_longitude-row[\"LONGITUDE\"]==0))\n",
    "    except:\n",
    "        return True\n",
    "    return True"
   ]
  },
  {
   "cell_type": "code",
   "execution_count": null,
   "id": "c0369aa8-c37d-46ca-b862-4486a1933243",
   "metadata": {},
   "outputs": [],
   "source": [
    "# tworzę kopię z dataframe ny_collision, która jest wycinkiem z oryginalnego dataframe składającego się z \n",
    "# kolumn \"LATITUDE\",\"LONGITUDE\",\"LOCATION\" bez LOCATION = NaN.\n",
    "test = ny_collisions[[\"LATITUDE\",\"LONGITUDE\",\"LOCATION\"]].loc[~ny_collisions[\"LOCATION\"].isna()]"
   ]
  },
  {
   "cell_type": "code",
   "execution_count": null,
   "id": "8eb989ed-563a-4b81-a483-743265563928",
   "metadata": {},
   "outputs": [],
   "source": [
    "# Testowanie zgodności wartości LONGITUDE, LATITUDE i LOCATION.coordinates.\n",
    "test[\"check\"] = test.apply(check_coordinate,axis=1)\n",
    "test"
   ]
  },
  {
   "cell_type": "code",
   "execution_count": null,
   "id": "f3d3c2c0-13fc-4dd2-a4da-c00219e133b7",
   "metadata": {},
   "outputs": [],
   "source": [
    "# Jeżeli są nizgodności to wiersz w kolumnie check ma wartość True\n",
    "test.loc[test[\"check\"]]"
   ]
  },
  {
   "cell_type": "markdown",
   "id": "522d46f0-9ebd-4156-a650-e50018d60cfc",
   "metadata": {},
   "source": [
    "W tym przypadku brak niezgodności pomiędzy LATITUDE,LONGITUDE a kluczem coordinates w LOCATION. \n",
    "Z powyższej analizy wynika że kolumna LOCATION w dataframe ny_collision jest nadmiarowa."
   ]
  },
  {
   "cell_type": "code",
   "execution_count": null,
   "id": "2651eefc-0bc5-4db3-8947-b07655e82b3e",
   "metadata": {},
   "outputs": [],
   "source": [
    "# Usuwam test aby nie zajmować pamięci\n",
    "del(test)"
   ]
  },
  {
   "cell_type": "markdown",
   "id": "0236b119-7534-4b74-ad53-04fd8fb960a7",
   "metadata": {},
   "source": [
    "Wczytanie poligonu geogograficznego miasta Nowy Jork wraz z dzielnicami.\n",
    "Korzystam z wiedzy z serwisu https://www.kaggle.com/code/geowiz34/maps-of-nyc-airbnbs-with-python.\n",
    "Dane geograficzne miasta Nowy Jork zostały pobrane z strony https://data.cityofnewyork.us/City-Government/Neighborhood-Tabulation-Areas/cpf4-rkhq i wyeksportowane do pliku nynta.csv"
   ]
  },
  {
   "cell_type": "code",
   "execution_count": null,
   "id": "f40e5295-772c-408b-8aad-38fc8c3c63ec",
   "metadata": {},
   "outputs": [],
   "source": [
    "# Pobieram współrzędne geograficzne granic pligonów miasta Nowy Jork wraz z dzielnicami\n",
    "# W folderze data znajduje się plik nynta.zip, który należy rozpakować.\n",
    "nbhoods = pd.read_csv('data/nynta.csv')\n",
    "nbhoods"
   ]
  },
  {
   "cell_type": "code",
   "execution_count": null,
   "id": "d511e780-debc-4728-b79f-7cf0d95be812",
   "metadata": {},
   "outputs": [],
   "source": [
    "# Sprawdzam czy kolumna NTACode w dataframe nbhood jest unikalna i czy można tej wartości z tej kolumny użyc jako klucz główny\n",
    "cnt_no_uniq = (nbhoods[\"NTACode\"].value_counts() > 1).sum()\n",
    "cnt_no_uniq\n",
    "# Wszystkie wartoci w kolumnie NTACode są unikalne"
   ]
  },
  {
   "cell_type": "markdown",
   "id": "c43ed15d-e54d-4279-bb7f-e01f550c8035",
   "metadata": {},
   "source": [
    "Przekonwertowanie danych geograficznych zawartych w DataFrame nbhoods (typu pandas) w kolumnie the_geom na typ danych odpowiedni dla geopandas, przez\n",
    "utworzenie kolumny geom z współrzędnymi geograficznymi obszarów miasta Nowy Jork w formacie [Well-known text](https://en.wikipedia.org/wiki/Well-known_text_representation_of_geometry). Przekonwertowanie nbhoods z typu pandas DataFrame na geopandas GeoDataFrame. Typ danych kolumny geom będzię używany w dalszych analizach. Sposób konwertowania kolumny the_geom na well-know text został opisany w serwisie https://www.kaggle.com/code/geowiz34/maps-of-nyc-airbnbs-with-python."
   ]
  },
  {
   "cell_type": "code",
   "execution_count": null,
   "id": "232eac02-a5b5-4fdc-a428-cba3cc314d48",
   "metadata": {},
   "outputs": [],
   "source": [
    "nbhoods.rename(columns={'NTAName':'neighbourhood'}, inplace=True)\n",
    "nbhoods['geom'] = nbhoods['the_geom'].apply(wkt.loads)\n",
    "nbhoods = geopandas.GeoDataFrame(nbhoods, geometry='geom')\n",
    "nbhoods"
   ]
  },
  {
   "cell_type": "code",
   "execution_count": null,
   "id": "5693841d-76ca-4001-b4c1-13ced5b66b3c",
   "metadata": {},
   "outputs": [],
   "source": [
    "# Utworzenie DataFrame zawierajającego współrzędne geograficzne kolizji i identyfikatora kolizji\n",
    "# geo_collisions będzię używany do nanoszenia punktów kolizji na mapę miasta Nowy Jork\n",
    "geo_collisions = ny_collisions[[\"LONGITUDE\",\"LATITUDE\",\"COLLISION_ID\",\"BOROUGH\"]].loc[~ny_collisions[\"LOCATION\"].isna()].reset_index(drop=True)\n",
    "geo_collisions"
   ]
  },
  {
   "cell_type": "code",
   "execution_count": null,
   "id": "949a05c9-fb8b-4d4f-b365-0fa172c8b440",
   "metadata": {},
   "outputs": [],
   "source": [
    "# Utworzenie kolumny point_collision zawierającego współrzędne geograficzne kolizji i przekonwertowanie z typu pandas DataFrame do geopandas GeoDataFrame\n",
    "geo_collisions[\"point_collision\"] = geopandas.GeoDataFrame(geopandas.points_from_xy(geo_collisions.LONGITUDE,geo_collisions.LATITUDE),columns=[\"point_collision\"])\n",
    "# Kolumna point_collision zawiera obiekty (punkty), które będą odrysowane na mapie miasta Nowy Jork\n",
    "geo_collisions = geopandas.GeoDataFrame(geo_collisions, geometry='point_collision')\n",
    "geo_collisions"
   ]
  },
  {
   "cell_type": "markdown",
   "id": "3c4b0cf0-b266-4f92-800b-5713748c507c",
   "metadata": {},
   "source": [
    "Obszar miast Nowy Jork, znajduje się miej więcej pomiędzy długością geograficzną -73.67W a 74.3W, szerokością geograficzną 40.48N a 40.92N\n",
    "W GeoDataFrame geo_collisions teorzę kolumnę \"LocationNYC\" z wartościami typu Boolen, która wszystkie współrzędne geograficzne z przedziału w/w obszaru oznacza jako True (znajdują się w Nowym Jorku lub w pobliżu) i False oznaczające współrzędne, które są błędne lub znajdują się poza obszarem wyznaczonym przez w/w obszar.\n",
    "Kolumnę \"LocationNYC\", tworzę tylko na potrzeby wygodnego określenia, które punkty będą odrysowane na mapie"
   ]
  },
  {
   "cell_type": "code",
   "execution_count": null,
   "id": "7ddd6288-27e1-4d78-b2d4-1dc7bfe6cd13",
   "metadata": {},
   "outputs": [],
   "source": [
    "geo_collisions[\"LocationNYC\"] = False\n",
    "geo_collisions[\"LocationNYC\"] =  ((geo_collisions.LONGITUDE < -73.67) & (geo_collisions.LONGITUDE > -74.3) & (geo_collisions.LATITUDE > 40.48) & (geo_collisions.LATITUDE < 40.92))"
   ]
  },
  {
   "cell_type": "code",
   "execution_count": null,
   "id": "da5b1191-9017-4ea3-b0f2-0065f72e44a3",
   "metadata": {},
   "outputs": [],
   "source": [
    "# Przykład punktów współrzędnych geograficznych, których nie narysuję na mapie miasta Nowy Jork\n",
    "geo_collisions.loc[~geo_collisions[\"LocationNYC\"]]"
   ]
  },
  {
   "cell_type": "markdown",
   "id": "c780a836-45fd-4a00-9cb6-d192eb1e29c7",
   "metadata": {},
   "source": [
    "Przyporządkowanie punktów kolizji w geo_collisions do obszarów miasta Nowy Jork. Poniższa kod znajduje i przyporządkowuje lokalizacje do obszaru miasta Nowy Jork (NTACode w GeoDataFrame nbhoods). Przyporządkowanie trwa bardzo długo ok. 1h. W folderze data znajduje się plik geo.zip, który należy rozpakować. Plik zawiera gotowy GeoDataFrame geo_collisions"
   ]
  },
  {
   "cell_type": "code",
   "execution_count": null,
   "id": "288e91f6-4872-4805-a3c5-dcc591325dbf",
   "metadata": {},
   "outputs": [],
   "source": [
    "if os.path.isfile(\"data/geo.json\"):\n",
    "    geo_collisions = geopandas.read_file(\"data/geo.json\")\n",
    "else:\n",
    "    # bardzo długo ok 1h\n",
    "    # Określenie obszarów miasta Nowy Jork na podstawie współrzędnych geograficznicznych\n",
    "    # Kod dzielnicy Nowego Jorku z GeoDataFrame nbhoods[\"BoroCode\"]\n",
    "    geo_collisions[\"BoroCode\"] = None\n",
    "    # Kod obszaru wewnątrz dzielnic Nowego Jorku z GeoDataFrame nbhoods[\"NTACode\"]\n",
    "    geo_collisions[\"NTACode\"] = None\n",
    "    for i in tqdm(geo_collisions.loc[geo_collisions[\"LocationNYC\"]].index):\n",
    "        data = nbhoods[[\"BoroCode\",\"NTACode\"]].loc[nbhoods[\"geom\"].contains(geo_collisions.loc[i,\"point_collision\"])]\n",
    "        l = len(data)\n",
    "        if l == 1:\n",
    "            # Jednoznaczne przyporządkowanie do jednego obszaru miasta\n",
    "            geo_collisions.at[i,\"BoroCode\"] = int(data[\"BoroCode\"].values[0])\n",
    "            geo_collisions.at[i,\"NTACode\"] = data[\"NTACode\"].values[0]\n",
    "        if l > 1:\n",
    "            # Testowo, lokalizacja określająca kilka obszarów miasta, być może oznacza błąd w danych nbhoods\n",
    "            test.at[i,\"BoroCode\"] = -l\n",
    "    geo_collisions.to_file(\"data/geo.json\",driver=\"GeoJSON\",index=False)"
   ]
  },
  {
   "cell_type": "code",
   "execution_count": null,
   "id": "ea5d240f-e27e-403d-a847-aae2e2068cbe",
   "metadata": {},
   "outputs": [],
   "source": [
    "# Sprawdzenie lokalizacji które są w obszarze miasta Nowy Jork, a zostały zaznaczone jak nie należące do\n",
    "# żadnego obszaru miasta\n",
    "geo_collisions.loc[geo_collisions[\"BoroCode\"].isna() & geo_collisions[\"LocationNYC\"]]"
   ]
  },
  {
   "cell_type": "markdown",
   "id": "dde8726d-39f2-47dc-bb61-d69295322e11",
   "metadata": {},
   "source": [
    "Jak widać na mapie poniżej (czerwone kropki) są to lokalizacje w obszarach wodnych (również na mostach) lub w ich pobliżu i obszary poza miastem Nowy Jork.\n",
    "Problem wynika z faktu że GeoDataFrame nbnbhoods nie wprowadza obszarów wodnych do miasta Nowy Jork, dodatkowo dochodzi problem z dokładnością lokalizacj przy brzegach obszarów wodnych."
   ]
  },
  {
   "cell_type": "code",
   "execution_count": null,
   "id": "e185fd8b-6c78-42ad-bf50-e4473428284d",
   "metadata": {},
   "outputs": [],
   "source": [
    "fig,ax = plt.subplots(1,1, figsize=(15,15))\n",
    "base = nbhoods.plot(color=\"orange\",alpha=0.5,edgecolor='black',ax=ax)\n",
    "geo_collisions.loc[geo_collisions[\"BoroCode\"].isna() & geo_collisions[\"LocationNYC\"]].plot(ax=base, color=\"red\", markersize=8)"
   ]
  },
  {
   "cell_type": "markdown",
   "id": "fa8aa0ad-5951-4f53-971e-a50e96034aaf",
   "metadata": {},
   "source": [
    "W GeoDataFrame geo_collisions mamy dwie kolumny:\n",
    "* BOROUGH: z nazwą dzielnicy, która pochodzi z pandas DataFrame ny_collisions[\"BOROUGH\"]\n",
    "* BoroCode: z kodem dzielnicy w postaci liczby całkowitej, która pochodzi z przyporządkowania lokalizacji ny_collision[[\"LONGITUDE\",\"LATITUDE\"]] do obszaru w GeoDataFrame nbhoods.\n",
    "\n",
    "Lokalizacje które należą do obszaru miasta Nowy Jork, ponieważ mają określoną nazwę dzielnicy w kolumnie BOROUGH, a nie mają określonej wartości kodu dzielnicy w kolumnie BoroCode (obszary wodne i pobliże wody), można uzupełnić przez przypisanie kodu dzielnicy do BoroCode na podstawie wartosci w kolumnie BOROUGH. Niestety wartość w kolumnie NTACode pozostanie nie uzupełniona. Przypisanie BOROUGH do BoroCode, oparte jest na zaufaniu że lokalizacja dzielnicy Nowego Jorku jest prawidłowa.\n",
    "W ten sposób dołączymy część lokalizacji do późniejszych analiz, opartych na całych dzielnicach miasta Nowy Jork. Mniejszych obszarów nie będzie można dołączyć, ponieważ nie mają uzupełnionej kolumny NTACode."
   ]
  },
  {
   "cell_type": "code",
   "execution_count": null,
   "id": "3c344889-2221-4eb1-bc8f-06c0f066497b",
   "metadata": {},
   "outputs": [],
   "source": [
    "# Jakie unikalne wartości mamy w kolumnie BOROUGH geodataframe geo_collisions\n",
    "geo_collisions[\"BOROUGH\"].unique()"
   ]
  },
  {
   "cell_type": "code",
   "execution_count": null,
   "id": "db8652c9-d706-4a74-a0dd-45e181bcafbf",
   "metadata": {},
   "outputs": [],
   "source": [
    "# kody dzielnic miasta Nowy Jork z geodataframe nbhoods\n",
    "nbhoods[[\"BoroName\",\"BoroCode\"]].groupby(\"BoroName\").BoroCode.unique()"
   ]
  },
  {
   "cell_type": "markdown",
   "id": "58c35c98-ea65-4abc-a226-ca66ebef5183",
   "metadata": {},
   "source": [
    "## Analiza danych"
   ]
  },
  {
   "cell_type": "code",
   "execution_count": null,
   "id": "b052a190-8a4c-4708-821b-c25e6d9da7fd",
   "metadata": {},
   "outputs": [],
   "source": [
    "# Rysuję obszary miasta Nowy Jork na podstwaie danych geograficznych zawartych w DataFrame nbhoods\n",
    "fig,ax = plt.subplots(1,1, figsize=(15,15))\n",
    "nbhoods.plot(color=\"orange\",alpha=0.5,edgecolor='black',ax=ax)"
   ]
  },
  {
   "cell_type": "code",
   "execution_count": null,
   "id": "4407ae0f-3f40-4427-b20b-ae79b789f9b5",
   "metadata": {},
   "outputs": [],
   "source": []
  }
 ],
 "metadata": {
  "kernelspec": {
   "display_name": "Python 3 (ipykernel)",
   "language": "python",
   "name": "python3"
  },
  "language_info": {
   "codemirror_mode": {
    "name": "ipython",
    "version": 3
   },
   "file_extension": ".py",
   "mimetype": "text/x-python",
   "name": "python",
   "nbconvert_exporter": "python",
   "pygments_lexer": "ipython3",
   "version": "3.9.2"
  }
 },
 "nbformat": 4,
 "nbformat_minor": 5
}
